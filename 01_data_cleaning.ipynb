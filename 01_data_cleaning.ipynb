{
 "cells": [
  {
   "cell_type": "markdown",
   "id": "9118463c-23f1-465e-a496-13a7c3ae8ef9",
   "metadata": {},
   "source": [
    "# Data Cleaning"
   ]
  },
  {
   "cell_type": "code",
   "execution_count": 1,
   "id": "2707b2c1-7420-4642-914a-966999b05324",
   "metadata": {},
   "outputs": [],
   "source": [
    "import pandas as pd\n",
    "import numpy as np\n",
    "import matplotlib.pyplot as plt\n",
    "import seaborn as sns\n",
    "\n",
    "pd.set_option('display.max_columns', 54)"
   ]
  },
  {
   "cell_type": "code",
   "execution_count": 4,
   "id": "2dc891a8-e057-4ec5-aee6-4e67e09dff92",
   "metadata": {},
   "outputs": [],
   "source": [
    "# reading in the supply chain csv\n",
    "df = pd.read_csv('./DataCoSupplyChainDataset.csv', encoding='latin-1')"
   ]
  },
  {
   "cell_type": "code",
   "execution_count": 5,
   "id": "04f03421-e059-4254-ba8a-6dd3b54c8798",
   "metadata": {},
   "outputs": [
    {
     "data": {
      "text/plain": [
       "(180519, 53)"
      ]
     },
     "execution_count": 5,
     "metadata": {},
     "output_type": "execute_result"
    }
   ],
   "source": [
    "df.shape"
   ]
  },
  {
   "cell_type": "code",
   "execution_count": 6,
   "id": "da3e04ed-941b-47f9-bec2-c255972e9037",
   "metadata": {},
   "outputs": [
    {
     "data": {
      "text/plain": [
       "Type                                  0\n",
       "Days for shipping (real)              0\n",
       "Days for shipment (scheduled)         0\n",
       "Benefit per order                     0\n",
       "Sales per customer                    0\n",
       "Delivery Status                       0\n",
       "Late_delivery_risk                    0\n",
       "Category Id                           0\n",
       "Category Name                         0\n",
       "Customer City                         0\n",
       "Customer Country                      0\n",
       "Customer Email                        0\n",
       "Customer Fname                        0\n",
       "Customer Id                           0\n",
       "Customer Lname                        8\n",
       "Customer Password                     0\n",
       "Customer Segment                      0\n",
       "Customer State                        0\n",
       "Customer Street                       0\n",
       "Customer Zipcode                      3\n",
       "Department Id                         0\n",
       "Department Name                       0\n",
       "Latitude                              0\n",
       "Longitude                             0\n",
       "Market                                0\n",
       "Order City                            0\n",
       "Order Country                         0\n",
       "Order Customer Id                     0\n",
       "order date (DateOrders)               0\n",
       "Order Id                              0\n",
       "Order Item Cardprod Id                0\n",
       "Order Item Discount                   0\n",
       "Order Item Discount Rate              0\n",
       "Order Item Id                         0\n",
       "Order Item Product Price              0\n",
       "Order Item Profit Ratio               0\n",
       "Order Item Quantity                   0\n",
       "Sales                                 0\n",
       "Order Item Total                      0\n",
       "Order Profit Per Order                0\n",
       "Order Region                          0\n",
       "Order State                           0\n",
       "Order Status                          0\n",
       "Order Zipcode                    155679\n",
       "Product Card Id                       0\n",
       "Product Category Id                   0\n",
       "Product Description              180519\n",
       "Product Image                         0\n",
       "Product Name                          0\n",
       "Product Price                         0\n",
       "Product Status                        0\n",
       "shipping date (DateOrders)            0\n",
       "Shipping Mode                         0\n",
       "dtype: int64"
      ]
     },
     "execution_count": 6,
     "metadata": {},
     "output_type": "execute_result"
    }
   ],
   "source": [
    "# checking for missing values\n",
    "df.isnull().sum()"
   ]
  },
  {
   "cell_type": "code",
   "execution_count": 7,
   "id": "c793b2c1-54a7-4d47-b479-6ade7ba35b5a",
   "metadata": {},
   "outputs": [],
   "source": [
    "# product description and Zip code have too many null values to be useful. These cannot be imputed and will be dropped. \n",
    "# Remaining null values are not impactful \n",
    "df.drop(columns = ['Order Zipcode', 'Product Description'], inplace = True)\n",
    "pass"
   ]
  },
  {
   "cell_type": "code",
   "execution_count": 8,
   "id": "5ab99db2-64fe-4c74-be2d-8a1df5e95631",
   "metadata": {},
   "outputs": [],
   "source": [
    "# dropping the following customer fields as they are not value add and in some cases cause privacy concerns\n",
    "df.drop(columns = ['Customer Email', 'Customer Fname', 'Customer Lname', 'Customer Password', 'Customer Street', 'Customer Country'], inplace = True)"
   ]
  },
  {
   "cell_type": "code",
   "execution_count": 9,
   "id": "cd9fdd06-eaee-4af2-bee3-3020243f03c5",
   "metadata": {},
   "outputs": [],
   "source": [
    "# dropping unecessary department features\n",
    "df.drop(columns = ['Department Id'], inplace = True)"
   ]
  },
  {
   "cell_type": "code",
   "execution_count": 10,
   "id": "ebfed791-3b35-488d-897a-4a2c9115ec6b",
   "metadata": {},
   "outputs": [],
   "source": [
    "# dropping unnecessary order features\n",
    "df.drop(columns = ['Order Customer Id', 'Order Item Discount', 'Order Item Cardprod Id', 'Order Item Id', 'Sales',\n",
    "                   'Sales per customer', 'Order Item Total', 'Order Profit Per Order', 'Order Item Product Price', 'Benefit per order'], inplace = True)"
   ]
  },
  {
   "cell_type": "code",
   "execution_count": 11,
   "id": "bbf9a82b-874f-4593-b0d1-cca3e46d4ced",
   "metadata": {},
   "outputs": [],
   "source": [
    "# dropping unnecessary product features\n",
    "df.drop(columns = ['Product Category Id', 'Product Image', 'Product Status'], inplace = True)"
   ]
  },
  {
   "cell_type": "code",
   "execution_count": 12,
   "id": "eaa57939-0851-4129-803f-b4b0ee3cbe91",
   "metadata": {},
   "outputs": [],
   "source": [
    "# renaming columns to be more sensible\n",
    "df.rename(columns = {'order date (DateOrders)': 'order date', 'shipping date (DateOrders)': 'shipping date',\n",
    "                     'Days for shipping (real)': 'actual ship days', 'Days for shipment (scheduled)': 'estimated ship days'}, inplace = True)"
   ]
  },
  {
   "cell_type": "code",
   "execution_count": 13,
   "id": "8eedefc0-e32a-4ece-a4e6-64bfd39fe080",
   "metadata": {},
   "outputs": [],
   "source": [
    "# updating column names to be lower and snake case\n",
    "\n",
    "df.columns= df.columns.str.lower()\n",
    "df.columns= df.columns.str.replace(' ', '_')"
   ]
  },
  {
   "cell_type": "code",
   "execution_count": 14,
   "id": "74e807c0-bab3-40c0-882a-3dd825ff1951",
   "metadata": {},
   "outputs": [
    {
     "name": "stdout",
     "output_type": "stream",
     "text": [
      "<class 'pandas.core.frame.DataFrame'>\n",
      "RangeIndex: 180519 entries, 0 to 180518\n",
      "Data columns (total 31 columns):\n",
      " #   Column                    Non-Null Count   Dtype  \n",
      "---  ------                    --------------   -----  \n",
      " 0   type                      180519 non-null  object \n",
      " 1   actual_ship_days          180519 non-null  int64  \n",
      " 2   estimated_ship_days       180519 non-null  int64  \n",
      " 3   delivery_status           180519 non-null  object \n",
      " 4   late_delivery_risk        180519 non-null  int64  \n",
      " 5   category_id               180519 non-null  int64  \n",
      " 6   category_name             180519 non-null  object \n",
      " 7   customer_city             180519 non-null  object \n",
      " 8   customer_id               180519 non-null  int64  \n",
      " 9   customer_segment          180519 non-null  object \n",
      " 10  customer_state            180519 non-null  object \n",
      " 11  customer_zipcode          180516 non-null  float64\n",
      " 12  department_name           180519 non-null  object \n",
      " 13  latitude                  180519 non-null  float64\n",
      " 14  longitude                 180519 non-null  float64\n",
      " 15  market                    180519 non-null  object \n",
      " 16  order_city                180519 non-null  object \n",
      " 17  order_country             180519 non-null  object \n",
      " 18  order_date                180519 non-null  object \n",
      " 19  order_id                  180519 non-null  int64  \n",
      " 20  order_item_discount_rate  180519 non-null  float64\n",
      " 21  order_item_profit_ratio   180519 non-null  float64\n",
      " 22  order_item_quantity       180519 non-null  int64  \n",
      " 23  order_region              180519 non-null  object \n",
      " 24  order_state               180519 non-null  object \n",
      " 25  order_status              180519 non-null  object \n",
      " 26  product_card_id           180519 non-null  int64  \n",
      " 27  product_name              180519 non-null  object \n",
      " 28  product_price             180519 non-null  float64\n",
      " 29  shipping_date             180519 non-null  object \n",
      " 30  shipping_mode             180519 non-null  object \n",
      "dtypes: float64(6), int64(8), object(17)\n",
      "memory usage: 42.7+ MB\n"
     ]
    }
   ],
   "source": [
    "df.info()"
   ]
  },
  {
   "cell_type": "code",
   "execution_count": 15,
   "id": "8982950f-e136-4d7f-827f-313124c753f7",
   "metadata": {},
   "outputs": [],
   "source": [
    "# converting order and ship date columns to a datetime dtype\n",
    "df['order_date']= pd.to_datetime(df['order_date'])\n",
    "df['shipping_date']= pd.to_datetime(df['shipping_date'])"
   ]
  },
  {
   "cell_type": "code",
   "execution_count": 205,
   "id": "c2ef3faf-dc70-4a93-8572-48f42ec41898",
   "metadata": {},
   "outputs": [
    {
     "data": {
      "text/plain": [
       "type                                object\n",
       "actual_ship_days                     int64\n",
       "estimated_ship_days                  int64\n",
       "delivery_status                     object\n",
       "late_delivery_risk                   int64\n",
       "category_id                          int64\n",
       "category_name                       object\n",
       "customer_city                       object\n",
       "customer_id                          int64\n",
       "customer_segment                    object\n",
       "customer_state                      object\n",
       "customer_zipcode                   float64\n",
       "department_name                     object\n",
       "latitude                           float64\n",
       "longitude                          float64\n",
       "market                              object\n",
       "order_city                          object\n",
       "order_country                       object\n",
       "order_date                  datetime64[ns]\n",
       "order_id                             int64\n",
       "order_item_discount_rate           float64\n",
       "order_item_profit_ratio            float64\n",
       "order_item_quantity                  int64\n",
       "order_region                        object\n",
       "order_state                         object\n",
       "order_status                        object\n",
       "product_card_id                      int64\n",
       "product_name                        object\n",
       "product_price                      float64\n",
       "shipping_date               datetime64[ns]\n",
       "shipping_mode                       object\n",
       "dtype: object"
      ]
     },
     "execution_count": 205,
     "metadata": {},
     "output_type": "execute_result"
    }
   ],
   "source": [
    "df.dtypes"
   ]
  },
  {
   "cell_type": "code",
   "execution_count": 16,
   "id": "3bcd04ab-1ec5-4285-8791-70367f09855a",
   "metadata": {},
   "outputs": [],
   "source": [
    "# create CSV from final DF\n",
    "df.to_csv('./data/ship_clean.csv', index = False)"
   ]
  },
  {
   "cell_type": "code",
   "execution_count": null,
   "id": "08345268-1b5c-4373-a874-384921939e52",
   "metadata": {},
   "outputs": [],
   "source": []
  }
 ],
 "metadata": {
  "kernelspec": {
   "display_name": "Python 3",
   "language": "python",
   "name": "python3"
  },
  "language_info": {
   "codemirror_mode": {
    "name": "ipython",
    "version": 3
   },
   "file_extension": ".py",
   "mimetype": "text/x-python",
   "name": "python",
   "nbconvert_exporter": "python",
   "pygments_lexer": "ipython3",
   "version": "3.8.5"
  }
 },
 "nbformat": 4,
 "nbformat_minor": 5
}

{
 "cells": [
  {
   "cell_type": "code",
   "execution_count": 1,
   "metadata": {},
   "outputs": [],
   "source": [
    "import pandas as pd\n",
    "import numpy as np\n",
    "import matplotlib.pyplot as plt\n",
    "import seaborn as sns\n",
    "import datetime as dt\n",
    "import category_encoders as ce\n",
    "\n",
    "import tensorflow as tf\n",
    "\n",
    "from tensorflow.keras.callbacks import EarlyStopping\n",
    "from tensorflow.keras.layers import Dense, BatchNormalization\n",
    "from tensorflow.keras.models import Sequential\n",
    "\n",
    "\n",
    "from sklearn.ensemble import GradientBoostingClassifier, RandomForestClassifier, ExtraTreesClassifier, AdaBoostClassifier\n",
    "from sklearn.linear_model import LogisticRegression \n",
    "from sklearn.metrics import balanced_accuracy_score, confusion_matrix, ConfusionMatrixDisplay, f1_score, precision_score, recall_score\n",
    "from sklearn.model_selection import train_test_split, GridSearchCV\n",
    "from sklearn.neighbors import KNeighborsClassifier\n",
    "from sklearn.pipeline import make_pipeline, Pipeline\n",
    "from sklearn.preprocessing import OneHotEncoder, StandardScaler\n",
    "\n",
    "from sklearn import svm\n",
    "from sklearn.svm import SVC\n",
    "from sklearn.tree import DecisionTreeClassifier\n",
    "\n",
    "import warnings\n",
    "warnings.filterwarnings(\"ignore\")"
   ]
  },
  {
   "cell_type": "code",
   "execution_count": 2,
   "metadata": {},
   "outputs": [],
   "source": [
    "df = pd.read_csv('./data/ship_clean.csv')"
   ]
  },
  {
   "cell_type": "code",
   "execution_count": 3,
   "metadata": {},
   "outputs": [
    {
     "name": "stdout",
     "output_type": "stream",
     "text": [
      "<class 'pandas.core.frame.DataFrame'>\n",
      "RangeIndex: 180519 entries, 0 to 180518\n",
      "Data columns (total 36 columns):\n",
      " #   Column                    Non-Null Count   Dtype  \n",
      "---  ------                    --------------   -----  \n",
      " 0   type                      180519 non-null  object \n",
      " 1   actual_ship_days          180519 non-null  int64  \n",
      " 2   estimated_ship_days       180519 non-null  int64  \n",
      " 3   delivery_status           180519 non-null  object \n",
      " 4   late_delivery_risk        180519 non-null  int64  \n",
      " 5   category_id               180519 non-null  int64  \n",
      " 6   category_name             180519 non-null  object \n",
      " 7   customer_city             180519 non-null  object \n",
      " 8   customer_id               180519 non-null  int64  \n",
      " 9   customer_segment          180519 non-null  object \n",
      " 10  customer_state            180519 non-null  object \n",
      " 11  customer_zipcode          180516 non-null  float64\n",
      " 12  department_name           180519 non-null  object \n",
      " 13  latitude                  180519 non-null  float64\n",
      " 14  longitude                 180519 non-null  float64\n",
      " 15  market                    180519 non-null  object \n",
      " 16  order_city                180519 non-null  object \n",
      " 17  order_country             180519 non-null  object \n",
      " 18  order_date                180519 non-null  object \n",
      " 19  order_id                  180519 non-null  int64  \n",
      " 20  order_item_discount_rate  180519 non-null  float64\n",
      " 21  order_item_profit_ratio   180519 non-null  float64\n",
      " 22  order_item_quantity       180519 non-null  int64  \n",
      " 23  order_region              180519 non-null  object \n",
      " 24  order_state               180519 non-null  object \n",
      " 25  order_status              180519 non-null  object \n",
      " 26  product_card_id           180519 non-null  int64  \n",
      " 27  product_name              180519 non-null  object \n",
      " 28  product_price             180519 non-null  float64\n",
      " 29  shipping_date             180519 non-null  object \n",
      " 30  shipping_mode             180519 non-null  object \n",
      " 31  ship_performance          180519 non-null  int64  \n",
      " 32  ontime                    180519 non-null  int64  \n",
      " 33  is_fraud                  180519 non-null  int64  \n",
      " 34  order_hour                180519 non-null  int64  \n",
      " 35  order_before_noon         180519 non-null  int64  \n",
      "dtypes: float64(6), int64(13), object(17)\n",
      "memory usage: 49.6+ MB\n"
     ]
    }
   ],
   "source": [
    "df.info()"
   ]
  },
  {
   "cell_type": "code",
   "execution_count": 4,
   "metadata": {},
   "outputs": [
    {
     "data": {
      "text/plain": [
       "Index(['type', 'actual_ship_days', 'estimated_ship_days', 'delivery_status',\n",
       "       'late_delivery_risk', 'category_id', 'category_name', 'customer_city',\n",
       "       'customer_id', 'customer_segment', 'customer_state', 'customer_zipcode',\n",
       "       'department_name', 'latitude', 'longitude', 'market', 'order_city',\n",
       "       'order_country', 'order_date', 'order_id', 'order_item_discount_rate',\n",
       "       'order_item_profit_ratio', 'order_item_quantity', 'order_region',\n",
       "       'order_state', 'order_status', 'product_card_id', 'product_name',\n",
       "       'product_price', 'shipping_date', 'shipping_mode', 'ship_performance',\n",
       "       'ontime', 'is_fraud', 'order_hour', 'order_before_noon'],\n",
       "      dtype='object')"
      ]
     },
     "execution_count": 4,
     "metadata": {},
     "output_type": "execute_result"
    }
   ],
   "source": [
    "df.columns"
   ]
  },
  {
   "cell_type": "code",
   "execution_count": 5,
   "metadata": {},
   "outputs": [],
   "source": [
    "# change order_date and shipping_date features to datetime format-\n",
    "\n",
    "df['order_date'] = pd.to_datetime(df['order_date'])"
   ]
  },
  {
   "cell_type": "code",
   "execution_count": 6,
   "metadata": {},
   "outputs": [],
   "source": [
    "df['shipping_date'] = pd.to_datetime(df['shipping_date'])"
   ]
  },
  {
   "cell_type": "code",
   "execution_count": 7,
   "metadata": {},
   "outputs": [
    {
     "name": "stdout",
     "output_type": "stream",
     "text": [
      "<class 'pandas.core.frame.DataFrame'>\n",
      "RangeIndex: 180519 entries, 0 to 180518\n",
      "Data columns (total 36 columns):\n",
      " #   Column                    Non-Null Count   Dtype         \n",
      "---  ------                    --------------   -----         \n",
      " 0   type                      180519 non-null  object        \n",
      " 1   actual_ship_days          180519 non-null  int64         \n",
      " 2   estimated_ship_days       180519 non-null  int64         \n",
      " 3   delivery_status           180519 non-null  object        \n",
      " 4   late_delivery_risk        180519 non-null  int64         \n",
      " 5   category_id               180519 non-null  int64         \n",
      " 6   category_name             180519 non-null  object        \n",
      " 7   customer_city             180519 non-null  object        \n",
      " 8   customer_id               180519 non-null  int64         \n",
      " 9   customer_segment          180519 non-null  object        \n",
      " 10  customer_state            180519 non-null  object        \n",
      " 11  customer_zipcode          180516 non-null  float64       \n",
      " 12  department_name           180519 non-null  object        \n",
      " 13  latitude                  180519 non-null  float64       \n",
      " 14  longitude                 180519 non-null  float64       \n",
      " 15  market                    180519 non-null  object        \n",
      " 16  order_city                180519 non-null  object        \n",
      " 17  order_country             180519 non-null  object        \n",
      " 18  order_date                180519 non-null  datetime64[ns]\n",
      " 19  order_id                  180519 non-null  int64         \n",
      " 20  order_item_discount_rate  180519 non-null  float64       \n",
      " 21  order_item_profit_ratio   180519 non-null  float64       \n",
      " 22  order_item_quantity       180519 non-null  int64         \n",
      " 23  order_region              180519 non-null  object        \n",
      " 24  order_state               180519 non-null  object        \n",
      " 25  order_status              180519 non-null  object        \n",
      " 26  product_card_id           180519 non-null  int64         \n",
      " 27  product_name              180519 non-null  object        \n",
      " 28  product_price             180519 non-null  float64       \n",
      " 29  shipping_date             180519 non-null  datetime64[ns]\n",
      " 30  shipping_mode             180519 non-null  object        \n",
      " 31  ship_performance          180519 non-null  int64         \n",
      " 32  ontime                    180519 non-null  int64         \n",
      " 33  is_fraud                  180519 non-null  int64         \n",
      " 34  order_hour                180519 non-null  int64         \n",
      " 35  order_before_noon         180519 non-null  int64         \n",
      "dtypes: datetime64[ns](2), float64(6), int64(13), object(15)\n",
      "memory usage: 49.6+ MB\n"
     ]
    }
   ],
   "source": [
    "df.info()"
   ]
  },
  {
   "cell_type": "code",
   "execution_count": 8,
   "metadata": {},
   "outputs": [
    {
     "data": {
      "text/plain": [
       "array(['DEBIT', 'TRANSFER', 'CASH', 'PAYMENT'], dtype=object)"
      ]
     },
     "execution_count": 8,
     "metadata": {},
     "output_type": "execute_result"
    }
   ],
   "source": [
    "# check categorical column value counts to figure out which can be onehotencoded-\n",
    "\n",
    "df['type'].unique()  # ohe"
   ]
  },
  {
   "cell_type": "code",
   "execution_count": 9,
   "metadata": {},
   "outputs": [
    {
     "data": {
      "text/plain": [
       "array(['Advance shipping', 'Late delivery', 'Shipping on time',\n",
       "       'Shipping canceled'], dtype=object)"
      ]
     },
     "execution_count": 9,
     "metadata": {},
     "output_type": "execute_result"
    }
   ],
   "source": [
    "df['delivery_status'].unique()    # drop, colinear with prediction column"
   ]
  },
  {
   "cell_type": "code",
   "execution_count": 10,
   "metadata": {},
   "outputs": [],
   "source": [
    "# df['category_name'].unique()    # too many vals"
   ]
  },
  {
   "cell_type": "code",
   "execution_count": 11,
   "metadata": {},
   "outputs": [],
   "source": [
    "# df['customer_city'].unique()    # too many vals"
   ]
  },
  {
   "cell_type": "code",
   "execution_count": 12,
   "metadata": {},
   "outputs": [
    {
     "data": {
      "text/plain": [
       "array(['Consumer', 'Home Office', 'Corporate'], dtype=object)"
      ]
     },
     "execution_count": 12,
     "metadata": {},
     "output_type": "execute_result"
    }
   ],
   "source": [
    "df['customer_segment'].unique()   # ohe"
   ]
  },
  {
   "cell_type": "code",
   "execution_count": 13,
   "metadata": {},
   "outputs": [],
   "source": [
    "# df['customer_state'].unique()   # too many vals"
   ]
  },
  {
   "cell_type": "code",
   "execution_count": 14,
   "metadata": {},
   "outputs": [
    {
     "data": {
      "text/plain": [
       "array(['Fitness', 'Apparel', 'Golf', 'Footwear', 'Outdoors', 'Fan Shop',\n",
       "       'Technology', 'Book Shop', 'Discs Shop', 'Pet Shop',\n",
       "       'Health and Beauty '], dtype=object)"
      ]
     },
     "execution_count": 14,
     "metadata": {},
     "output_type": "execute_result"
    }
   ],
   "source": [
    "df['department_name'].unique()    # ohe"
   ]
  },
  {
   "cell_type": "code",
   "execution_count": 15,
   "metadata": {},
   "outputs": [
    {
     "data": {
      "text/plain": [
       "array(['Pacific Asia', 'USCA', 'Africa', 'Europe', 'LATAM'], dtype=object)"
      ]
     },
     "execution_count": 15,
     "metadata": {},
     "output_type": "execute_result"
    }
   ],
   "source": [
    "df['market'].unique() # can ohe"
   ]
  },
  {
   "cell_type": "code",
   "execution_count": 16,
   "metadata": {},
   "outputs": [],
   "source": [
    "# df['order_city'].unique()      # too many vals"
   ]
  },
  {
   "cell_type": "code",
   "execution_count": 17,
   "metadata": {},
   "outputs": [],
   "source": [
    "# df['order_country'].unique()   # too many vals"
   ]
  },
  {
   "cell_type": "code",
   "execution_count": 18,
   "metadata": {},
   "outputs": [
    {
     "data": {
      "text/plain": [
       "array(['Southeast Asia', 'South Asia', 'Oceania', 'Eastern Asia',\n",
       "       'West Asia', 'West of USA ', 'US Center ', 'West Africa',\n",
       "       'Central Africa', 'North Africa', 'Western Europe',\n",
       "       'Northern Europe', 'Central America', 'Caribbean', 'South America',\n",
       "       'East Africa', 'Southern Europe', 'East of USA', 'Canada',\n",
       "       'Southern Africa', 'Central Asia', 'Eastern Europe',\n",
       "       'South of  USA '], dtype=object)"
      ]
     },
     "execution_count": 18,
     "metadata": {},
     "output_type": "execute_result"
    }
   ],
   "source": [
    "df['order_region'].unique()      # ohe"
   ]
  },
  {
   "cell_type": "code",
   "execution_count": 19,
   "metadata": {},
   "outputs": [],
   "source": [
    "# df['order_state'].unique()   # too many vals"
   ]
  },
  {
   "cell_type": "code",
   "execution_count": 20,
   "metadata": {},
   "outputs": [
    {
     "data": {
      "text/plain": [
       "array(['COMPLETE', 'PENDING', 'CLOSED', 'PENDING_PAYMENT', 'CANCELED',\n",
       "       'PROCESSING', 'SUSPECTED_FRAUD', 'ON_HOLD', 'PAYMENT_REVIEW'],\n",
       "      dtype=object)"
      ]
     },
     "execution_count": 20,
     "metadata": {},
     "output_type": "execute_result"
    }
   ],
   "source": [
    "df['order_status'].unique()    # ohe"
   ]
  },
  {
   "cell_type": "code",
   "execution_count": 21,
   "metadata": {},
   "outputs": [],
   "source": [
    "# df['product_name'].unique()   # too many vals"
   ]
  },
  {
   "cell_type": "code",
   "execution_count": 22,
   "metadata": {},
   "outputs": [
    {
     "data": {
      "text/plain": [
       "array(['Standard Class', 'First Class', 'Second Class', 'Same Day'],\n",
       "      dtype=object)"
      ]
     },
     "execution_count": 22,
     "metadata": {},
     "output_type": "execute_result"
    }
   ],
   "source": [
    "df['shipping_mode'].unique()    # ohe"
   ]
  },
  {
   "cell_type": "code",
   "execution_count": 23,
   "metadata": {},
   "outputs": [],
   "source": [
    "# drop the categorical variables with too many values, IDed above-\n",
    "\n",
    "X = df.drop(columns=['category_name', 'customer_city', 'customer_state', 'order_city', 'order_country', 'order_state', 'product_name'])"
   ]
  },
  {
   "cell_type": "code",
   "execution_count": 24,
   "metadata": {},
   "outputs": [
    {
     "name": "stdout",
     "output_type": "stream",
     "text": [
      "<class 'pandas.core.frame.DataFrame'>\n",
      "RangeIndex: 180519 entries, 0 to 180518\n",
      "Data columns (total 29 columns):\n",
      " #   Column                    Non-Null Count   Dtype         \n",
      "---  ------                    --------------   -----         \n",
      " 0   type                      180519 non-null  object        \n",
      " 1   actual_ship_days          180519 non-null  int64         \n",
      " 2   estimated_ship_days       180519 non-null  int64         \n",
      " 3   delivery_status           180519 non-null  object        \n",
      " 4   late_delivery_risk        180519 non-null  int64         \n",
      " 5   category_id               180519 non-null  int64         \n",
      " 6   customer_id               180519 non-null  int64         \n",
      " 7   customer_segment          180519 non-null  object        \n",
      " 8   customer_zipcode          180516 non-null  float64       \n",
      " 9   department_name           180519 non-null  object        \n",
      " 10  latitude                  180519 non-null  float64       \n",
      " 11  longitude                 180519 non-null  float64       \n",
      " 12  market                    180519 non-null  object        \n",
      " 13  order_date                180519 non-null  datetime64[ns]\n",
      " 14  order_id                  180519 non-null  int64         \n",
      " 15  order_item_discount_rate  180519 non-null  float64       \n",
      " 16  order_item_profit_ratio   180519 non-null  float64       \n",
      " 17  order_item_quantity       180519 non-null  int64         \n",
      " 18  order_region              180519 non-null  object        \n",
      " 19  order_status              180519 non-null  object        \n",
      " 20  product_card_id           180519 non-null  int64         \n",
      " 21  product_price             180519 non-null  float64       \n",
      " 22  shipping_date             180519 non-null  datetime64[ns]\n",
      " 23  shipping_mode             180519 non-null  object        \n",
      " 24  ship_performance          180519 non-null  int64         \n",
      " 25  ontime                    180519 non-null  int64         \n",
      " 26  is_fraud                  180519 non-null  int64         \n",
      " 27  order_hour                180519 non-null  int64         \n",
      " 28  order_before_noon         180519 non-null  int64         \n",
      "dtypes: datetime64[ns](2), float64(6), int64(13), object(8)\n",
      "memory usage: 39.9+ MB\n"
     ]
    }
   ],
   "source": [
    "X.info()"
   ]
  },
  {
   "cell_type": "code",
   "execution_count": 25,
   "metadata": {},
   "outputs": [],
   "source": [
    "# drop features that overlap with/bias the target (ontime)-\n",
    "\n",
    "X = X.drop(columns=['actual_ship_days', 'late_delivery_risk', 'delivery_status', 'order_status', 'ship_performance', 'ontime'])"
   ]
  },
  {
   "cell_type": "code",
   "execution_count": 26,
   "metadata": {},
   "outputs": [],
   "source": [
    "# drop datetime dtypes-\n",
    "\n",
    "# X = X.drop(columns=['order_date', 'shipping_date'])"
   ]
  },
  {
   "cell_type": "code",
   "execution_count": 27,
   "metadata": {},
   "outputs": [],
   "source": [
    "# drop shipping_date (keep order_date)-\n",
    "\n",
    "# X = X.drop(columns=['shipping_date'])"
   ]
  },
  {
   "cell_type": "code",
   "execution_count": 28,
   "metadata": {},
   "outputs": [],
   "source": [
    "# change order_date from datetime to ordinal so it can be included in X-\n",
    "\n",
    "# X['order_date'] = X['order_date'].map(dt.datetime.toordinal)"
   ]
  },
  {
   "cell_type": "code",
   "execution_count": 29,
   "metadata": {},
   "outputs": [],
   "source": [
    "# drop order_date (keep shipping_date)-\n",
    "\n",
    "X = X.drop(columns=['order_date'])"
   ]
  },
  {
   "cell_type": "code",
   "execution_count": 30,
   "metadata": {},
   "outputs": [],
   "source": [
    "# change shipping_date from datetime to ordinal so it can be included in X-\n",
    "\n",
    "X['shipping_date'] = X['shipping_date'].map(dt.datetime.toordinal)"
   ]
  },
  {
   "cell_type": "code",
   "execution_count": 31,
   "metadata": {},
   "outputs": [
    {
     "data": {
      "text/plain": [
       "(180519, 22)"
      ]
     },
     "execution_count": 31,
     "metadata": {},
     "output_type": "execute_result"
    }
   ],
   "source": [
    "X.shape"
   ]
  },
  {
   "cell_type": "code",
   "execution_count": 32,
   "metadata": {},
   "outputs": [],
   "source": [
    "# drop zipcode, raises an error-\n",
    "\n",
    "X = X.drop(columns=['customer_zipcode'])"
   ]
  },
  {
   "cell_type": "code",
   "execution_count": 33,
   "metadata": {},
   "outputs": [
    {
     "data": {
      "text/plain": [
       "(180519, 21)"
      ]
     },
     "execution_count": 33,
     "metadata": {},
     "output_type": "execute_result"
    }
   ],
   "source": [
    "X.shape"
   ]
  },
  {
   "cell_type": "code",
   "execution_count": 34,
   "metadata": {},
   "outputs": [
    {
     "name": "stdout",
     "output_type": "stream",
     "text": [
      "<class 'pandas.core.frame.DataFrame'>\n",
      "RangeIndex: 180519 entries, 0 to 180518\n",
      "Data columns (total 21 columns):\n",
      " #   Column                    Non-Null Count   Dtype  \n",
      "---  ------                    --------------   -----  \n",
      " 0   type                      180519 non-null  object \n",
      " 1   estimated_ship_days       180519 non-null  int64  \n",
      " 2   category_id               180519 non-null  int64  \n",
      " 3   customer_id               180519 non-null  int64  \n",
      " 4   customer_segment          180519 non-null  object \n",
      " 5   department_name           180519 non-null  object \n",
      " 6   latitude                  180519 non-null  float64\n",
      " 7   longitude                 180519 non-null  float64\n",
      " 8   market                    180519 non-null  object \n",
      " 9   order_id                  180519 non-null  int64  \n",
      " 10  order_item_discount_rate  180519 non-null  float64\n",
      " 11  order_item_profit_ratio   180519 non-null  float64\n",
      " 12  order_item_quantity       180519 non-null  int64  \n",
      " 13  order_region              180519 non-null  object \n",
      " 14  product_card_id           180519 non-null  int64  \n",
      " 15  product_price             180519 non-null  float64\n",
      " 16  shipping_date             180519 non-null  int64  \n",
      " 17  shipping_mode             180519 non-null  object \n",
      " 18  is_fraud                  180519 non-null  int64  \n",
      " 19  order_hour                180519 non-null  int64  \n",
      " 20  order_before_noon         180519 non-null  int64  \n",
      "dtypes: float64(5), int64(10), object(6)\n",
      "memory usage: 28.9+ MB\n"
     ]
    }
   ],
   "source": [
    "X.info()"
   ]
  },
  {
   "cell_type": "code",
   "execution_count": 35,
   "metadata": {},
   "outputs": [],
   "source": [
    "# set y-\n",
    "\n",
    "y = df['ontime']"
   ]
  },
  {
   "cell_type": "code",
   "execution_count": 36,
   "metadata": {},
   "outputs": [
    {
     "data": {
      "text/plain": [
       "0         1\n",
       "1         0\n",
       "2         1\n",
       "3         1\n",
       "4         1\n",
       "         ..\n",
       "180514    1\n",
       "180515    0\n",
       "180516    0\n",
       "180517    1\n",
       "180518    1\n",
       "Name: ontime, Length: 180519, dtype: int64"
      ]
     },
     "execution_count": 36,
     "metadata": {},
     "output_type": "execute_result"
    }
   ],
   "source": [
    "y"
   ]
  },
  {
   "cell_type": "code",
   "execution_count": 37,
   "metadata": {},
   "outputs": [
    {
     "data": {
      "text/plain": [
       "0    0.572793\n",
       "1    0.427207\n",
       "Name: ontime, dtype: float64"
      ]
     },
     "execution_count": 37,
     "metadata": {},
     "output_type": "execute_result"
    }
   ],
   "source": [
    "# get a baseline (57%)-\n",
    "\n",
    "y.value_counts(normalize=True)"
   ]
  },
  {
   "cell_type": "code",
   "execution_count": 38,
   "metadata": {},
   "outputs": [
    {
     "data": {
      "text/plain": [
       "(180519,)"
      ]
     },
     "execution_count": 38,
     "metadata": {},
     "output_type": "execute_result"
    }
   ],
   "source": [
    "y.shape"
   ]
  },
  {
   "cell_type": "code",
   "execution_count": 39,
   "metadata": {},
   "outputs": [
    {
     "name": "stdout",
     "output_type": "stream",
     "text": [
      "<class 'pandas.core.frame.DataFrame'>\n",
      "RangeIndex: 180519 entries, 0 to 180518\n",
      "Data columns (total 21 columns):\n",
      " #   Column                    Non-Null Count   Dtype  \n",
      "---  ------                    --------------   -----  \n",
      " 0   type                      180519 non-null  object \n",
      " 1   estimated_ship_days       180519 non-null  int64  \n",
      " 2   category_id               180519 non-null  int64  \n",
      " 3   customer_id               180519 non-null  int64  \n",
      " 4   customer_segment          180519 non-null  object \n",
      " 5   department_name           180519 non-null  object \n",
      " 6   latitude                  180519 non-null  float64\n",
      " 7   longitude                 180519 non-null  float64\n",
      " 8   market                    180519 non-null  object \n",
      " 9   order_id                  180519 non-null  int64  \n",
      " 10  order_item_discount_rate  180519 non-null  float64\n",
      " 11  order_item_profit_ratio   180519 non-null  float64\n",
      " 12  order_item_quantity       180519 non-null  int64  \n",
      " 13  order_region              180519 non-null  object \n",
      " 14  product_card_id           180519 non-null  int64  \n",
      " 15  product_price             180519 non-null  float64\n",
      " 16  shipping_date             180519 non-null  int64  \n",
      " 17  shipping_mode             180519 non-null  object \n",
      " 18  is_fraud                  180519 non-null  int64  \n",
      " 19  order_hour                180519 non-null  int64  \n",
      " 20  order_before_noon         180519 non-null  int64  \n",
      "dtypes: float64(5), int64(10), object(6)\n",
      "memory usage: 28.9+ MB\n"
     ]
    }
   ],
   "source": [
    "X.info()"
   ]
  },
  {
   "cell_type": "code",
   "execution_count": 40,
   "metadata": {},
   "outputs": [
    {
     "data": {
      "text/plain": [
       "(180519, 21)"
      ]
     },
     "execution_count": 40,
     "metadata": {},
     "output_type": "execute_result"
    }
   ],
   "source": [
    "X.shape"
   ]
  },
  {
   "cell_type": "code",
   "execution_count": 41,
   "metadata": {},
   "outputs": [
    {
     "data": {
      "text/plain": [
       "(180519,)"
      ]
     },
     "execution_count": 41,
     "metadata": {},
     "output_type": "execute_result"
    }
   ],
   "source": [
    "y.shape"
   ]
  },
  {
   "cell_type": "code",
   "execution_count": 42,
   "metadata": {},
   "outputs": [],
   "source": [
    "# intitialize category encoder-\n",
    "\n",
    "ohe = ce.OneHotEncoder()"
   ]
  },
  {
   "cell_type": "code",
   "execution_count": 43,
   "metadata": {},
   "outputs": [],
   "source": [
    "# TTS-\n",
    "\n",
    "X_train, X_test, y_train, y_test = train_test_split(X, y, stratify=y)"
   ]
  },
  {
   "cell_type": "code",
   "execution_count": 44,
   "metadata": {},
   "outputs": [],
   "source": [
    "# onehotencode-\n",
    "\n",
    "X_train = ohe.fit_transform(X_train)"
   ]
  },
  {
   "cell_type": "code",
   "execution_count": 45,
   "metadata": {},
   "outputs": [],
   "source": [
    "X_test = ohe.transform(X_test)"
   ]
  },
  {
   "cell_type": "code",
   "execution_count": 46,
   "metadata": {},
   "outputs": [
    {
     "data": {
      "text/plain": [
       "(135389, 65)"
      ]
     },
     "execution_count": 46,
     "metadata": {},
     "output_type": "execute_result"
    }
   ],
   "source": [
    "X_train.shape"
   ]
  },
  {
   "cell_type": "code",
   "execution_count": 47,
   "metadata": {},
   "outputs": [
    {
     "data": {
      "text/plain": [
       "(45130, 65)"
      ]
     },
     "execution_count": 47,
     "metadata": {},
     "output_type": "execute_result"
    }
   ],
   "source": [
    "X_test.shape"
   ]
  },
  {
   "cell_type": "code",
   "execution_count": 48,
   "metadata": {},
   "outputs": [
    {
     "name": "stdout",
     "output_type": "stream",
     "text": [
      "<class 'pandas.core.frame.DataFrame'>\n",
      "Int64Index: 135389 entries, 115183 to 84536\n",
      "Data columns (total 65 columns):\n",
      " #   Column                    Non-Null Count   Dtype  \n",
      "---  ------                    --------------   -----  \n",
      " 0   type_1                    135389 non-null  int64  \n",
      " 1   type_2                    135389 non-null  int64  \n",
      " 2   type_3                    135389 non-null  int64  \n",
      " 3   type_4                    135389 non-null  int64  \n",
      " 4   estimated_ship_days       135389 non-null  int64  \n",
      " 5   category_id               135389 non-null  int64  \n",
      " 6   customer_id               135389 non-null  int64  \n",
      " 7   customer_segment_1        135389 non-null  int64  \n",
      " 8   customer_segment_2        135389 non-null  int64  \n",
      " 9   customer_segment_3        135389 non-null  int64  \n",
      " 10  department_name_1         135389 non-null  int64  \n",
      " 11  department_name_2         135389 non-null  int64  \n",
      " 12  department_name_3         135389 non-null  int64  \n",
      " 13  department_name_4         135389 non-null  int64  \n",
      " 14  department_name_5         135389 non-null  int64  \n",
      " 15  department_name_6         135389 non-null  int64  \n",
      " 16  department_name_7         135389 non-null  int64  \n",
      " 17  department_name_8         135389 non-null  int64  \n",
      " 18  department_name_9         135389 non-null  int64  \n",
      " 19  department_name_10        135389 non-null  int64  \n",
      " 20  department_name_11        135389 non-null  int64  \n",
      " 21  latitude                  135389 non-null  float64\n",
      " 22  longitude                 135389 non-null  float64\n",
      " 23  market_1                  135389 non-null  int64  \n",
      " 24  market_2                  135389 non-null  int64  \n",
      " 25  market_3                  135389 non-null  int64  \n",
      " 26  market_4                  135389 non-null  int64  \n",
      " 27  market_5                  135389 non-null  int64  \n",
      " 28  order_id                  135389 non-null  int64  \n",
      " 29  order_item_discount_rate  135389 non-null  float64\n",
      " 30  order_item_profit_ratio   135389 non-null  float64\n",
      " 31  order_item_quantity       135389 non-null  int64  \n",
      " 32  order_region_1            135389 non-null  int64  \n",
      " 33  order_region_2            135389 non-null  int64  \n",
      " 34  order_region_3            135389 non-null  int64  \n",
      " 35  order_region_4            135389 non-null  int64  \n",
      " 36  order_region_5            135389 non-null  int64  \n",
      " 37  order_region_6            135389 non-null  int64  \n",
      " 38  order_region_7            135389 non-null  int64  \n",
      " 39  order_region_8            135389 non-null  int64  \n",
      " 40  order_region_9            135389 non-null  int64  \n",
      " 41  order_region_10           135389 non-null  int64  \n",
      " 42  order_region_11           135389 non-null  int64  \n",
      " 43  order_region_12           135389 non-null  int64  \n",
      " 44  order_region_13           135389 non-null  int64  \n",
      " 45  order_region_14           135389 non-null  int64  \n",
      " 46  order_region_15           135389 non-null  int64  \n",
      " 47  order_region_16           135389 non-null  int64  \n",
      " 48  order_region_17           135389 non-null  int64  \n",
      " 49  order_region_18           135389 non-null  int64  \n",
      " 50  order_region_19           135389 non-null  int64  \n",
      " 51  order_region_20           135389 non-null  int64  \n",
      " 52  order_region_21           135389 non-null  int64  \n",
      " 53  order_region_22           135389 non-null  int64  \n",
      " 54  order_region_23           135389 non-null  int64  \n",
      " 55  product_card_id           135389 non-null  int64  \n",
      " 56  product_price             135389 non-null  float64\n",
      " 57  shipping_date             135389 non-null  int64  \n",
      " 58  shipping_mode_1           135389 non-null  int64  \n",
      " 59  shipping_mode_2           135389 non-null  int64  \n",
      " 60  shipping_mode_3           135389 non-null  int64  \n",
      " 61  shipping_mode_4           135389 non-null  int64  \n",
      " 62  is_fraud                  135389 non-null  int64  \n",
      " 63  order_hour                135389 non-null  int64  \n",
      " 64  order_before_noon         135389 non-null  int64  \n",
      "dtypes: float64(5), int64(60)\n",
      "memory usage: 68.2 MB\n"
     ]
    }
   ],
   "source": [
    "X_train.info()"
   ]
  },
  {
   "cell_type": "code",
   "execution_count": 49,
   "metadata": {},
   "outputs": [],
   "source": [
    "# scale-\n",
    "\n",
    "ss = StandardScaler()\n",
    "X_train_sc = ss.fit_transform(X_train)\n",
    "X_test_sc = ss.transform(X_test)"
   ]
  },
  {
   "cell_type": "code",
   "execution_count": 50,
   "metadata": {},
   "outputs": [
    {
     "data": {
      "text/plain": [
       "array([[ 1.6176337 , -0.78691413, -0.54959547, ..., -0.15224424,\n",
       "         0.36277663, -1.00046543],\n",
       "       [-0.61818692,  1.27078668, -0.54959547, ..., -0.15224424,\n",
       "         1.51910961, -1.00046543],\n",
       "       [ 1.6176337 , -0.78691413, -0.54959547, ..., -0.15224424,\n",
       "        -1.22718121,  0.99953478],\n",
       "       ...,\n",
       "       [-0.61818692,  1.27078668, -0.54959547, ..., -0.15224424,\n",
       "         0.7964015 , -1.00046543],\n",
       "       [-0.61818692, -0.78691413,  1.81952008, ..., -0.15224424,\n",
       "        -0.35993147,  0.99953478],\n",
       "       [ 1.6176337 , -0.78691413, -0.54959547, ..., -0.15224424,\n",
       "         0.94094312, -1.00046543]])"
      ]
     },
     "execution_count": 50,
     "metadata": {},
     "output_type": "execute_result"
    }
   ],
   "source": [
    "X_train_sc"
   ]
  },
  {
   "cell_type": "code",
   "execution_count": 51,
   "metadata": {},
   "outputs": [],
   "source": [
    "# make into a df (not sure this is necessary but whateva)-\n",
    "\n",
    "X_train_sc = pd.DataFrame(X_train_sc)"
   ]
  },
  {
   "cell_type": "code",
   "execution_count": 52,
   "metadata": {},
   "outputs": [
    {
     "data": {
      "text/html": [
       "<div>\n",
       "<style scoped>\n",
       "    .dataframe tbody tr th:only-of-type {\n",
       "        vertical-align: middle;\n",
       "    }\n",
       "\n",
       "    .dataframe tbody tr th {\n",
       "        vertical-align: top;\n",
       "    }\n",
       "\n",
       "    .dataframe thead th {\n",
       "        text-align: right;\n",
       "    }\n",
       "</style>\n",
       "<table border=\"1\" class=\"dataframe\">\n",
       "  <thead>\n",
       "    <tr style=\"text-align: right;\">\n",
       "      <th></th>\n",
       "      <th>0</th>\n",
       "      <th>1</th>\n",
       "      <th>2</th>\n",
       "      <th>3</th>\n",
       "      <th>4</th>\n",
       "      <th>5</th>\n",
       "      <th>6</th>\n",
       "      <th>7</th>\n",
       "      <th>8</th>\n",
       "      <th>9</th>\n",
       "      <th>...</th>\n",
       "      <th>55</th>\n",
       "      <th>56</th>\n",
       "      <th>57</th>\n",
       "      <th>58</th>\n",
       "      <th>59</th>\n",
       "      <th>60</th>\n",
       "      <th>61</th>\n",
       "      <th>62</th>\n",
       "      <th>63</th>\n",
       "      <th>64</th>\n",
       "    </tr>\n",
       "  </thead>\n",
       "  <tbody>\n",
       "    <tr>\n",
       "      <th>0</th>\n",
       "      <td>1.617634</td>\n",
       "      <td>-0.786914</td>\n",
       "      <td>-0.549595</td>\n",
       "      <td>-0.349944</td>\n",
       "      <td>0.777501</td>\n",
       "      <td>0.839997</td>\n",
       "      <td>0.967616</td>\n",
       "      <td>0.965303</td>\n",
       "      <td>-0.661711</td>\n",
       "      <td>-0.465071</td>\n",
       "      <td>...</td>\n",
       "      <td>0.925719</td>\n",
       "      <td>1.857858</td>\n",
       "      <td>1.508686</td>\n",
       "      <td>0.822243</td>\n",
       "      <td>-0.426388</td>\n",
       "      <td>-0.492767</td>\n",
       "      <td>-0.239282</td>\n",
       "      <td>-0.152244</td>\n",
       "      <td>0.362777</td>\n",
       "      <td>-1.000465</td>\n",
       "    </tr>\n",
       "    <tr>\n",
       "      <th>1</th>\n",
       "      <td>-0.618187</td>\n",
       "      <td>1.270787</td>\n",
       "      <td>-0.549595</td>\n",
       "      <td>-0.349944</td>\n",
       "      <td>-1.404672</td>\n",
       "      <td>2.566165</td>\n",
       "      <td>2.978779</td>\n",
       "      <td>0.965303</td>\n",
       "      <td>-0.661711</td>\n",
       "      <td>-0.465071</td>\n",
       "      <td>...</td>\n",
       "      <td>1.981113</td>\n",
       "      <td>-0.406324</td>\n",
       "      <td>1.859948</td>\n",
       "      <td>-1.216185</td>\n",
       "      <td>2.345280</td>\n",
       "      <td>-0.492767</td>\n",
       "      <td>-0.239282</td>\n",
       "      <td>-0.152244</td>\n",
       "      <td>1.519110</td>\n",
       "      <td>-1.000465</td>\n",
       "    </tr>\n",
       "    <tr>\n",
       "      <th>2</th>\n",
       "      <td>1.617634</td>\n",
       "      <td>-0.786914</td>\n",
       "      <td>-0.549595</td>\n",
       "      <td>-0.349944</td>\n",
       "      <td>0.777501</td>\n",
       "      <td>0.712133</td>\n",
       "      <td>-1.037072</td>\n",
       "      <td>0.965303</td>\n",
       "      <td>-0.661711</td>\n",
       "      <td>-0.465071</td>\n",
       "      <td>...</td>\n",
       "      <td>0.785991</td>\n",
       "      <td>1.140391</td>\n",
       "      <td>-0.426507</td>\n",
       "      <td>0.822243</td>\n",
       "      <td>-0.426388</td>\n",
       "      <td>-0.492767</td>\n",
       "      <td>-0.239282</td>\n",
       "      <td>-0.152244</td>\n",
       "      <td>-1.227181</td>\n",
       "      <td>0.999535</td>\n",
       "    </tr>\n",
       "    <tr>\n",
       "      <th>3</th>\n",
       "      <td>-0.618187</td>\n",
       "      <td>-0.786914</td>\n",
       "      <td>1.819520</td>\n",
       "      <td>-0.349944</td>\n",
       "      <td>-0.677281</td>\n",
       "      <td>0.903929</td>\n",
       "      <td>0.027619</td>\n",
       "      <td>-1.035944</td>\n",
       "      <td>1.511234</td>\n",
       "      <td>-0.465071</td>\n",
       "      <td>...</td>\n",
       "      <td>0.955449</td>\n",
       "      <td>-0.653276</td>\n",
       "      <td>0.074366</td>\n",
       "      <td>-1.216185</td>\n",
       "      <td>-0.426388</td>\n",
       "      <td>2.029357</td>\n",
       "      <td>-0.239282</td>\n",
       "      <td>-0.152244</td>\n",
       "      <td>-0.649015</td>\n",
       "      <td>0.999535</td>\n",
       "    </tr>\n",
       "    <tr>\n",
       "      <th>4</th>\n",
       "      <td>-0.618187</td>\n",
       "      <td>-0.786914</td>\n",
       "      <td>1.819520</td>\n",
       "      <td>-0.349944</td>\n",
       "      <td>0.777501</td>\n",
       "      <td>1.031793</td>\n",
       "      <td>0.833571</td>\n",
       "      <td>-1.035944</td>\n",
       "      <td>1.511234</td>\n",
       "      <td>-0.465071</td>\n",
       "      <td>...</td>\n",
       "      <td>1.130852</td>\n",
       "      <td>0.422996</td>\n",
       "      <td>-1.080245</td>\n",
       "      <td>0.822243</td>\n",
       "      <td>-0.426388</td>\n",
       "      <td>-0.492767</td>\n",
       "      <td>-0.239282</td>\n",
       "      <td>-0.152244</td>\n",
       "      <td>1.663651</td>\n",
       "      <td>-1.000465</td>\n",
       "    </tr>\n",
       "    <tr>\n",
       "      <th>...</th>\n",
       "      <td>...</td>\n",
       "      <td>...</td>\n",
       "      <td>...</td>\n",
       "      <td>...</td>\n",
       "      <td>...</td>\n",
       "      <td>...</td>\n",
       "      <td>...</td>\n",
       "      <td>...</td>\n",
       "      <td>...</td>\n",
       "      <td>...</td>\n",
       "      <td>...</td>\n",
       "      <td>...</td>\n",
       "      <td>...</td>\n",
       "      <td>...</td>\n",
       "      <td>...</td>\n",
       "      <td>...</td>\n",
       "      <td>...</td>\n",
       "      <td>...</td>\n",
       "      <td>...</td>\n",
       "      <td>...</td>\n",
       "      <td>...</td>\n",
       "    </tr>\n",
       "    <tr>\n",
       "      <th>135384</th>\n",
       "      <td>-0.618187</td>\n",
       "      <td>1.270787</td>\n",
       "      <td>-0.549595</td>\n",
       "      <td>-0.349944</td>\n",
       "      <td>0.777501</td>\n",
       "      <td>-0.182917</td>\n",
       "      <td>-0.048636</td>\n",
       "      <td>0.965303</td>\n",
       "      <td>-0.661711</td>\n",
       "      <td>-0.465071</td>\n",
       "      <td>...</td>\n",
       "      <td>-0.195080</td>\n",
       "      <td>-0.724951</td>\n",
       "      <td>-1.672186</td>\n",
       "      <td>0.822243</td>\n",
       "      <td>-0.426388</td>\n",
       "      <td>-0.492767</td>\n",
       "      <td>-0.239282</td>\n",
       "      <td>-0.152244</td>\n",
       "      <td>-0.649015</td>\n",
       "      <td>0.999535</td>\n",
       "    </tr>\n",
       "    <tr>\n",
       "      <th>135385</th>\n",
       "      <td>-0.618187</td>\n",
       "      <td>1.270787</td>\n",
       "      <td>-0.549595</td>\n",
       "      <td>-0.349944</td>\n",
       "      <td>-1.404672</td>\n",
       "      <td>1.031793</td>\n",
       "      <td>-0.211457</td>\n",
       "      <td>-1.035944</td>\n",
       "      <td>1.511234</td>\n",
       "      <td>-0.465071</td>\n",
       "      <td>...</td>\n",
       "      <td>1.130852</td>\n",
       "      <td>0.422996</td>\n",
       "      <td>0.428881</td>\n",
       "      <td>-1.216185</td>\n",
       "      <td>2.345280</td>\n",
       "      <td>-0.492767</td>\n",
       "      <td>-0.239282</td>\n",
       "      <td>-0.152244</td>\n",
       "      <td>-0.649015</td>\n",
       "      <td>0.999535</td>\n",
       "    </tr>\n",
       "    <tr>\n",
       "      <th>135386</th>\n",
       "      <td>-0.618187</td>\n",
       "      <td>1.270787</td>\n",
       "      <td>-0.549595</td>\n",
       "      <td>-0.349944</td>\n",
       "      <td>0.777501</td>\n",
       "      <td>0.839997</td>\n",
       "      <td>1.205014</td>\n",
       "      <td>0.965303</td>\n",
       "      <td>-0.661711</td>\n",
       "      <td>-0.465071</td>\n",
       "      <td>...</td>\n",
       "      <td>0.925719</td>\n",
       "      <td>1.857858</td>\n",
       "      <td>0.015823</td>\n",
       "      <td>0.822243</td>\n",
       "      <td>-0.426388</td>\n",
       "      <td>-0.492767</td>\n",
       "      <td>-0.239282</td>\n",
       "      <td>-0.152244</td>\n",
       "      <td>0.796402</td>\n",
       "      <td>-1.000465</td>\n",
       "    </tr>\n",
       "    <tr>\n",
       "      <th>135387</th>\n",
       "      <td>-0.618187</td>\n",
       "      <td>-0.786914</td>\n",
       "      <td>1.819520</td>\n",
       "      <td>-0.349944</td>\n",
       "      <td>0.777501</td>\n",
       "      <td>-0.886171</td>\n",
       "      <td>1.146503</td>\n",
       "      <td>0.965303</td>\n",
       "      <td>-0.661711</td>\n",
       "      <td>-0.465071</td>\n",
       "      <td>...</td>\n",
       "      <td>-0.861018</td>\n",
       "      <td>-0.079231</td>\n",
       "      <td>0.981793</td>\n",
       "      <td>0.822243</td>\n",
       "      <td>-0.426388</td>\n",
       "      <td>-0.492767</td>\n",
       "      <td>-0.239282</td>\n",
       "      <td>-0.152244</td>\n",
       "      <td>-0.359931</td>\n",
       "      <td>0.999535</td>\n",
       "    </tr>\n",
       "    <tr>\n",
       "      <th>135388</th>\n",
       "      <td>1.617634</td>\n",
       "      <td>-0.786914</td>\n",
       "      <td>-0.549595</td>\n",
       "      <td>-0.349944</td>\n",
       "      <td>-0.677281</td>\n",
       "      <td>-1.461560</td>\n",
       "      <td>-1.463189</td>\n",
       "      <td>-1.035944</td>\n",
       "      <td>1.511234</td>\n",
       "      <td>-0.465071</td>\n",
       "      <td>...</td>\n",
       "      <td>-1.491282</td>\n",
       "      <td>-0.294471</td>\n",
       "      <td>1.479414</td>\n",
       "      <td>-1.216185</td>\n",
       "      <td>-0.426388</td>\n",
       "      <td>2.029357</td>\n",
       "      <td>-0.239282</td>\n",
       "      <td>-0.152244</td>\n",
       "      <td>0.940943</td>\n",
       "      <td>-1.000465</td>\n",
       "    </tr>\n",
       "  </tbody>\n",
       "</table>\n",
       "<p>135389 rows × 65 columns</p>\n",
       "</div>"
      ],
      "text/plain": [
       "              0         1         2         3         4         5         6   \\\n",
       "0       1.617634 -0.786914 -0.549595 -0.349944  0.777501  0.839997  0.967616   \n",
       "1      -0.618187  1.270787 -0.549595 -0.349944 -1.404672  2.566165  2.978779   \n",
       "2       1.617634 -0.786914 -0.549595 -0.349944  0.777501  0.712133 -1.037072   \n",
       "3      -0.618187 -0.786914  1.819520 -0.349944 -0.677281  0.903929  0.027619   \n",
       "4      -0.618187 -0.786914  1.819520 -0.349944  0.777501  1.031793  0.833571   \n",
       "...          ...       ...       ...       ...       ...       ...       ...   \n",
       "135384 -0.618187  1.270787 -0.549595 -0.349944  0.777501 -0.182917 -0.048636   \n",
       "135385 -0.618187  1.270787 -0.549595 -0.349944 -1.404672  1.031793 -0.211457   \n",
       "135386 -0.618187  1.270787 -0.549595 -0.349944  0.777501  0.839997  1.205014   \n",
       "135387 -0.618187 -0.786914  1.819520 -0.349944  0.777501 -0.886171  1.146503   \n",
       "135388  1.617634 -0.786914 -0.549595 -0.349944 -0.677281 -1.461560 -1.463189   \n",
       "\n",
       "              7         8         9   ...        55        56        57  \\\n",
       "0       0.965303 -0.661711 -0.465071  ...  0.925719  1.857858  1.508686   \n",
       "1       0.965303 -0.661711 -0.465071  ...  1.981113 -0.406324  1.859948   \n",
       "2       0.965303 -0.661711 -0.465071  ...  0.785991  1.140391 -0.426507   \n",
       "3      -1.035944  1.511234 -0.465071  ...  0.955449 -0.653276  0.074366   \n",
       "4      -1.035944  1.511234 -0.465071  ...  1.130852  0.422996 -1.080245   \n",
       "...          ...       ...       ...  ...       ...       ...       ...   \n",
       "135384  0.965303 -0.661711 -0.465071  ... -0.195080 -0.724951 -1.672186   \n",
       "135385 -1.035944  1.511234 -0.465071  ...  1.130852  0.422996  0.428881   \n",
       "135386  0.965303 -0.661711 -0.465071  ...  0.925719  1.857858  0.015823   \n",
       "135387  0.965303 -0.661711 -0.465071  ... -0.861018 -0.079231  0.981793   \n",
       "135388 -1.035944  1.511234 -0.465071  ... -1.491282 -0.294471  1.479414   \n",
       "\n",
       "              58        59        60        61        62        63        64  \n",
       "0       0.822243 -0.426388 -0.492767 -0.239282 -0.152244  0.362777 -1.000465  \n",
       "1      -1.216185  2.345280 -0.492767 -0.239282 -0.152244  1.519110 -1.000465  \n",
       "2       0.822243 -0.426388 -0.492767 -0.239282 -0.152244 -1.227181  0.999535  \n",
       "3      -1.216185 -0.426388  2.029357 -0.239282 -0.152244 -0.649015  0.999535  \n",
       "4       0.822243 -0.426388 -0.492767 -0.239282 -0.152244  1.663651 -1.000465  \n",
       "...          ...       ...       ...       ...       ...       ...       ...  \n",
       "135384  0.822243 -0.426388 -0.492767 -0.239282 -0.152244 -0.649015  0.999535  \n",
       "135385 -1.216185  2.345280 -0.492767 -0.239282 -0.152244 -0.649015  0.999535  \n",
       "135386  0.822243 -0.426388 -0.492767 -0.239282 -0.152244  0.796402 -1.000465  \n",
       "135387  0.822243 -0.426388 -0.492767 -0.239282 -0.152244 -0.359931  0.999535  \n",
       "135388 -1.216185 -0.426388  2.029357 -0.239282 -0.152244  0.940943 -1.000465  \n",
       "\n",
       "[135389 rows x 65 columns]"
      ]
     },
     "execution_count": 52,
     "metadata": {},
     "output_type": "execute_result"
    }
   ],
   "source": [
    "X_train_sc"
   ]
  },
  {
   "cell_type": "code",
   "execution_count": 53,
   "metadata": {},
   "outputs": [
    {
     "data": {
      "text/plain": [
       "(135389, 65)"
      ]
     },
     "execution_count": 53,
     "metadata": {},
     "output_type": "execute_result"
    }
   ],
   "source": [
    "X_train_sc.shape"
   ]
  },
  {
   "cell_type": "code",
   "execution_count": 54,
   "metadata": {},
   "outputs": [],
   "source": [
    "# make into a df-\n",
    "\n",
    "X_test_sc = pd.DataFrame(X_test_sc)"
   ]
  },
  {
   "cell_type": "code",
   "execution_count": 55,
   "metadata": {},
   "outputs": [
    {
     "data": {
      "text/plain": [
       "(45130, 65)"
      ]
     },
     "execution_count": 55,
     "metadata": {},
     "output_type": "execute_result"
    }
   ],
   "source": [
    "X_test_sc.shape"
   ]
  },
  {
   "cell_type": "code",
   "execution_count": 56,
   "metadata": {},
   "outputs": [],
   "source": [
    "# define Rachael's function-\n",
    "\n",
    "def pipe(model):\n",
    "    #instantiate model\n",
    "    model = model()\n",
    "    #fit to scaled data\n",
    "    model.fit(X_train_sc, y_train)\n",
    "    \n",
    "    #make predictions\n",
    "    predictions = model.predict(X_test_sc)\n",
    "    #print accuracy scores for training and testing groups\n",
    "    print(f'{model} training score: {model.score(X_train_sc, y_train)}')\n",
    "    print(f'{model} testing score: {model.score(X_test_sc, y_test)}')\n",
    "    \n",
    "    return\n",
    "\n",
    "# from:\n",
    "# Rachael Friedman\n",
    "# https://towardsdatascience.com/how-to-make-your-modeling-process-more-efficient-89e70259839d"
   ]
  },
  {
   "cell_type": "code",
   "execution_count": 318,
   "metadata": {},
   "outputs": [
    {
     "name": "stdout",
     "output_type": "stream",
     "text": [
      "LogisticRegression() training score: 0.8037506739838539\n",
      "LogisticRegression() testing score: 0.7992687790826501\n"
     ]
    }
   ],
   "source": [
    "# run it across the various models to get an initial sense of performance-\n",
    "# these were all run across the older df, no order_hour or order_before_noon features\n",
    "\n",
    "pipe(LogisticRegression)\n",
    "\n",
    "# this is with shipping_date included in X, so it may be gaming the model"
   ]
  },
  {
   "cell_type": "code",
   "execution_count": 319,
   "metadata": {},
   "outputs": [
    {
     "name": "stdout",
     "output_type": "stream",
     "text": [
      "DecisionTreeClassifier() training score: 1.0\n",
      "DecisionTreeClassifier() testing score: 0.9286727232439619\n"
     ]
    }
   ],
   "source": [
    "pipe(DecisionTreeClassifier)\n",
    "\n",
    "# same"
   ]
  },
  {
   "cell_type": "code",
   "execution_count": null,
   "metadata": {},
   "outputs": [],
   "source": [
    "pipe(KNeighborsClassifier)\n",
    "\n",
    "# these 2 kept sticking so I didn't run them"
   ]
  },
  {
   "cell_type": "code",
   "execution_count": null,
   "metadata": {},
   "outputs": [],
   "source": [
    "pipe(SVC)"
   ]
  },
  {
   "cell_type": "code",
   "execution_count": 402,
   "metadata": {},
   "outputs": [
    {
     "name": "stdout",
     "output_type": "stream",
     "text": [
      "RandomForestClassifier() training score: 1.0\n",
      "RandomForestClassifier() testing score: 0.7831376024817195\n"
     ]
    }
   ],
   "source": [
    "pipe(RandomForestClassifier)"
   ]
  },
  {
   "cell_type": "code",
   "execution_count": 405,
   "metadata": {},
   "outputs": [
    {
     "name": "stdout",
     "output_type": "stream",
     "text": [
      "AdaBoostClassifier() training score: 0.7009875248358434\n",
      "AdaBoostClassifier() testing score: 0.6997784179038333\n"
     ]
    }
   ],
   "source": [
    "pipe(AdaBoostClassifier)"
   ]
  },
  {
   "cell_type": "code",
   "execution_count": 406,
   "metadata": {},
   "outputs": [
    {
     "name": "stdout",
     "output_type": "stream",
     "text": [
      "GradientBoostingClassifier() training score: 0.7057441889666073\n",
      "GradientBoostingClassifier() testing score: 0.7046532240194993\n"
     ]
    }
   ],
   "source": [
    "pipe(GradientBoostingClassifier)"
   ]
  },
  {
   "cell_type": "code",
   "execution_count": 407,
   "metadata": {},
   "outputs": [
    {
     "name": "stdout",
     "output_type": "stream",
     "text": [
      "ExtraTreesClassifier() training score: 1.0\n",
      "ExtraTreesClassifier() testing score: 0.7567693330378905\n"
     ]
    }
   ],
   "source": [
    "pipe(ExtraTreesClassifier)"
   ]
  },
  {
   "cell_type": "code",
   "execution_count": 59,
   "metadata": {},
   "outputs": [
    {
     "name": "stdout",
     "output_type": "stream",
     "text": [
      "<class 'pandas.core.frame.DataFrame'>\n",
      "RangeIndex: 180519 entries, 0 to 180518\n",
      "Data columns (total 36 columns):\n",
      " #   Column                    Non-Null Count   Dtype         \n",
      "---  ------                    --------------   -----         \n",
      " 0   type                      180519 non-null  object        \n",
      " 1   actual_ship_days          180519 non-null  int64         \n",
      " 2   estimated_ship_days       180519 non-null  int64         \n",
      " 3   delivery_status           180519 non-null  object        \n",
      " 4   late_delivery_risk        180519 non-null  int64         \n",
      " 5   category_id               180519 non-null  int64         \n",
      " 6   category_name             180519 non-null  object        \n",
      " 7   customer_city             180519 non-null  object        \n",
      " 8   customer_id               180519 non-null  int64         \n",
      " 9   customer_segment          180519 non-null  object        \n",
      " 10  customer_state            180519 non-null  object        \n",
      " 11  customer_zipcode          180516 non-null  float64       \n",
      " 12  department_name           180519 non-null  object        \n",
      " 13  latitude                  180519 non-null  float64       \n",
      " 14  longitude                 180519 non-null  float64       \n",
      " 15  market                    180519 non-null  object        \n",
      " 16  order_city                180519 non-null  object        \n",
      " 17  order_country             180519 non-null  object        \n",
      " 18  order_date                180519 non-null  datetime64[ns]\n",
      " 19  order_id                  180519 non-null  int64         \n",
      " 20  order_item_discount_rate  180519 non-null  float64       \n",
      " 21  order_item_profit_ratio   180519 non-null  float64       \n",
      " 22  order_item_quantity       180519 non-null  int64         \n",
      " 23  order_region              180519 non-null  object        \n",
      " 24  order_state               180519 non-null  object        \n",
      " 25  order_status              180519 non-null  object        \n",
      " 26  product_card_id           180519 non-null  int64         \n",
      " 27  product_name              180519 non-null  object        \n",
      " 28  product_price             180519 non-null  float64       \n",
      " 29  shipping_date             180519 non-null  datetime64[ns]\n",
      " 30  shipping_mode             180519 non-null  object        \n",
      " 31  ship_performance          180519 non-null  int64         \n",
      " 32  ontime                    180519 non-null  int64         \n",
      " 33  is_fraud                  180519 non-null  int64         \n",
      " 34  order_hour                180519 non-null  int64         \n",
      " 35  order_before_noon         180519 non-null  int64         \n",
      "dtypes: datetime64[ns](2), float64(6), int64(13), object(15)\n",
      "memory usage: 49.6+ MB\n"
     ]
    }
   ],
   "source": [
    "df.info()"
   ]
  },
  {
   "cell_type": "code",
   "execution_count": 64,
   "metadata": {},
   "outputs": [],
   "source": [
    "X = df[['order_date']]"
   ]
  },
  {
   "cell_type": "code",
   "execution_count": 65,
   "metadata": {},
   "outputs": [
    {
     "data": {
      "text/plain": [
       "(180519,)"
      ]
     },
     "execution_count": 65,
     "metadata": {},
     "output_type": "execute_result"
    }
   ],
   "source": [
    "y.shape"
   ]
  },
  {
   "cell_type": "code",
   "execution_count": 66,
   "metadata": {},
   "outputs": [
    {
     "data": {
      "text/plain": [
       "(180519, 1)"
      ]
     },
     "execution_count": 66,
     "metadata": {},
     "output_type": "execute_result"
    }
   ],
   "source": [
    "X.shape"
   ]
  },
  {
   "cell_type": "code",
   "execution_count": 67,
   "metadata": {},
   "outputs": [],
   "source": [
    "X_train, X_test, y_train, y_test = train_test_split(X, y, stratify=y)"
   ]
  },
  {
   "cell_type": "code",
   "execution_count": 71,
   "metadata": {},
   "outputs": [],
   "source": [
    "knn = KNeighborsClassifier(n_neighbors=1)"
   ]
  },
  {
   "cell_type": "code",
   "execution_count": 72,
   "metadata": {},
   "outputs": [
    {
     "data": {
      "text/plain": [
       "KNeighborsClassifier(n_neighbors=1)"
      ]
     },
     "execution_count": 72,
     "metadata": {},
     "output_type": "execute_result"
    }
   ],
   "source": [
    "knn.fit(X_train, y_train)"
   ]
  },
  {
   "cell_type": "code",
   "execution_count": 73,
   "metadata": {},
   "outputs": [
    {
     "data": {
      "text/plain": [
       "0.938533126523377"
      ]
     },
     "execution_count": 73,
     "metadata": {},
     "output_type": "execute_result"
    }
   ],
   "source": [
    "knn.score(X_test, y_test)"
   ]
  },
  {
   "cell_type": "code",
   "execution_count": 57,
   "metadata": {},
   "outputs": [
    {
     "name": "stdout",
     "output_type": "stream",
     "text": [
      "LogisticRegression() training score: 0.8087658524695507\n",
      "LogisticRegression() testing score: 0.8068690449811655\n"
     ]
    }
   ],
   "source": [
    "pipe(LogisticRegression)\n",
    "\n",
    "# run with shipping_date in X, as well as new features order_hour or order_before_noon"
   ]
  },
  {
   "cell_type": "code",
   "execution_count": 58,
   "metadata": {},
   "outputs": [
    {
     "name": "stdout",
     "output_type": "stream",
     "text": [
      "DecisionTreeClassifier() training score: 1.0\n",
      "DecisionTreeClassifier() testing score: 0.9665411034788389\n"
     ]
    }
   ],
   "source": [
    "pipe(DecisionTreeClassifier)"
   ]
  },
  {
   "cell_type": "code",
   "execution_count": 63,
   "metadata": {},
   "outputs": [],
   "source": [
    "X = df.drop(columns=['category_name', 'customer_city', 'customer_state', 'order_city', 'order_country', 'order_state', 'product_name'])"
   ]
  },
  {
   "cell_type": "code",
   "execution_count": 64,
   "metadata": {},
   "outputs": [],
   "source": [
    "X = X.drop(columns=['actual_ship_days', 'late_delivery_risk', 'delivery_status', 'order_status', 'ship_performance', 'ontime'])"
   ]
  },
  {
   "cell_type": "code",
   "execution_count": 65,
   "metadata": {},
   "outputs": [],
   "source": [
    "X = X.drop(columns=['shipping_date'])"
   ]
  },
  {
   "cell_type": "code",
   "execution_count": 66,
   "metadata": {},
   "outputs": [],
   "source": [
    "X['order_date'] = X['order_date'].map(dt.datetime.toordinal)"
   ]
  },
  {
   "cell_type": "code",
   "execution_count": 67,
   "metadata": {},
   "outputs": [],
   "source": [
    "X = X.drop(columns=['customer_zipcode'])"
   ]
  },
  {
   "cell_type": "code",
   "execution_count": 68,
   "metadata": {},
   "outputs": [],
   "source": [
    "X_train, X_test, y_train, y_test = train_test_split(X, y, stratify=y)"
   ]
  },
  {
   "cell_type": "code",
   "execution_count": 70,
   "metadata": {},
   "outputs": [],
   "source": [
    "X_train = ohe.fit_transform(X_train)"
   ]
  },
  {
   "cell_type": "code",
   "execution_count": 69,
   "metadata": {},
   "outputs": [],
   "source": [
    "X_test = ohe.transform(X_test)"
   ]
  },
  {
   "cell_type": "code",
   "execution_count": 71,
   "metadata": {},
   "outputs": [],
   "source": [
    "ss = StandardScaler()\n",
    "X_train_sc = ss.fit_transform(X_train)\n",
    "X_test_sc = ss.transform(X_test)"
   ]
  },
  {
   "cell_type": "code",
   "execution_count": 72,
   "metadata": {},
   "outputs": [],
   "source": [
    "X_train_sc = pd.DataFrame(X_train_sc)\n",
    "X_test_sc = pd.DataFrame(X_test_sc)"
   ]
  },
  {
   "cell_type": "code",
   "execution_count": 73,
   "metadata": {},
   "outputs": [
    {
     "name": "stdout",
     "output_type": "stream",
     "text": [
      "LogisticRegression() training score: 0.7218680985899888\n",
      "LogisticRegression() testing score: 0.7189231110126302\n"
     ]
    }
   ],
   "source": [
    "# rerunning on new X, no shipping_date but with order_date-\n",
    "\n",
    "pipe(LogisticRegression)"
   ]
  },
  {
   "cell_type": "code",
   "execution_count": 74,
   "metadata": {},
   "outputs": [
    {
     "name": "stdout",
     "output_type": "stream",
     "text": [
      "DecisionTreeClassifier() training score: 1.0\n",
      "DecisionTreeClassifier() testing score: 0.7304232218036782\n"
     ]
    }
   ],
   "source": [
    "pipe(DecisionTreeClassifier)"
   ]
  },
  {
   "cell_type": "code",
   "execution_count": null,
   "metadata": {},
   "outputs": [],
   "source": [
    "y_pred = dt.predict(x_test)"
   ]
  },
  {
   "cell_type": "code",
   "execution_count": 76,
   "metadata": {},
   "outputs": [],
   "source": [
    "dt = DecisionTreeClassifier()"
   ]
  },
  {
   "cell_type": "code",
   "execution_count": 78,
   "metadata": {},
   "outputs": [
    {
     "data": {
      "text/plain": [
       "DecisionTreeClassifier()"
      ]
     },
     "execution_count": 78,
     "metadata": {},
     "output_type": "execute_result"
    }
   ],
   "source": [
    "dt.fit(X_train_sc, y_train)"
   ]
  },
  {
   "cell_type": "code",
   "execution_count": 79,
   "metadata": {},
   "outputs": [
    {
     "data": {
      "text/plain": [
       "0.7286727232439619"
      ]
     },
     "execution_count": 79,
     "metadata": {},
     "output_type": "execute_result"
    }
   ],
   "source": [
    "dt.score(X_test_sc, y_test)"
   ]
  },
  {
   "cell_type": "code",
   "execution_count": 80,
   "metadata": {},
   "outputs": [],
   "source": [
    "y_preds = dt.predict(X_test_sc)"
   ]
  },
  {
   "cell_type": "code",
   "execution_count": 81,
   "metadata": {},
   "outputs": [],
   "source": [
    "from sklearn.metrics import roc_curve, auc"
   ]
  },
  {
   "cell_type": "code",
   "execution_count": 82,
   "metadata": {},
   "outputs": [],
   "source": [
    "false_positive_rate, true_positive_rate, thresholds = roc_curve(y_test, y_preds)"
   ]
  },
  {
   "cell_type": "code",
   "execution_count": 83,
   "metadata": {},
   "outputs": [],
   "source": [
    "roc_auc = auc(false_positive_rate, true_positive_rate)"
   ]
  },
  {
   "cell_type": "code",
   "execution_count": 84,
   "metadata": {},
   "outputs": [
    {
     "data": {
      "text/plain": [
       "0.7239480485083911"
      ]
     },
     "execution_count": 84,
     "metadata": {},
     "output_type": "execute_result"
    }
   ],
   "source": [
    "roc_auc"
   ]
  },
  {
   "cell_type": "code",
   "execution_count": 85,
   "metadata": {},
   "outputs": [],
   "source": [
    "max_depths = np.linspace(1, 32, 32, endpoint=True)\n",
    "train_results = []\n",
    "test_results = []\n",
    "for max_depth in max_depths:\n",
    "    dt = DecisionTreeClassifier(max_depth=max_depth)\n",
    "    dt.fit(X_train_sc, y_train)\n",
    "    train_preds = dt.predict(X_train_sc)\n",
    "    false_positive_rate, true_positive_rate, thresholds = roc_curve(y_train, train_preds)\n",
    "    roc_auc = auc(false_positive_rate, true_positive_rate)\n",
    "    # Add auc score to previous train results\n",
    "    train_results.append(roc_auc)\n",
    "    y_preds = dt.predict(X_test_sc)\n",
    "    false_positive_rate, true_positive_rate, thresholds = roc_curve(y_test, y_preds)\n",
    "    roc_auc = auc(false_positive_rate, true_positive_rate)\n",
    "    # Add auc score to previous test results\n",
    "    test_results.append(roc_auc)"
   ]
  },
  {
   "cell_type": "code",
   "execution_count": 89,
   "metadata": {},
   "outputs": [
    {
     "data": {
      "image/png": "[encoded data removed]",
      "text/plain": [
       "<Figure size 432x288 with 1 Axes>"
      ]
     },
     "metadata": {
      "needs_background": "light"
     },
     "output_type": "display_data"
    }
   ],
   "source": [
    "from matplotlib.legend_handler import HandlerLine2D\n",
    "line1, = plt.plot(max_depths, train_results, 'b', label='Train AUC')\n",
    "line2, = plt.plot(max_depths, test_results, 'r', label='Test AUC')\n",
    "plt.legend(handler_map={line1: HandlerLine2D(numpoints=2)})\n",
    "plt.ylabel('AUC score')\n",
    "plt.xlabel('Tree depth')\n",
    "plt.show();"
   ]
  },
  {
   "cell_type": "code",
   "execution_count": null,
   "metadata": {},
   "outputs": [],
   "source": [
    "# pipe_params = {\n",
    "#     'gbc__max_depth':[1, 2, 3, 4],\n",
    "#     'gbc__learning_rate'  :[0.1, 0.001, 1],\n",
    "#     'gbc__n_estimators' :[100, 300, 500],\n",
    "#     'gbc__min_samples_leaf' :[1, 2]\n",
    "# }\n",
    "\n",
    "\n",
    "pipe_params = {\n",
    "    'dt__':[1, 2, 3, 4],\n",
    "    ''  :[0.1, 0.001, 1],\n",
    "    '' :[100, 300, 500],\n",
    "    '' :[1, 2]\n",
    "}"
   ]
  },
  {
   "cell_type": "code",
   "execution_count": null,
   "metadata": {},
   "outputs": [],
   "source": []
  },
  {
   "cell_type": "code",
   "execution_count": null,
   "metadata": {},
   "outputs": [],
   "source": []
  },
  {
   "cell_type": "code",
   "execution_count": null,
   "metadata": {},
   "outputs": [],
   "source": [
    "X['order_date'] = X['order_date'].map(dt.datetime.toordinal)"
   ]
  }
 ],
 "metadata": {
  "kernelspec": {
   "display_name": "Python 3",
   "language": "python",
   "name": "python3"
  },
  "language_info": {
   "codemirror_mode": {
    "name": "ipython",
    "version": 3
   },
   "file_extension": ".py",
   "mimetype": "text/x-python",
   "name": "python",
   "nbconvert_exporter": "python",
   "pygments_lexer": "ipython3",
   "version": "3.8.5"
  }
 },
 "nbformat": 4,
 "nbformat_minor": 4
}

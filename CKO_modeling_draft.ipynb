{
 "cells": [
  {
   "cell_type": "code",
   "execution_count": 1,
   "metadata": {},
   "outputs": [],
   "source": [
    "import pandas as pd\n",
    "import numpy as np\n",
    "import matplotlib.pyplot as plt\n",
    "import seaborn as sns\n",
    "import datetime as dt\n",
    "import category_encoders as ce\n",
    "\n",
    "import tensorflow as tf\n",
    "\n",
    "from tensorflow.keras.callbacks import EarlyStopping\n",
    "from tensorflow.keras.layers import Dense, BatchNormalization\n",
    "from tensorflow.keras.models import Sequential\n",
    "\n",
    "\n",
    "from sklearn.ensemble import GradientBoostingClassifier, RandomForestClassifier, ExtraTreesClassifier, AdaBoostClassifier\n",
    "from sklearn.linear_model import LogisticRegression \n",
    "from sklearn.metrics import balanced_accuracy_score, confusion_matrix, ConfusionMatrixDisplay, f1_score, precision_score, recall_score\n",
    "from sklearn.model_selection import train_test_split, GridSearchCV\n",
    "from sklearn.neighbors import KNeighborsClassifier\n",
    "from sklearn.pipeline import make_pipeline, Pipeline\n",
    "from sklearn.preprocessing import OneHotEncoder, StandardScaler\n",
    "\n",
    "from sklearn import svm\n",
    "from sklearn.svm import SVC\n",
    "from sklearn.tree import DecisionTreeClassifier\n",
    "\n",
    "import warnings\n",
    "warnings.filterwarnings(\"ignore\")"
   ]
  },
  {
   "cell_type": "code",
   "execution_count": 429,
   "metadata": {},
   "outputs": [],
   "source": [
    "df = pd.read_csv('./data/ship_clean.csv')"
   ]
  },
  {
   "cell_type": "code",
   "execution_count": 430,
   "metadata": {},
   "outputs": [
    {
     "name": "stdout",
     "output_type": "stream",
     "text": [
      "<class 'pandas.core.frame.DataFrame'>\n",
      "RangeIndex: 180519 entries, 0 to 180518\n",
      "Data columns (total 34 columns):\n",
      " #   Column                    Non-Null Count   Dtype  \n",
      "---  ------                    --------------   -----  \n",
      " 0   type                      180519 non-null  object \n",
      " 1   actual_ship_days          180519 non-null  int64  \n",
      " 2   estimated_ship_days       180519 non-null  int64  \n",
      " 3   delivery_status           180519 non-null  object \n",
      " 4   late_delivery_risk        180519 non-null  int64  \n",
      " 5   category_id               180519 non-null  int64  \n",
      " 6   category_name             180519 non-null  object \n",
      " 7   customer_city             180519 non-null  object \n",
      " 8   customer_id               180519 non-null  int64  \n",
      " 9   customer_segment          180519 non-null  object \n",
      " 10  customer_state            180519 non-null  object \n",
      " 11  customer_zipcode          180516 non-null  float64\n",
      " 12  department_name           180519 non-null  object \n",
      " 13  latitude                  180519 non-null  float64\n",
      " 14  longitude                 180519 non-null  float64\n",
      " 15  market                    180519 non-null  object \n",
      " 16  order_city                180519 non-null  object \n",
      " 17  order_country             180519 non-null  object \n",
      " 18  order_date                180519 non-null  object \n",
      " 19  order_id                  180519 non-null  int64  \n",
      " 20  order_item_discount_rate  180519 non-null  float64\n",
      " 21  order_item_profit_ratio   180519 non-null  float64\n",
      " 22  order_item_quantity       180519 non-null  int64  \n",
      " 23  order_region              180519 non-null  object \n",
      " 24  order_state               180519 non-null  object \n",
      " 25  order_status              180519 non-null  object \n",
      " 26  product_card_id           180519 non-null  int64  \n",
      " 27  product_name              180519 non-null  object \n",
      " 28  product_price             180519 non-null  float64\n",
      " 29  shipping_date             180519 non-null  object \n",
      " 30  shipping_mode             180519 non-null  object \n",
      " 31  ship_performance          180519 non-null  int64  \n",
      " 32  ontime                    180519 non-null  int64  \n",
      " 33  is_fraud                  180519 non-null  int64  \n",
      "dtypes: float64(6), int64(11), object(17)\n",
      "memory usage: 46.8+ MB\n"
     ]
    }
   ],
   "source": [
    "df.info()"
   ]
  },
  {
   "cell_type": "code",
   "execution_count": 431,
   "metadata": {},
   "outputs": [
    {
     "data": {
      "text/plain": [
       "Index(['type', 'actual_ship_days', 'estimated_ship_days', 'delivery_status',\n",
       "       'late_delivery_risk', 'category_id', 'category_name', 'customer_city',\n",
       "       'customer_id', 'customer_segment', 'customer_state', 'customer_zipcode',\n",
       "       'department_name', 'latitude', 'longitude', 'market', 'order_city',\n",
       "       'order_country', 'order_date', 'order_id', 'order_item_discount_rate',\n",
       "       'order_item_profit_ratio', 'order_item_quantity', 'order_region',\n",
       "       'order_state', 'order_status', 'product_card_id', 'product_name',\n",
       "       'product_price', 'shipping_date', 'shipping_mode', 'ship_performance',\n",
       "       'ontime', 'is_fraud'],\n",
       "      dtype='object')"
      ]
     },
     "execution_count": 431,
     "metadata": {},
     "output_type": "execute_result"
    }
   ],
   "source": [
    "df.columns"
   ]
  },
  {
   "cell_type": "code",
   "execution_count": 432,
   "metadata": {},
   "outputs": [],
   "source": [
    "# change order_date and shipping_date features to datetime format-\n",
    "\n",
    "df['order_date'] = pd.to_datetime(df['order_date'])"
   ]
  },
  {
   "cell_type": "code",
   "execution_count": 433,
   "metadata": {},
   "outputs": [],
   "source": [
    "df['shipping_date'] = pd.to_datetime(df['shipping_date'])"
   ]
  },
  {
   "cell_type": "code",
   "execution_count": 434,
   "metadata": {},
   "outputs": [
    {
     "name": "stdout",
     "output_type": "stream",
     "text": [
      "<class 'pandas.core.frame.DataFrame'>\n",
      "RangeIndex: 180519 entries, 0 to 180518\n",
      "Data columns (total 34 columns):\n",
      " #   Column                    Non-Null Count   Dtype         \n",
      "---  ------                    --------------   -----         \n",
      " 0   type                      180519 non-null  object        \n",
      " 1   actual_ship_days          180519 non-null  int64         \n",
      " 2   estimated_ship_days       180519 non-null  int64         \n",
      " 3   delivery_status           180519 non-null  object        \n",
      " 4   late_delivery_risk        180519 non-null  int64         \n",
      " 5   category_id               180519 non-null  int64         \n",
      " 6   category_name             180519 non-null  object        \n",
      " 7   customer_city             180519 non-null  object        \n",
      " 8   customer_id               180519 non-null  int64         \n",
      " 9   customer_segment          180519 non-null  object        \n",
      " 10  customer_state            180519 non-null  object        \n",
      " 11  customer_zipcode          180516 non-null  float64       \n",
      " 12  department_name           180519 non-null  object        \n",
      " 13  latitude                  180519 non-null  float64       \n",
      " 14  longitude                 180519 non-null  float64       \n",
      " 15  market                    180519 non-null  object        \n",
      " 16  order_city                180519 non-null  object        \n",
      " 17  order_country             180519 non-null  object        \n",
      " 18  order_date                180519 non-null  datetime64[ns]\n",
      " 19  order_id                  180519 non-null  int64         \n",
      " 20  order_item_discount_rate  180519 non-null  float64       \n",
      " 21  order_item_profit_ratio   180519 non-null  float64       \n",
      " 22  order_item_quantity       180519 non-null  int64         \n",
      " 23  order_region              180519 non-null  object        \n",
      " 24  order_state               180519 non-null  object        \n",
      " 25  order_status              180519 non-null  object        \n",
      " 26  product_card_id           180519 non-null  int64         \n",
      " 27  product_name              180519 non-null  object        \n",
      " 28  product_price             180519 non-null  float64       \n",
      " 29  shipping_date             180519 non-null  datetime64[ns]\n",
      " 30  shipping_mode             180519 non-null  object        \n",
      " 31  ship_performance          180519 non-null  int64         \n",
      " 32  ontime                    180519 non-null  int64         \n",
      " 33  is_fraud                  180519 non-null  int64         \n",
      "dtypes: datetime64[ns](2), float64(6), int64(11), object(15)\n",
      "memory usage: 46.8+ MB\n"
     ]
    }
   ],
   "source": [
    "df.info()"
   ]
  },
  {
   "cell_type": "code",
   "execution_count": 435,
   "metadata": {},
   "outputs": [
    {
     "data": {
      "text/plain": [
       "array(['DEBIT', 'TRANSFER', 'CASH', 'PAYMENT'], dtype=object)"
      ]
     },
     "execution_count": 435,
     "metadata": {},
     "output_type": "execute_result"
    }
   ],
   "source": [
    "# check categorical column value counts to figure out which can be onehotencoded-\n",
    "\n",
    "df['type'].unique()  # ohe"
   ]
  },
  {
   "cell_type": "code",
   "execution_count": 436,
   "metadata": {},
   "outputs": [
    {
     "data": {
      "text/plain": [
       "array(['Advance shipping', 'Late delivery', 'Shipping on time',\n",
       "       'Shipping canceled'], dtype=object)"
      ]
     },
     "execution_count": 436,
     "metadata": {},
     "output_type": "execute_result"
    }
   ],
   "source": [
    "df['delivery_status'].unique()    # drop, colinear with prediction column"
   ]
  },
  {
   "cell_type": "code",
   "execution_count": 437,
   "metadata": {},
   "outputs": [],
   "source": [
    "# df['category_name'].unique()    # too many vals"
   ]
  },
  {
   "cell_type": "code",
   "execution_count": 438,
   "metadata": {},
   "outputs": [],
   "source": [
    "# df['customer_city'].unique()    # too many vals"
   ]
  },
  {
   "cell_type": "code",
   "execution_count": 439,
   "metadata": {},
   "outputs": [
    {
     "data": {
      "text/plain": [
       "array(['Consumer', 'Home Office', 'Corporate'], dtype=object)"
      ]
     },
     "execution_count": 439,
     "metadata": {},
     "output_type": "execute_result"
    }
   ],
   "source": [
    "df['customer_segment'].unique()   # ohe"
   ]
  },
  {
   "cell_type": "code",
   "execution_count": 440,
   "metadata": {},
   "outputs": [],
   "source": [
    "# df['customer_state'].unique()   # too many vals"
   ]
  },
  {
   "cell_type": "code",
   "execution_count": 441,
   "metadata": {},
   "outputs": [
    {
     "data": {
      "text/plain": [
       "array(['Fitness', 'Apparel', 'Golf', 'Footwear', 'Outdoors', 'Fan Shop',\n",
       "       'Technology', 'Book Shop', 'Discs Shop', 'Pet Shop',\n",
       "       'Health and Beauty '], dtype=object)"
      ]
     },
     "execution_count": 441,
     "metadata": {},
     "output_type": "execute_result"
    }
   ],
   "source": [
    "df['department_name'].unique()    # ohe"
   ]
  },
  {
   "cell_type": "code",
   "execution_count": 442,
   "metadata": {},
   "outputs": [
    {
     "data": {
      "text/plain": [
       "array(['Pacific Asia', 'USCA', 'Africa', 'Europe', 'LATAM'], dtype=object)"
      ]
     },
     "execution_count": 442,
     "metadata": {},
     "output_type": "execute_result"
    }
   ],
   "source": [
    "df['market'].unique() # can ohe"
   ]
  },
  {
   "cell_type": "code",
   "execution_count": 443,
   "metadata": {},
   "outputs": [],
   "source": [
    "# df['order_city'].unique()      # too many vals"
   ]
  },
  {
   "cell_type": "code",
   "execution_count": 444,
   "metadata": {},
   "outputs": [],
   "source": [
    "# df['order_country'].unique()   # too many vals"
   ]
  },
  {
   "cell_type": "code",
   "execution_count": 445,
   "metadata": {},
   "outputs": [
    {
     "data": {
      "text/plain": [
       "array(['Southeast Asia', 'South Asia', 'Oceania', 'Eastern Asia',\n",
       "       'West Asia', 'West of USA ', 'US Center ', 'West Africa',\n",
       "       'Central Africa', 'North Africa', 'Western Europe',\n",
       "       'Northern Europe', 'Central America', 'Caribbean', 'South America',\n",
       "       'East Africa', 'Southern Europe', 'East of USA', 'Canada',\n",
       "       'Southern Africa', 'Central Asia', 'Eastern Europe',\n",
       "       'South of  USA '], dtype=object)"
      ]
     },
     "execution_count": 445,
     "metadata": {},
     "output_type": "execute_result"
    }
   ],
   "source": [
    "df['order_region'].unique()      # ohe"
   ]
  },
  {
   "cell_type": "code",
   "execution_count": 446,
   "metadata": {},
   "outputs": [],
   "source": [
    "# df['order_state'].unique()   # too many vals"
   ]
  },
  {
   "cell_type": "code",
   "execution_count": 447,
   "metadata": {},
   "outputs": [
    {
     "data": {
      "text/plain": [
       "array(['COMPLETE', 'PENDING', 'CLOSED', 'PENDING_PAYMENT', 'CANCELED',\n",
       "       'PROCESSING', 'SUSPECTED_FRAUD', 'ON_HOLD', 'PAYMENT_REVIEW'],\n",
       "      dtype=object)"
      ]
     },
     "execution_count": 447,
     "metadata": {},
     "output_type": "execute_result"
    }
   ],
   "source": [
    "df['order_status'].unique()    # ohe"
   ]
  },
  {
   "cell_type": "code",
   "execution_count": 448,
   "metadata": {},
   "outputs": [],
   "source": [
    "# df['product_name'].unique()   # too many vals"
   ]
  },
  {
   "cell_type": "code",
   "execution_count": 449,
   "metadata": {},
   "outputs": [
    {
     "data": {
      "text/plain": [
       "array(['Standard Class', 'First Class', 'Second Class', 'Same Day'],\n",
       "      dtype=object)"
      ]
     },
     "execution_count": 449,
     "metadata": {},
     "output_type": "execute_result"
    }
   ],
   "source": [
    "df['shipping_mode'].unique()    # ohe"
   ]
  },
  {
   "cell_type": "code",
   "execution_count": 457,
   "metadata": {},
   "outputs": [],
   "source": [
    "# drop the categorical variables with too many values, IDed above-\n",
    "\n",
    "X = df.drop(columns=['category_name', 'customer_city', 'customer_state', 'order_city', 'order_country', 'order_state', 'product_name'])"
   ]
  },
  {
   "cell_type": "code",
   "execution_count": 458,
   "metadata": {},
   "outputs": [
    {
     "name": "stdout",
     "output_type": "stream",
     "text": [
      "<class 'pandas.core.frame.DataFrame'>\n",
      "RangeIndex: 180519 entries, 0 to 180518\n",
      "Data columns (total 27 columns):\n",
      " #   Column                    Non-Null Count   Dtype         \n",
      "---  ------                    --------------   -----         \n",
      " 0   type                      180519 non-null  object        \n",
      " 1   actual_ship_days          180519 non-null  int64         \n",
      " 2   estimated_ship_days       180519 non-null  int64         \n",
      " 3   delivery_status           180519 non-null  object        \n",
      " 4   late_delivery_risk        180519 non-null  int64         \n",
      " 5   category_id               180519 non-null  int64         \n",
      " 6   customer_id               180519 non-null  int64         \n",
      " 7   customer_segment          180519 non-null  object        \n",
      " 8   customer_zipcode          180516 non-null  float64       \n",
      " 9   department_name           180519 non-null  object        \n",
      " 10  latitude                  180519 non-null  float64       \n",
      " 11  longitude                 180519 non-null  float64       \n",
      " 12  market                    180519 non-null  object        \n",
      " 13  order_date                180519 non-null  datetime64[ns]\n",
      " 14  order_id                  180519 non-null  int64         \n",
      " 15  order_item_discount_rate  180519 non-null  float64       \n",
      " 16  order_item_profit_ratio   180519 non-null  float64       \n",
      " 17  order_item_quantity       180519 non-null  int64         \n",
      " 18  order_region              180519 non-null  object        \n",
      " 19  order_status              180519 non-null  object        \n",
      " 20  product_card_id           180519 non-null  int64         \n",
      " 21  product_price             180519 non-null  float64       \n",
      " 22  shipping_date             180519 non-null  datetime64[ns]\n",
      " 23  shipping_mode             180519 non-null  object        \n",
      " 24  ship_performance          180519 non-null  int64         \n",
      " 25  ontime                    180519 non-null  int64         \n",
      " 26  is_fraud                  180519 non-null  int64         \n",
      "dtypes: datetime64[ns](2), float64(6), int64(11), object(8)\n",
      "memory usage: 37.2+ MB\n"
     ]
    }
   ],
   "source": [
    "X.info()"
   ]
  },
  {
   "cell_type": "code",
   "execution_count": 459,
   "metadata": {},
   "outputs": [],
   "source": [
    "# drop features that overlap with/bias the target (ontime)-\n",
    "\n",
    "X = X.drop(columns=['actual_ship_days', 'late_delivery_risk', 'delivery_status', 'order_status', 'ship_performance', 'ontime'])"
   ]
  },
  {
   "cell_type": "code",
   "execution_count": 460,
   "metadata": {},
   "outputs": [],
   "source": [
    "# drop datetime dtypes-\n",
    "\n",
    "# X = X.drop(columns=['order_date', 'shipping_date'])"
   ]
  },
  {
   "cell_type": "code",
   "execution_count": 461,
   "metadata": {},
   "outputs": [],
   "source": [
    "# drop shipping_date (keep order_date)-\n",
    "\n",
    "# X = X.drop(columns=['shipping_date'])"
   ]
  },
  {
   "cell_type": "code",
   "execution_count": 455,
   "metadata": {},
   "outputs": [],
   "source": [
    "# change order_date from datetime to ordinal so it can be included in X-\n",
    "\n",
    "# X['order_date'] = X['order_date'].map(dt.datetime.toordinal)"
   ]
  },
  {
   "cell_type": "code",
   "execution_count": 462,
   "metadata": {},
   "outputs": [],
   "source": [
    "# drop order_date (keep shipping_date)-\n",
    "\n",
    "X = X.drop(columns=['order_date'])"
   ]
  },
  {
   "cell_type": "code",
   "execution_count": 463,
   "metadata": {},
   "outputs": [],
   "source": [
    "# change shipping_date from datetime to ordinal so it can be included in X-\n",
    "\n",
    "X['shipping_date'] = X['shipping_date'].map(dt.datetime.toordinal)"
   ]
  },
  {
   "cell_type": "code",
   "execution_count": 464,
   "metadata": {},
   "outputs": [
    {
     "data": {
      "text/plain": [
       "(180519, 20)"
      ]
     },
     "execution_count": 464,
     "metadata": {},
     "output_type": "execute_result"
    }
   ],
   "source": [
    "X.shape"
   ]
  },
  {
   "cell_type": "code",
   "execution_count": 465,
   "metadata": {},
   "outputs": [],
   "source": [
    "# drop zipcode, raises an error-\n",
    "\n",
    "X = X.drop(columns=['customer_zipcode'])"
   ]
  },
  {
   "cell_type": "code",
   "execution_count": 466,
   "metadata": {},
   "outputs": [
    {
     "data": {
      "text/plain": [
       "(180519, 19)"
      ]
     },
     "execution_count": 466,
     "metadata": {},
     "output_type": "execute_result"
    }
   ],
   "source": [
    "X.shape"
   ]
  },
  {
   "cell_type": "code",
   "execution_count": 467,
   "metadata": {},
   "outputs": [
    {
     "name": "stdout",
     "output_type": "stream",
     "text": [
      "<class 'pandas.core.frame.DataFrame'>\n",
      "RangeIndex: 180519 entries, 0 to 180518\n",
      "Data columns (total 19 columns):\n",
      " #   Column                    Non-Null Count   Dtype  \n",
      "---  ------                    --------------   -----  \n",
      " 0   type                      180519 non-null  object \n",
      " 1   estimated_ship_days       180519 non-null  int64  \n",
      " 2   category_id               180519 non-null  int64  \n",
      " 3   customer_id               180519 non-null  int64  \n",
      " 4   customer_segment          180519 non-null  object \n",
      " 5   department_name           180519 non-null  object \n",
      " 6   latitude                  180519 non-null  float64\n",
      " 7   longitude                 180519 non-null  float64\n",
      " 8   market                    180519 non-null  object \n",
      " 9   order_id                  180519 non-null  int64  \n",
      " 10  order_item_discount_rate  180519 non-null  float64\n",
      " 11  order_item_profit_ratio   180519 non-null  float64\n",
      " 12  order_item_quantity       180519 non-null  int64  \n",
      " 13  order_region              180519 non-null  object \n",
      " 14  product_card_id           180519 non-null  int64  \n",
      " 15  product_price             180519 non-null  float64\n",
      " 16  shipping_date             180519 non-null  int64  \n",
      " 17  shipping_mode             180519 non-null  object \n",
      " 18  is_fraud                  180519 non-null  int64  \n",
      "dtypes: float64(5), int64(8), object(6)\n",
      "memory usage: 26.2+ MB\n"
     ]
    }
   ],
   "source": [
    "X.info()"
   ]
  },
  {
   "cell_type": "code",
   "execution_count": 468,
   "metadata": {},
   "outputs": [],
   "source": [
    "# set y-\n",
    "\n",
    "y = df['ontime']"
   ]
  },
  {
   "cell_type": "code",
   "execution_count": 469,
   "metadata": {},
   "outputs": [
    {
     "data": {
      "text/plain": [
       "0         1\n",
       "1         0\n",
       "2         1\n",
       "3         1\n",
       "4         1\n",
       "         ..\n",
       "180514    1\n",
       "180515    0\n",
       "180516    0\n",
       "180517    1\n",
       "180518    1\n",
       "Name: ontime, Length: 180519, dtype: int64"
      ]
     },
     "execution_count": 469,
     "metadata": {},
     "output_type": "execute_result"
    }
   ],
   "source": [
    "y"
   ]
  },
  {
   "cell_type": "code",
   "execution_count": 470,
   "metadata": {},
   "outputs": [
    {
     "data": {
      "text/plain": [
       "0    0.572793\n",
       "1    0.427207\n",
       "Name: ontime, dtype: float64"
      ]
     },
     "execution_count": 470,
     "metadata": {},
     "output_type": "execute_result"
    }
   ],
   "source": [
    "# get a baseline (57%)-\n",
    "\n",
    "y.value_counts(normalize=True)"
   ]
  },
  {
   "cell_type": "code",
   "execution_count": 471,
   "metadata": {},
   "outputs": [
    {
     "data": {
      "text/plain": [
       "(180519,)"
      ]
     },
     "execution_count": 471,
     "metadata": {},
     "output_type": "execute_result"
    }
   ],
   "source": [
    "y.shape"
   ]
  },
  {
   "cell_type": "code",
   "execution_count": 472,
   "metadata": {},
   "outputs": [
    {
     "name": "stdout",
     "output_type": "stream",
     "text": [
      "<class 'pandas.core.frame.DataFrame'>\n",
      "RangeIndex: 180519 entries, 0 to 180518\n",
      "Data columns (total 19 columns):\n",
      " #   Column                    Non-Null Count   Dtype  \n",
      "---  ------                    --------------   -----  \n",
      " 0   type                      180519 non-null  object \n",
      " 1   estimated_ship_days       180519 non-null  int64  \n",
      " 2   category_id               180519 non-null  int64  \n",
      " 3   customer_id               180519 non-null  int64  \n",
      " 4   customer_segment          180519 non-null  object \n",
      " 5   department_name           180519 non-null  object \n",
      " 6   latitude                  180519 non-null  float64\n",
      " 7   longitude                 180519 non-null  float64\n",
      " 8   market                    180519 non-null  object \n",
      " 9   order_id                  180519 non-null  int64  \n",
      " 10  order_item_discount_rate  180519 non-null  float64\n",
      " 11  order_item_profit_ratio   180519 non-null  float64\n",
      " 12  order_item_quantity       180519 non-null  int64  \n",
      " 13  order_region              180519 non-null  object \n",
      " 14  product_card_id           180519 non-null  int64  \n",
      " 15  product_price             180519 non-null  float64\n",
      " 16  shipping_date             180519 non-null  int64  \n",
      " 17  shipping_mode             180519 non-null  object \n",
      " 18  is_fraud                  180519 non-null  int64  \n",
      "dtypes: float64(5), int64(8), object(6)\n",
      "memory usage: 26.2+ MB\n"
     ]
    }
   ],
   "source": [
    "X.info()"
   ]
  },
  {
   "cell_type": "code",
   "execution_count": 473,
   "metadata": {},
   "outputs": [
    {
     "data": {
      "text/plain": [
       "(180519, 19)"
      ]
     },
     "execution_count": 473,
     "metadata": {},
     "output_type": "execute_result"
    }
   ],
   "source": [
    "X.shape"
   ]
  },
  {
   "cell_type": "code",
   "execution_count": 474,
   "metadata": {},
   "outputs": [
    {
     "data": {
      "text/plain": [
       "(180519,)"
      ]
     },
     "execution_count": 474,
     "metadata": {},
     "output_type": "execute_result"
    }
   ],
   "source": [
    "y.shape"
   ]
  },
  {
   "cell_type": "code",
   "execution_count": 475,
   "metadata": {},
   "outputs": [],
   "source": [
    "# intitialize category encoder-\n",
    "\n",
    "ohe = ce.OneHotEncoder()"
   ]
  },
  {
   "cell_type": "code",
   "execution_count": 476,
   "metadata": {},
   "outputs": [],
   "source": [
    "# TTS-\n",
    "\n",
    "X_train, X_test, y_train, y_test = train_test_split(X, y, stratify=y)"
   ]
  },
  {
   "cell_type": "code",
   "execution_count": 477,
   "metadata": {},
   "outputs": [],
   "source": [
    "# onehotencode-\n",
    "\n",
    "X_train = ohe.fit_transform(X_train)"
   ]
  },
  {
   "cell_type": "code",
   "execution_count": 478,
   "metadata": {},
   "outputs": [],
   "source": [
    "X_test = ohe.transform(X_test)"
   ]
  },
  {
   "cell_type": "code",
   "execution_count": 479,
   "metadata": {},
   "outputs": [
    {
     "data": {
      "text/plain": [
       "(135389, 63)"
      ]
     },
     "execution_count": 479,
     "metadata": {},
     "output_type": "execute_result"
    }
   ],
   "source": [
    "X_train.shape"
   ]
  },
  {
   "cell_type": "code",
   "execution_count": 480,
   "metadata": {},
   "outputs": [
    {
     "data": {
      "text/plain": [
       "(45130, 63)"
      ]
     },
     "execution_count": 480,
     "metadata": {},
     "output_type": "execute_result"
    }
   ],
   "source": [
    "X_test.shape"
   ]
  },
  {
   "cell_type": "code",
   "execution_count": 481,
   "metadata": {},
   "outputs": [
    {
     "name": "stdout",
     "output_type": "stream",
     "text": [
      "<class 'pandas.core.frame.DataFrame'>\n",
      "Int64Index: 135389 entries, 21790 to 27668\n",
      "Data columns (total 63 columns):\n",
      " #   Column                    Non-Null Count   Dtype  \n",
      "---  ------                    --------------   -----  \n",
      " 0   type_1                    135389 non-null  int64  \n",
      " 1   type_2                    135389 non-null  int64  \n",
      " 2   type_3                    135389 non-null  int64  \n",
      " 3   type_4                    135389 non-null  int64  \n",
      " 4   estimated_ship_days       135389 non-null  int64  \n",
      " 5   category_id               135389 non-null  int64  \n",
      " 6   customer_id               135389 non-null  int64  \n",
      " 7   customer_segment_1        135389 non-null  int64  \n",
      " 8   customer_segment_2        135389 non-null  int64  \n",
      " 9   customer_segment_3        135389 non-null  int64  \n",
      " 10  department_name_1         135389 non-null  int64  \n",
      " 11  department_name_2         135389 non-null  int64  \n",
      " 12  department_name_3         135389 non-null  int64  \n",
      " 13  department_name_4         135389 non-null  int64  \n",
      " 14  department_name_5         135389 non-null  int64  \n",
      " 15  department_name_6         135389 non-null  int64  \n",
      " 16  department_name_7         135389 non-null  int64  \n",
      " 17  department_name_8         135389 non-null  int64  \n",
      " 18  department_name_9         135389 non-null  int64  \n",
      " 19  department_name_10        135389 non-null  int64  \n",
      " 20  department_name_11        135389 non-null  int64  \n",
      " 21  latitude                  135389 non-null  float64\n",
      " 22  longitude                 135389 non-null  float64\n",
      " 23  market_1                  135389 non-null  int64  \n",
      " 24  market_2                  135389 non-null  int64  \n",
      " 25  market_3                  135389 non-null  int64  \n",
      " 26  market_4                  135389 non-null  int64  \n",
      " 27  market_5                  135389 non-null  int64  \n",
      " 28  order_id                  135389 non-null  int64  \n",
      " 29  order_item_discount_rate  135389 non-null  float64\n",
      " 30  order_item_profit_ratio   135389 non-null  float64\n",
      " 31  order_item_quantity       135389 non-null  int64  \n",
      " 32  order_region_1            135389 non-null  int64  \n",
      " 33  order_region_2            135389 non-null  int64  \n",
      " 34  order_region_3            135389 non-null  int64  \n",
      " 35  order_region_4            135389 non-null  int64  \n",
      " 36  order_region_5            135389 non-null  int64  \n",
      " 37  order_region_6            135389 non-null  int64  \n",
      " 38  order_region_7            135389 non-null  int64  \n",
      " 39  order_region_8            135389 non-null  int64  \n",
      " 40  order_region_9            135389 non-null  int64  \n",
      " 41  order_region_10           135389 non-null  int64  \n",
      " 42  order_region_11           135389 non-null  int64  \n",
      " 43  order_region_12           135389 non-null  int64  \n",
      " 44  order_region_13           135389 non-null  int64  \n",
      " 45  order_region_14           135389 non-null  int64  \n",
      " 46  order_region_15           135389 non-null  int64  \n",
      " 47  order_region_16           135389 non-null  int64  \n",
      " 48  order_region_17           135389 non-null  int64  \n",
      " 49  order_region_18           135389 non-null  int64  \n",
      " 50  order_region_19           135389 non-null  int64  \n",
      " 51  order_region_20           135389 non-null  int64  \n",
      " 52  order_region_21           135389 non-null  int64  \n",
      " 53  order_region_22           135389 non-null  int64  \n",
      " 54  order_region_23           135389 non-null  int64  \n",
      " 55  product_card_id           135389 non-null  int64  \n",
      " 56  product_price             135389 non-null  float64\n",
      " 57  shipping_date             135389 non-null  int64  \n",
      " 58  shipping_mode_1           135389 non-null  int64  \n",
      " 59  shipping_mode_2           135389 non-null  int64  \n",
      " 60  shipping_mode_3           135389 non-null  int64  \n",
      " 61  shipping_mode_4           135389 non-null  int64  \n",
      " 62  is_fraud                  135389 non-null  int64  \n",
      "dtypes: float64(5), int64(58)\n",
      "memory usage: 66.1 MB\n"
     ]
    }
   ],
   "source": [
    "X_train.info()"
   ]
  },
  {
   "cell_type": "code",
   "execution_count": 482,
   "metadata": {},
   "outputs": [],
   "source": [
    "# scale-\n",
    "\n",
    "ss = StandardScaler()\n",
    "X_train_sc = ss.fit_transform(X_train)\n",
    "X_test_sc = ss.transform(X_test)"
   ]
  },
  {
   "cell_type": "code",
   "execution_count": 483,
   "metadata": {},
   "outputs": [
    {
     "data": {
      "text/plain": [
       "array([[ 1.26991279, -0.61921414, -0.3489862 , ..., -0.42721069,\n",
       "        -0.23853901, -0.15119978],\n",
       "       [-0.78745565,  1.61495021, -0.3489862 , ..., -0.42721069,\n",
       "        -0.23853901, -0.15119978],\n",
       "       [ 1.26991279, -0.61921414, -0.3489862 , ...,  2.34076539,\n",
       "        -0.23853901, -0.15119978],\n",
       "       ...,\n",
       "       [ 1.26991279, -0.61921414, -0.3489862 , ..., -0.42721069,\n",
       "        -0.23853901, -0.15119978],\n",
       "       [-0.78745565,  1.61495021, -0.3489862 , ..., -0.42721069,\n",
       "        -0.23853901, -0.15119978],\n",
       "       [ 1.26991279, -0.61921414, -0.3489862 , ..., -0.42721069,\n",
       "        -0.23853901, -0.15119978]])"
      ]
     },
     "execution_count": 483,
     "metadata": {},
     "output_type": "execute_result"
    }
   ],
   "source": [
    "X_train_sc"
   ]
  },
  {
   "cell_type": "code",
   "execution_count": 484,
   "metadata": {},
   "outputs": [],
   "source": [
    "# make into a df (not sure this is necessary but whateva)-\n",
    "\n",
    "X_train_sc = pd.DataFrame(X_train_sc)"
   ]
  },
  {
   "cell_type": "code",
   "execution_count": 485,
   "metadata": {},
   "outputs": [
    {
     "data": {
      "text/html": [
       "<div>\n",
       "<style scoped>\n",
       "    .dataframe tbody tr th:only-of-type {\n",
       "        vertical-align: middle;\n",
       "    }\n",
       "\n",
       "    .dataframe tbody tr th {\n",
       "        vertical-align: top;\n",
       "    }\n",
       "\n",
       "    .dataframe thead th {\n",
       "        text-align: right;\n",
       "    }\n",
       "</style>\n",
       "<table border=\"1\" class=\"dataframe\">\n",
       "  <thead>\n",
       "    <tr style=\"text-align: right;\">\n",
       "      <th></th>\n",
       "      <th>0</th>\n",
       "      <th>1</th>\n",
       "      <th>2</th>\n",
       "      <th>3</th>\n",
       "      <th>4</th>\n",
       "      <th>5</th>\n",
       "      <th>6</th>\n",
       "      <th>7</th>\n",
       "      <th>8</th>\n",
       "      <th>9</th>\n",
       "      <th>...</th>\n",
       "      <th>53</th>\n",
       "      <th>54</th>\n",
       "      <th>55</th>\n",
       "      <th>56</th>\n",
       "      <th>57</th>\n",
       "      <th>58</th>\n",
       "      <th>59</th>\n",
       "      <th>60</th>\n",
       "      <th>61</th>\n",
       "      <th>62</th>\n",
       "    </tr>\n",
       "  </thead>\n",
       "  <tbody>\n",
       "    <tr>\n",
       "      <th>0</th>\n",
       "      <td>1.269913</td>\n",
       "      <td>-0.619214</td>\n",
       "      <td>-0.348986</td>\n",
       "      <td>-0.548889</td>\n",
       "      <td>0.778116</td>\n",
       "      <td>-0.181328</td>\n",
       "      <td>0.628145</td>\n",
       "      <td>0.966146</td>\n",
       "      <td>-0.46614</td>\n",
       "      <td>-0.661342</td>\n",
       "      <td>...</td>\n",
       "      <td>-0.073374</td>\n",
       "      <td>-0.054504</td>\n",
       "      <td>-0.149048</td>\n",
       "      <td>-0.794442</td>\n",
       "      <td>-0.037416</td>\n",
       "      <td>0.822811</td>\n",
       "      <td>-0.492998</td>\n",
       "      <td>-0.427211</td>\n",
       "      <td>-0.238539</td>\n",
       "      <td>-0.1512</td>\n",
       "    </tr>\n",
       "    <tr>\n",
       "      <th>1</th>\n",
       "      <td>-0.787456</td>\n",
       "      <td>1.614950</td>\n",
       "      <td>-0.348986</td>\n",
       "      <td>-0.548889</td>\n",
       "      <td>-0.677093</td>\n",
       "      <td>0.712381</td>\n",
       "      <td>-0.105876</td>\n",
       "      <td>0.966146</td>\n",
       "      <td>-0.46614</td>\n",
       "      <td>-0.661342</td>\n",
       "      <td>...</td>\n",
       "      <td>-0.073374</td>\n",
       "      <td>-0.054504</td>\n",
       "      <td>0.785903</td>\n",
       "      <td>1.134205</td>\n",
       "      <td>-1.303284</td>\n",
       "      <td>-1.215346</td>\n",
       "      <td>2.028404</td>\n",
       "      <td>-0.427211</td>\n",
       "      <td>-0.238539</td>\n",
       "      <td>-0.1512</td>\n",
       "    </tr>\n",
       "    <tr>\n",
       "      <th>2</th>\n",
       "      <td>1.269913</td>\n",
       "      <td>-0.619214</td>\n",
       "      <td>-0.348986</td>\n",
       "      <td>-0.548889</td>\n",
       "      <td>-1.404697</td>\n",
       "      <td>0.840054</td>\n",
       "      <td>-0.859566</td>\n",
       "      <td>-1.035040</td>\n",
       "      <td>2.14528</td>\n",
       "      <td>-0.661342</td>\n",
       "      <td>...</td>\n",
       "      <td>-0.073374</td>\n",
       "      <td>-0.054504</td>\n",
       "      <td>0.925403</td>\n",
       "      <td>1.848571</td>\n",
       "      <td>-0.379102</td>\n",
       "      <td>-1.215346</td>\n",
       "      <td>-0.492998</td>\n",
       "      <td>2.340765</td>\n",
       "      <td>-0.238539</td>\n",
       "      <td>-0.1512</td>\n",
       "    </tr>\n",
       "    <tr>\n",
       "      <th>3</th>\n",
       "      <td>1.269913</td>\n",
       "      <td>-0.619214</td>\n",
       "      <td>-0.348986</td>\n",
       "      <td>-0.548889</td>\n",
       "      <td>0.778116</td>\n",
       "      <td>0.840054</td>\n",
       "      <td>-0.810152</td>\n",
       "      <td>0.966146</td>\n",
       "      <td>-0.46614</td>\n",
       "      <td>-0.661342</td>\n",
       "      <td>...</td>\n",
       "      <td>-0.073374</td>\n",
       "      <td>-0.054504</td>\n",
       "      <td>0.925403</td>\n",
       "      <td>1.848571</td>\n",
       "      <td>-0.336798</td>\n",
       "      <td>0.822811</td>\n",
       "      <td>-0.492998</td>\n",
       "      <td>-0.427211</td>\n",
       "      <td>-0.238539</td>\n",
       "      <td>-0.1512</td>\n",
       "    </tr>\n",
       "    <tr>\n",
       "      <th>4</th>\n",
       "      <td>-0.787456</td>\n",
       "      <td>1.614950</td>\n",
       "      <td>-0.348986</td>\n",
       "      <td>-0.548889</td>\n",
       "      <td>0.778116</td>\n",
       "      <td>-0.500510</td>\n",
       "      <td>0.922952</td>\n",
       "      <td>0.966146</td>\n",
       "      <td>-0.46614</td>\n",
       "      <td>-0.661342</td>\n",
       "      <td>...</td>\n",
       "      <td>-0.073374</td>\n",
       "      <td>-0.054504</td>\n",
       "      <td>-0.564581</td>\n",
       "      <td>-0.651568</td>\n",
       "      <td>-0.219649</td>\n",
       "      <td>0.822811</td>\n",
       "      <td>-0.492998</td>\n",
       "      <td>-0.427211</td>\n",
       "      <td>-0.238539</td>\n",
       "      <td>-0.1512</td>\n",
       "    </tr>\n",
       "    <tr>\n",
       "      <th>...</th>\n",
       "      <td>...</td>\n",
       "      <td>...</td>\n",
       "      <td>...</td>\n",
       "      <td>...</td>\n",
       "      <td>...</td>\n",
       "      <td>...</td>\n",
       "      <td>...</td>\n",
       "      <td>...</td>\n",
       "      <td>...</td>\n",
       "      <td>...</td>\n",
       "      <td>...</td>\n",
       "      <td>...</td>\n",
       "      <td>...</td>\n",
       "      <td>...</td>\n",
       "      <td>...</td>\n",
       "      <td>...</td>\n",
       "      <td>...</td>\n",
       "      <td>...</td>\n",
       "      <td>...</td>\n",
       "      <td>...</td>\n",
       "      <td>...</td>\n",
       "    </tr>\n",
       "    <tr>\n",
       "      <th>135384</th>\n",
       "      <td>1.269913</td>\n",
       "      <td>-0.619214</td>\n",
       "      <td>-0.348986</td>\n",
       "      <td>-0.548889</td>\n",
       "      <td>0.778116</td>\n",
       "      <td>-0.947365</td>\n",
       "      <td>-1.204508</td>\n",
       "      <td>0.966146</td>\n",
       "      <td>-0.46614</td>\n",
       "      <td>-0.661342</td>\n",
       "      <td>...</td>\n",
       "      <td>-0.073374</td>\n",
       "      <td>-0.054504</td>\n",
       "      <td>-0.971211</td>\n",
       "      <td>-0.580203</td>\n",
       "      <td>0.398642</td>\n",
       "      <td>0.822811</td>\n",
       "      <td>-0.492998</td>\n",
       "      <td>-0.427211</td>\n",
       "      <td>-0.238539</td>\n",
       "      <td>-0.1512</td>\n",
       "    </tr>\n",
       "    <tr>\n",
       "      <th>135385</th>\n",
       "      <td>1.269913</td>\n",
       "      <td>-0.619214</td>\n",
       "      <td>-0.348986</td>\n",
       "      <td>-0.548889</td>\n",
       "      <td>0.778116</td>\n",
       "      <td>-0.181328</td>\n",
       "      <td>0.922712</td>\n",
       "      <td>0.966146</td>\n",
       "      <td>-0.46614</td>\n",
       "      <td>-0.661342</td>\n",
       "      <td>...</td>\n",
       "      <td>-0.073374</td>\n",
       "      <td>-0.054504</td>\n",
       "      <td>-0.193569</td>\n",
       "      <td>-0.723076</td>\n",
       "      <td>1.208928</td>\n",
       "      <td>0.822811</td>\n",
       "      <td>-0.492998</td>\n",
       "      <td>-0.427211</td>\n",
       "      <td>-0.238539</td>\n",
       "      <td>-0.1512</td>\n",
       "    </tr>\n",
       "    <tr>\n",
       "      <th>135386</th>\n",
       "      <td>1.269913</td>\n",
       "      <td>-0.619214</td>\n",
       "      <td>-0.348986</td>\n",
       "      <td>-0.548889</td>\n",
       "      <td>0.778116</td>\n",
       "      <td>0.840054</td>\n",
       "      <td>1.314910</td>\n",
       "      <td>-1.035040</td>\n",
       "      <td>-0.46614</td>\n",
       "      <td>1.512078</td>\n",
       "      <td>...</td>\n",
       "      <td>-0.073374</td>\n",
       "      <td>-0.054504</td>\n",
       "      <td>0.925403</td>\n",
       "      <td>1.848571</td>\n",
       "      <td>0.405150</td>\n",
       "      <td>0.822811</td>\n",
       "      <td>-0.492998</td>\n",
       "      <td>-0.427211</td>\n",
       "      <td>-0.238539</td>\n",
       "      <td>-0.1512</td>\n",
       "    </tr>\n",
       "    <tr>\n",
       "      <th>135387</th>\n",
       "      <td>-0.787456</td>\n",
       "      <td>1.614950</td>\n",
       "      <td>-0.348986</td>\n",
       "      <td>-0.548889</td>\n",
       "      <td>0.778116</td>\n",
       "      <td>-0.883528</td>\n",
       "      <td>-0.477684</td>\n",
       "      <td>-1.035040</td>\n",
       "      <td>-0.46614</td>\n",
       "      <td>1.512078</td>\n",
       "      <td>...</td>\n",
       "      <td>-0.073374</td>\n",
       "      <td>-0.054504</td>\n",
       "      <td>-0.858423</td>\n",
       "      <td>-0.080147</td>\n",
       "      <td>-0.509269</td>\n",
       "      <td>0.822811</td>\n",
       "      <td>-0.492998</td>\n",
       "      <td>-0.427211</td>\n",
       "      <td>-0.238539</td>\n",
       "      <td>-0.1512</td>\n",
       "    </tr>\n",
       "    <tr>\n",
       "      <th>135388</th>\n",
       "      <td>1.269913</td>\n",
       "      <td>-0.619214</td>\n",
       "      <td>-0.348986</td>\n",
       "      <td>-0.548889</td>\n",
       "      <td>0.778116</td>\n",
       "      <td>-1.458056</td>\n",
       "      <td>-1.190595</td>\n",
       "      <td>-1.035040</td>\n",
       "      <td>-0.46614</td>\n",
       "      <td>1.512078</td>\n",
       "      <td>...</td>\n",
       "      <td>-0.073374</td>\n",
       "      <td>-0.054504</td>\n",
       "      <td>-1.487659</td>\n",
       "      <td>-0.294457</td>\n",
       "      <td>0.824937</td>\n",
       "      <td>0.822811</td>\n",
       "      <td>-0.492998</td>\n",
       "      <td>-0.427211</td>\n",
       "      <td>-0.238539</td>\n",
       "      <td>-0.1512</td>\n",
       "    </tr>\n",
       "  </tbody>\n",
       "</table>\n",
       "<p>135389 rows × 63 columns</p>\n",
       "</div>"
      ],
      "text/plain": [
       "              0         1         2         3         4         5         6   \\\n",
       "0       1.269913 -0.619214 -0.348986 -0.548889  0.778116 -0.181328  0.628145   \n",
       "1      -0.787456  1.614950 -0.348986 -0.548889 -0.677093  0.712381 -0.105876   \n",
       "2       1.269913 -0.619214 -0.348986 -0.548889 -1.404697  0.840054 -0.859566   \n",
       "3       1.269913 -0.619214 -0.348986 -0.548889  0.778116  0.840054 -0.810152   \n",
       "4      -0.787456  1.614950 -0.348986 -0.548889  0.778116 -0.500510  0.922952   \n",
       "...          ...       ...       ...       ...       ...       ...       ...   \n",
       "135384  1.269913 -0.619214 -0.348986 -0.548889  0.778116 -0.947365 -1.204508   \n",
       "135385  1.269913 -0.619214 -0.348986 -0.548889  0.778116 -0.181328  0.922712   \n",
       "135386  1.269913 -0.619214 -0.348986 -0.548889  0.778116  0.840054  1.314910   \n",
       "135387 -0.787456  1.614950 -0.348986 -0.548889  0.778116 -0.883528 -0.477684   \n",
       "135388  1.269913 -0.619214 -0.348986 -0.548889  0.778116 -1.458056 -1.190595   \n",
       "\n",
       "              7        8         9   ...        53        54        55  \\\n",
       "0       0.966146 -0.46614 -0.661342  ... -0.073374 -0.054504 -0.149048   \n",
       "1       0.966146 -0.46614 -0.661342  ... -0.073374 -0.054504  0.785903   \n",
       "2      -1.035040  2.14528 -0.661342  ... -0.073374 -0.054504  0.925403   \n",
       "3       0.966146 -0.46614 -0.661342  ... -0.073374 -0.054504  0.925403   \n",
       "4       0.966146 -0.46614 -0.661342  ... -0.073374 -0.054504 -0.564581   \n",
       "...          ...      ...       ...  ...       ...       ...       ...   \n",
       "135384  0.966146 -0.46614 -0.661342  ... -0.073374 -0.054504 -0.971211   \n",
       "135385  0.966146 -0.46614 -0.661342  ... -0.073374 -0.054504 -0.193569   \n",
       "135386 -1.035040 -0.46614  1.512078  ... -0.073374 -0.054504  0.925403   \n",
       "135387 -1.035040 -0.46614  1.512078  ... -0.073374 -0.054504 -0.858423   \n",
       "135388 -1.035040 -0.46614  1.512078  ... -0.073374 -0.054504 -1.487659   \n",
       "\n",
       "              56        57        58        59        60        61      62  \n",
       "0      -0.794442 -0.037416  0.822811 -0.492998 -0.427211 -0.238539 -0.1512  \n",
       "1       1.134205 -1.303284 -1.215346  2.028404 -0.427211 -0.238539 -0.1512  \n",
       "2       1.848571 -0.379102 -1.215346 -0.492998  2.340765 -0.238539 -0.1512  \n",
       "3       1.848571 -0.336798  0.822811 -0.492998 -0.427211 -0.238539 -0.1512  \n",
       "4      -0.651568 -0.219649  0.822811 -0.492998 -0.427211 -0.238539 -0.1512  \n",
       "...          ...       ...       ...       ...       ...       ...     ...  \n",
       "135384 -0.580203  0.398642  0.822811 -0.492998 -0.427211 -0.238539 -0.1512  \n",
       "135385 -0.723076  1.208928  0.822811 -0.492998 -0.427211 -0.238539 -0.1512  \n",
       "135386  1.848571  0.405150  0.822811 -0.492998 -0.427211 -0.238539 -0.1512  \n",
       "135387 -0.080147 -0.509269  0.822811 -0.492998 -0.427211 -0.238539 -0.1512  \n",
       "135388 -0.294457  0.824937  0.822811 -0.492998 -0.427211 -0.238539 -0.1512  \n",
       "\n",
       "[135389 rows x 63 columns]"
      ]
     },
     "execution_count": 485,
     "metadata": {},
     "output_type": "execute_result"
    }
   ],
   "source": [
    "X_train_sc"
   ]
  },
  {
   "cell_type": "code",
   "execution_count": 486,
   "metadata": {},
   "outputs": [
    {
     "data": {
      "text/plain": [
       "(135389, 63)"
      ]
     },
     "execution_count": 486,
     "metadata": {},
     "output_type": "execute_result"
    }
   ],
   "source": [
    "X_train_sc.shape"
   ]
  },
  {
   "cell_type": "code",
   "execution_count": 487,
   "metadata": {},
   "outputs": [],
   "source": [
    "# make into a df-\n",
    "\n",
    "X_test_sc = pd.DataFrame(X_test_sc)"
   ]
  },
  {
   "cell_type": "code",
   "execution_count": 488,
   "metadata": {},
   "outputs": [
    {
     "data": {
      "text/plain": [
       "(45130, 63)"
      ]
     },
     "execution_count": 488,
     "metadata": {},
     "output_type": "execute_result"
    }
   ],
   "source": [
    "X_test_sc.shape"
   ]
  },
  {
   "cell_type": "code",
   "execution_count": 489,
   "metadata": {},
   "outputs": [],
   "source": [
    "# define Rachael's function-\n",
    "\n",
    "def pipe(model):\n",
    "    #instantiate model\n",
    "    model = model()\n",
    "    #fit to scaled data\n",
    "    model.fit(X_train_sc, y_train)\n",
    "    \n",
    "    #make predictions\n",
    "    predictions = model.predict(X_test_sc)\n",
    "    #print accuracy scores for training and testing groups\n",
    "    print(f'{model} training score: {model.score(X_train_sc, y_train)}')\n",
    "    print(f'{model} testing score: {model.score(X_test_sc, y_test)}')\n",
    "    \n",
    "    return\n",
    "\n",
    "# from:\n",
    "# Rachael Friedman\n",
    "# https://towardsdatascience.com/how-to-make-your-modeling-process-more-efficient-89e70259839d"
   ]
  },
  {
   "cell_type": "code",
   "execution_count": 318,
   "metadata": {},
   "outputs": [
    {
     "name": "stdout",
     "output_type": "stream",
     "text": [
      "LogisticRegression() training score: 0.8037506739838539\n",
      "LogisticRegression() testing score: 0.7992687790826501\n"
     ]
    }
   ],
   "source": [
    "# run it across the various models to get an initial sense of performance-\n",
    "\n",
    "pipe(LogisticRegression)\n",
    "\n",
    "# this is with shipping_date included in X, so it may be gaming the model"
   ]
  },
  {
   "cell_type": "code",
   "execution_count": 319,
   "metadata": {},
   "outputs": [
    {
     "name": "stdout",
     "output_type": "stream",
     "text": [
      "DecisionTreeClassifier() training score: 1.0\n",
      "DecisionTreeClassifier() testing score: 0.9286727232439619\n"
     ]
    }
   ],
   "source": [
    "pipe(DecisionTreeClassifier)\n",
    "\n",
    "# same"
   ]
  },
  {
   "cell_type": "code",
   "execution_count": null,
   "metadata": {},
   "outputs": [],
   "source": [
    "pipe(KNeighborsClassifier)\n",
    "\n",
    "# these 2 kept sticking so I didn't run them"
   ]
  },
  {
   "cell_type": "code",
   "execution_count": null,
   "metadata": {},
   "outputs": [],
   "source": [
    "pipe(SVC)"
   ]
  },
  {
   "cell_type": "code",
   "execution_count": 402,
   "metadata": {},
   "outputs": [
    {
     "name": "stdout",
     "output_type": "stream",
     "text": [
      "RandomForestClassifier() training score: 1.0\n",
      "RandomForestClassifier() testing score: 0.7831376024817195\n"
     ]
    }
   ],
   "source": [
    "pipe(RandomForestClassifier)"
   ]
  },
  {
   "cell_type": "code",
   "execution_count": 405,
   "metadata": {},
   "outputs": [
    {
     "name": "stdout",
     "output_type": "stream",
     "text": [
      "AdaBoostClassifier() training score: 0.7009875248358434\n",
      "AdaBoostClassifier() testing score: 0.6997784179038333\n"
     ]
    }
   ],
   "source": [
    "pipe(AdaBoostClassifier)"
   ]
  },
  {
   "cell_type": "code",
   "execution_count": 406,
   "metadata": {},
   "outputs": [
    {
     "name": "stdout",
     "output_type": "stream",
     "text": [
      "GradientBoostingClassifier() training score: 0.7057441889666073\n",
      "GradientBoostingClassifier() testing score: 0.7046532240194993\n"
     ]
    }
   ],
   "source": [
    "pipe(GradientBoostingClassifier)"
   ]
  },
  {
   "cell_type": "code",
   "execution_count": 407,
   "metadata": {},
   "outputs": [
    {
     "name": "stdout",
     "output_type": "stream",
     "text": [
      "ExtraTreesClassifier() training score: 1.0\n",
      "ExtraTreesClassifier() testing score: 0.7567693330378905\n"
     ]
    }
   ],
   "source": [
    "pipe(ExtraTreesClassifier)"
   ]
  },
  {
   "cell_type": "code",
   "execution_count": null,
   "metadata": {},
   "outputs": [],
   "source": []
  }
 ],
 "metadata": {
  "kernelspec": {
   "display_name": "Python 3",
   "language": "python",
   "name": "python3"
  },
  "language_info": {
   "codemirror_mode": {
    "name": "ipython",
    "version": 3
   },
   "file_extension": ".py",
   "mimetype": "text/x-python",
   "name": "python",
   "nbconvert_exporter": "python",
   "pygments_lexer": "ipython3",
   "version": "3.8.5"
  }
 },
 "nbformat": 4,
 "nbformat_minor": 4
}

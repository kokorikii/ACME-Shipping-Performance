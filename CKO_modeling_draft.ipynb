{
 "cells": [
  {
   "cell_type": "code",
   "execution_count": 295,
   "metadata": {},
   "outputs": [],
   "source": [
    "import pandas as pd\n",
    "import numpy as np\n",
    "import matplotlib.pyplot as plt\n",
    "import seaborn as sns\n",
    "import datetime as dt\n",
    "import category_encoders as ce\n",
    "import calendar\n",
    "\n",
    "import tensorflow as tf\n",
    "\n",
    "from tensorflow.keras.callbacks import EarlyStopping\n",
    "from tensorflow.keras.layers import Dense, BatchNormalization\n",
    "from tensorflow.keras.models import Sequential\n",
    "\n",
    "\n",
    "from sklearn.compose import make_column_transformer, make_column_selector\n",
    "from sklearn.ensemble import GradientBoostingClassifier, RandomForestClassifier, ExtraTreesClassifier, AdaBoostClassifier\n",
    "from sklearn.linear_model import LogisticRegression \n",
    "from sklearn.metrics import balanced_accuracy_score, confusion_matrix, ConfusionMatrixDisplay, f1_score, precision_score, recall_score\n",
    "from sklearn.model_selection import train_test_split, GridSearchCV\n",
    "from sklearn.neighbors import KNeighborsClassifier\n",
    "from sklearn.pipeline import make_pipeline, Pipeline\n",
    "from sklearn.preprocessing import OneHotEncoder, StandardScaler\n",
    "\n",
    "from sklearn import svm\n",
    "from sklearn.svm import SVC\n",
    "from sklearn.tree import DecisionTreeClassifier\n",
    "\n",
    "from tensorflow.keras.callbacks import EarlyStopping\n",
    "from tensorflow.keras.layers import Dense, BatchNormalization\n",
    "from tensorflow.keras.models import Sequential\n",
    "\n",
    "import warnings\n",
    "warnings.filterwarnings(\"ignore\")"
   ]
  },
  {
   "cell_type": "code",
   "execution_count": 198,
   "metadata": {},
   "outputs": [],
   "source": [
    "df = pd.read_csv('./data/ship_clean.csv')"
   ]
  },
  {
   "cell_type": "code",
   "execution_count": 199,
   "metadata": {},
   "outputs": [
    {
     "name": "stdout",
     "output_type": "stream",
     "text": [
      "<class 'pandas.core.frame.DataFrame'>\n",
      "RangeIndex: 180519 entries, 0 to 180518\n",
      "Data columns (total 36 columns):\n",
      " #   Column                    Non-Null Count   Dtype  \n",
      "---  ------                    --------------   -----  \n",
      " 0   type                      180519 non-null  object \n",
      " 1   actual_ship_days          180519 non-null  int64  \n",
      " 2   estimated_ship_days       180519 non-null  int64  \n",
      " 3   delivery_status           180519 non-null  object \n",
      " 4   late_delivery_risk        180519 non-null  int64  \n",
      " 5   category_id               180519 non-null  int64  \n",
      " 6   category_name             180519 non-null  object \n",
      " 7   customer_city             180519 non-null  object \n",
      " 8   customer_id               180519 non-null  int64  \n",
      " 9   customer_segment          180519 non-null  object \n",
      " 10  customer_state            180519 non-null  object \n",
      " 11  customer_zipcode          180516 non-null  float64\n",
      " 12  department_name           180519 non-null  object \n",
      " 13  latitude                  180519 non-null  float64\n",
      " 14  longitude                 180519 non-null  float64\n",
      " 15  market                    180519 non-null  object \n",
      " 16  order_city                180519 non-null  object \n",
      " 17  order_country             180519 non-null  object \n",
      " 18  order_date                180519 non-null  object \n",
      " 19  order_id                  180519 non-null  int64  \n",
      " 20  order_item_discount_rate  180519 non-null  float64\n",
      " 21  order_item_profit_ratio   180519 non-null  float64\n",
      " 22  order_item_quantity       180519 non-null  int64  \n",
      " 23  order_region              180519 non-null  object \n",
      " 24  order_state               180519 non-null  object \n",
      " 25  order_status              180519 non-null  object \n",
      " 26  product_card_id           180519 non-null  int64  \n",
      " 27  product_name              180519 non-null  object \n",
      " 28  product_price             180519 non-null  float64\n",
      " 29  shipping_date             180519 non-null  object \n",
      " 30  shipping_mode             180519 non-null  object \n",
      " 31  ship_performance          180519 non-null  int64  \n",
      " 32  ontime                    180519 non-null  int64  \n",
      " 33  is_fraud                  180519 non-null  int64  \n",
      " 34  order_hour                180519 non-null  int64  \n",
      " 35  order_before_noon         180519 non-null  int64  \n",
      "dtypes: float64(6), int64(13), object(17)\n",
      "memory usage: 49.6+ MB\n"
     ]
    }
   ],
   "source": [
    "df.info()"
   ]
  },
  {
   "cell_type": "code",
   "execution_count": 200,
   "metadata": {},
   "outputs": [],
   "source": [
    "# change order_date and shipping_date features to datetime format-\n",
    "\n",
    "df['order_date'] = pd.to_datetime(df['order_date'])"
   ]
  },
  {
   "cell_type": "code",
   "execution_count": 201,
   "metadata": {},
   "outputs": [],
   "source": [
    "df['shipping_date'] = pd.to_datetime(df['shipping_date'])"
   ]
  },
  {
   "cell_type": "code",
   "execution_count": 202,
   "metadata": {},
   "outputs": [
    {
     "name": "stdout",
     "output_type": "stream",
     "text": [
      "<class 'pandas.core.frame.DataFrame'>\n",
      "RangeIndex: 180519 entries, 0 to 180518\n",
      "Data columns (total 36 columns):\n",
      " #   Column                    Non-Null Count   Dtype         \n",
      "---  ------                    --------------   -----         \n",
      " 0   type                      180519 non-null  object        \n",
      " 1   actual_ship_days          180519 non-null  int64         \n",
      " 2   estimated_ship_days       180519 non-null  int64         \n",
      " 3   delivery_status           180519 non-null  object        \n",
      " 4   late_delivery_risk        180519 non-null  int64         \n",
      " 5   category_id               180519 non-null  int64         \n",
      " 6   category_name             180519 non-null  object        \n",
      " 7   customer_city             180519 non-null  object        \n",
      " 8   customer_id               180519 non-null  int64         \n",
      " 9   customer_segment          180519 non-null  object        \n",
      " 10  customer_state            180519 non-null  object        \n",
      " 11  customer_zipcode          180516 non-null  float64       \n",
      " 12  department_name           180519 non-null  object        \n",
      " 13  latitude                  180519 non-null  float64       \n",
      " 14  longitude                 180519 non-null  float64       \n",
      " 15  market                    180519 non-null  object        \n",
      " 16  order_city                180519 non-null  object        \n",
      " 17  order_country             180519 non-null  object        \n",
      " 18  order_date                180519 non-null  datetime64[ns]\n",
      " 19  order_id                  180519 non-null  int64         \n",
      " 20  order_item_discount_rate  180519 non-null  float64       \n",
      " 21  order_item_profit_ratio   180519 non-null  float64       \n",
      " 22  order_item_quantity       180519 non-null  int64         \n",
      " 23  order_region              180519 non-null  object        \n",
      " 24  order_state               180519 non-null  object        \n",
      " 25  order_status              180519 non-null  object        \n",
      " 26  product_card_id           180519 non-null  int64         \n",
      " 27  product_name              180519 non-null  object        \n",
      " 28  product_price             180519 non-null  float64       \n",
      " 29  shipping_date             180519 non-null  datetime64[ns]\n",
      " 30  shipping_mode             180519 non-null  object        \n",
      " 31  ship_performance          180519 non-null  int64         \n",
      " 32  ontime                    180519 non-null  int64         \n",
      " 33  is_fraud                  180519 non-null  int64         \n",
      " 34  order_hour                180519 non-null  int64         \n",
      " 35  order_before_noon         180519 non-null  int64         \n",
      "dtypes: datetime64[ns](2), float64(6), int64(13), object(15)\n",
      "memory usage: 49.6+ MB\n"
     ]
    }
   ],
   "source": [
    "df.info()"
   ]
  },
  {
   "cell_type": "code",
   "execution_count": 117,
   "metadata": {},
   "outputs": [
    {
     "data": {
      "text/plain": [
       "array(['DEBIT', 'TRANSFER', 'CASH', 'PAYMENT'], dtype=object)"
      ]
     },
     "execution_count": 117,
     "metadata": {},
     "output_type": "execute_result"
    }
   ],
   "source": [
    "# check categorical column value counts to figure out which can be onehotencoded-\n",
    "\n",
    "df['type'].unique()  # ohe"
   ]
  },
  {
   "cell_type": "code",
   "execution_count": 118,
   "metadata": {},
   "outputs": [
    {
     "data": {
      "text/plain": [
       "array(['Advance shipping', 'Late delivery', 'Shipping on time',\n",
       "       'Shipping canceled'], dtype=object)"
      ]
     },
     "execution_count": 118,
     "metadata": {},
     "output_type": "execute_result"
    }
   ],
   "source": [
    "df['delivery_status'].unique()    # drop, colinear with prediction column"
   ]
  },
  {
   "cell_type": "code",
   "execution_count": 119,
   "metadata": {},
   "outputs": [],
   "source": [
    "# df['category_name'].unique()    # too many vals"
   ]
  },
  {
   "cell_type": "code",
   "execution_count": 120,
   "metadata": {},
   "outputs": [],
   "source": [
    "# df['customer_city'].unique()    # too many vals"
   ]
  },
  {
   "cell_type": "code",
   "execution_count": 121,
   "metadata": {},
   "outputs": [
    {
     "data": {
      "text/plain": [
       "array(['Consumer', 'Home Office', 'Corporate'], dtype=object)"
      ]
     },
     "execution_count": 121,
     "metadata": {},
     "output_type": "execute_result"
    }
   ],
   "source": [
    "df['customer_segment'].unique()   # ohe"
   ]
  },
  {
   "cell_type": "code",
   "execution_count": 122,
   "metadata": {},
   "outputs": [],
   "source": [
    "# df['customer_state'].unique()   # too many vals"
   ]
  },
  {
   "cell_type": "code",
   "execution_count": 123,
   "metadata": {},
   "outputs": [
    {
     "data": {
      "text/plain": [
       "array(['Fitness', 'Apparel', 'Golf', 'Footwear', 'Outdoors', 'Fan Shop',\n",
       "       'Technology', 'Book Shop', 'Discs Shop', 'Pet Shop',\n",
       "       'Health and Beauty '], dtype=object)"
      ]
     },
     "execution_count": 123,
     "metadata": {},
     "output_type": "execute_result"
    }
   ],
   "source": [
    "df['department_name'].unique()    # ohe"
   ]
  },
  {
   "cell_type": "code",
   "execution_count": 124,
   "metadata": {},
   "outputs": [
    {
     "data": {
      "text/plain": [
       "array(['Pacific Asia', 'USCA', 'Africa', 'Europe', 'LATAM'], dtype=object)"
      ]
     },
     "execution_count": 124,
     "metadata": {},
     "output_type": "execute_result"
    }
   ],
   "source": [
    "df['market'].unique() # can ohe"
   ]
  },
  {
   "cell_type": "code",
   "execution_count": 125,
   "metadata": {},
   "outputs": [],
   "source": [
    "# df['order_city'].unique()      # too many vals"
   ]
  },
  {
   "cell_type": "code",
   "execution_count": 126,
   "metadata": {},
   "outputs": [],
   "source": [
    "# df['order_country'].unique()   # too many vals"
   ]
  },
  {
   "cell_type": "code",
   "execution_count": 127,
   "metadata": {},
   "outputs": [
    {
     "data": {
      "text/plain": [
       "array(['Southeast Asia', 'South Asia', 'Oceania', 'Eastern Asia',\n",
       "       'West Asia', 'West of USA ', 'US Center ', 'West Africa',\n",
       "       'Central Africa', 'North Africa', 'Western Europe',\n",
       "       'Northern Europe', 'Central America', 'Caribbean', 'South America',\n",
       "       'East Africa', 'Southern Europe', 'East of USA', 'Canada',\n",
       "       'Southern Africa', 'Central Asia', 'Eastern Europe',\n",
       "       'South of  USA '], dtype=object)"
      ]
     },
     "execution_count": 127,
     "metadata": {},
     "output_type": "execute_result"
    }
   ],
   "source": [
    "df['order_region'].unique()      # ohe"
   ]
  },
  {
   "cell_type": "code",
   "execution_count": 128,
   "metadata": {},
   "outputs": [],
   "source": [
    "# df['order_state'].unique()   # too many vals"
   ]
  },
  {
   "cell_type": "code",
   "execution_count": 129,
   "metadata": {},
   "outputs": [
    {
     "data": {
      "text/plain": [
       "array(['COMPLETE', 'PENDING', 'CLOSED', 'PENDING_PAYMENT', 'CANCELED',\n",
       "       'PROCESSING', 'SUSPECTED_FRAUD', 'ON_HOLD', 'PAYMENT_REVIEW'],\n",
       "      dtype=object)"
      ]
     },
     "execution_count": 129,
     "metadata": {},
     "output_type": "execute_result"
    }
   ],
   "source": [
    "df['order_status'].unique()    # ohe"
   ]
  },
  {
   "cell_type": "code",
   "execution_count": 130,
   "metadata": {},
   "outputs": [],
   "source": [
    "# df['product_name'].unique()   # too many vals"
   ]
  },
  {
   "cell_type": "code",
   "execution_count": 131,
   "metadata": {},
   "outputs": [
    {
     "data": {
      "text/plain": [
       "array(['Standard Class', 'First Class', 'Second Class', 'Same Day'],\n",
       "      dtype=object)"
      ]
     },
     "execution_count": 131,
     "metadata": {},
     "output_type": "execute_result"
    }
   ],
   "source": [
    "df['shipping_mode'].unique()    # ohe"
   ]
  },
  {
   "cell_type": "code",
   "execution_count": 132,
   "metadata": {},
   "outputs": [],
   "source": [
    "# drop the categorical variables with too many values, IDed above-\n",
    "\n",
    "X = df.drop(columns=['category_name', 'customer_city', 'customer_state', 'order_city', 'order_country', 'order_state', 'product_name'])"
   ]
  },
  {
   "cell_type": "code",
   "execution_count": 133,
   "metadata": {},
   "outputs": [
    {
     "name": "stdout",
     "output_type": "stream",
     "text": [
      "<class 'pandas.core.frame.DataFrame'>\n",
      "RangeIndex: 180519 entries, 0 to 180518\n",
      "Data columns (total 29 columns):\n",
      " #   Column                    Non-Null Count   Dtype         \n",
      "---  ------                    --------------   -----         \n",
      " 0   type                      180519 non-null  object        \n",
      " 1   actual_ship_days          180519 non-null  int64         \n",
      " 2   estimated_ship_days       180519 non-null  int64         \n",
      " 3   delivery_status           180519 non-null  object        \n",
      " 4   late_delivery_risk        180519 non-null  int64         \n",
      " 5   category_id               180519 non-null  int64         \n",
      " 6   customer_id               180519 non-null  int64         \n",
      " 7   customer_segment          180519 non-null  object        \n",
      " 8   customer_zipcode          180516 non-null  float64       \n",
      " 9   department_name           180519 non-null  object        \n",
      " 10  latitude                  180519 non-null  float64       \n",
      " 11  longitude                 180519 non-null  float64       \n",
      " 12  market                    180519 non-null  object        \n",
      " 13  order_date                180519 non-null  datetime64[ns]\n",
      " 14  order_id                  180519 non-null  int64         \n",
      " 15  order_item_discount_rate  180519 non-null  float64       \n",
      " 16  order_item_profit_ratio   180519 non-null  float64       \n",
      " 17  order_item_quantity       180519 non-null  int64         \n",
      " 18  order_region              180519 non-null  object        \n",
      " 19  order_status              180519 non-null  object        \n",
      " 20  product_card_id           180519 non-null  int64         \n",
      " 21  product_price             180519 non-null  float64       \n",
      " 22  shipping_date             180519 non-null  datetime64[ns]\n",
      " 23  shipping_mode             180519 non-null  object        \n",
      " 24  ship_performance          180519 non-null  int64         \n",
      " 25  ontime                    180519 non-null  int64         \n",
      " 26  is_fraud                  180519 non-null  int64         \n",
      " 27  order_hour                180519 non-null  int64         \n",
      " 28  order_before_noon         180519 non-null  int64         \n",
      "dtypes: datetime64[ns](2), float64(6), int64(13), object(8)\n",
      "memory usage: 39.9+ MB\n"
     ]
    }
   ],
   "source": [
    "X.info()"
   ]
  },
  {
   "cell_type": "code",
   "execution_count": 134,
   "metadata": {},
   "outputs": [],
   "source": [
    "# drop features that overlap with/bias the target (ontime)-\n",
    "\n",
    "X = X.drop(columns=['actual_ship_days', 'late_delivery_risk', 'delivery_status', 'order_status', 'ship_performance', 'ontime'])"
   ]
  },
  {
   "cell_type": "code",
   "execution_count": 135,
   "metadata": {},
   "outputs": [],
   "source": [
    "# drop datetime dtypes-\n",
    "\n",
    "# X = X.drop(columns=['order_date', 'shipping_date'])"
   ]
  },
  {
   "cell_type": "code",
   "execution_count": 136,
   "metadata": {},
   "outputs": [],
   "source": [
    "# drop shipping_date (keep order_date)-\n",
    "\n",
    "# X = X.drop(columns=['shipping_date'])"
   ]
  },
  {
   "cell_type": "code",
   "execution_count": 137,
   "metadata": {},
   "outputs": [],
   "source": [
    "# change order_date from datetime to ordinal so it can be included in X-\n",
    "\n",
    "# X['order_date'] = X['order_date'].map(dt.datetime.toordinal)"
   ]
  },
  {
   "cell_type": "code",
   "execution_count": 138,
   "metadata": {},
   "outputs": [],
   "source": [
    "# drop order_date (keep shipping_date)-\n",
    "\n",
    "X = X.drop(columns=['order_date'])"
   ]
  },
  {
   "cell_type": "code",
   "execution_count": 139,
   "metadata": {},
   "outputs": [],
   "source": [
    "# change shipping_date from datetime to ordinal so it can be included in X-\n",
    "\n",
    "X['shipping_date'] = X['shipping_date'].map(dt.datetime.toordinal)"
   ]
  },
  {
   "cell_type": "code",
   "execution_count": 140,
   "metadata": {},
   "outputs": [
    {
     "data": {
      "text/plain": [
       "(180519, 22)"
      ]
     },
     "execution_count": 140,
     "metadata": {},
     "output_type": "execute_result"
    }
   ],
   "source": [
    "X.shape"
   ]
  },
  {
   "cell_type": "code",
   "execution_count": 141,
   "metadata": {},
   "outputs": [],
   "source": [
    "# drop zipcode, raises an error-\n",
    "\n",
    "X = X.drop(columns=['customer_zipcode'])"
   ]
  },
  {
   "cell_type": "code",
   "execution_count": 142,
   "metadata": {},
   "outputs": [
    {
     "data": {
      "text/plain": [
       "(180519, 21)"
      ]
     },
     "execution_count": 142,
     "metadata": {},
     "output_type": "execute_result"
    }
   ],
   "source": [
    "X.shape"
   ]
  },
  {
   "cell_type": "code",
   "execution_count": 143,
   "metadata": {},
   "outputs": [
    {
     "name": "stdout",
     "output_type": "stream",
     "text": [
      "<class 'pandas.core.frame.DataFrame'>\n",
      "RangeIndex: 180519 entries, 0 to 180518\n",
      "Data columns (total 21 columns):\n",
      " #   Column                    Non-Null Count   Dtype  \n",
      "---  ------                    --------------   -----  \n",
      " 0   type                      180519 non-null  object \n",
      " 1   estimated_ship_days       180519 non-null  int64  \n",
      " 2   category_id               180519 non-null  int64  \n",
      " 3   customer_id               180519 non-null  int64  \n",
      " 4   customer_segment          180519 non-null  object \n",
      " 5   department_name           180519 non-null  object \n",
      " 6   latitude                  180519 non-null  float64\n",
      " 7   longitude                 180519 non-null  float64\n",
      " 8   market                    180519 non-null  object \n",
      " 9   order_id                  180519 non-null  int64  \n",
      " 10  order_item_discount_rate  180519 non-null  float64\n",
      " 11  order_item_profit_ratio   180519 non-null  float64\n",
      " 12  order_item_quantity       180519 non-null  int64  \n",
      " 13  order_region              180519 non-null  object \n",
      " 14  product_card_id           180519 non-null  int64  \n",
      " 15  product_price             180519 non-null  float64\n",
      " 16  shipping_date             180519 non-null  int64  \n",
      " 17  shipping_mode             180519 non-null  object \n",
      " 18  is_fraud                  180519 non-null  int64  \n",
      " 19  order_hour                180519 non-null  int64  \n",
      " 20  order_before_noon         180519 non-null  int64  \n",
      "dtypes: float64(5), int64(10), object(6)\n",
      "memory usage: 28.9+ MB\n"
     ]
    }
   ],
   "source": [
    "X.info()"
   ]
  },
  {
   "cell_type": "code",
   "execution_count": 144,
   "metadata": {},
   "outputs": [],
   "source": [
    "# set y-\n",
    "\n",
    "y = df['ontime']"
   ]
  },
  {
   "cell_type": "code",
   "execution_count": 145,
   "metadata": {},
   "outputs": [
    {
     "data": {
      "text/plain": [
       "0         1\n",
       "1         0\n",
       "2         1\n",
       "3         1\n",
       "4         1\n",
       "         ..\n",
       "180514    1\n",
       "180515    0\n",
       "180516    0\n",
       "180517    1\n",
       "180518    1\n",
       "Name: ontime, Length: 180519, dtype: int64"
      ]
     },
     "execution_count": 145,
     "metadata": {},
     "output_type": "execute_result"
    }
   ],
   "source": [
    "y"
   ]
  },
  {
   "cell_type": "code",
   "execution_count": 146,
   "metadata": {},
   "outputs": [
    {
     "data": {
      "text/plain": [
       "0    0.572793\n",
       "1    0.427207\n",
       "Name: ontime, dtype: float64"
      ]
     },
     "execution_count": 146,
     "metadata": {},
     "output_type": "execute_result"
    }
   ],
   "source": [
    "# get a baseline (57%)-\n",
    "\n",
    "y.value_counts(normalize=True)"
   ]
  },
  {
   "cell_type": "code",
   "execution_count": 147,
   "metadata": {},
   "outputs": [
    {
     "data": {
      "text/plain": [
       "(180519,)"
      ]
     },
     "execution_count": 147,
     "metadata": {},
     "output_type": "execute_result"
    }
   ],
   "source": [
    "y.shape"
   ]
  },
  {
   "cell_type": "code",
   "execution_count": 148,
   "metadata": {},
   "outputs": [
    {
     "name": "stdout",
     "output_type": "stream",
     "text": [
      "<class 'pandas.core.frame.DataFrame'>\n",
      "RangeIndex: 180519 entries, 0 to 180518\n",
      "Data columns (total 21 columns):\n",
      " #   Column                    Non-Null Count   Dtype  \n",
      "---  ------                    --------------   -----  \n",
      " 0   type                      180519 non-null  object \n",
      " 1   estimated_ship_days       180519 non-null  int64  \n",
      " 2   category_id               180519 non-null  int64  \n",
      " 3   customer_id               180519 non-null  int64  \n",
      " 4   customer_segment          180519 non-null  object \n",
      " 5   department_name           180519 non-null  object \n",
      " 6   latitude                  180519 non-null  float64\n",
      " 7   longitude                 180519 non-null  float64\n",
      " 8   market                    180519 non-null  object \n",
      " 9   order_id                  180519 non-null  int64  \n",
      " 10  order_item_discount_rate  180519 non-null  float64\n",
      " 11  order_item_profit_ratio   180519 non-null  float64\n",
      " 12  order_item_quantity       180519 non-null  int64  \n",
      " 13  order_region              180519 non-null  object \n",
      " 14  product_card_id           180519 non-null  int64  \n",
      " 15  product_price             180519 non-null  float64\n",
      " 16  shipping_date             180519 non-null  int64  \n",
      " 17  shipping_mode             180519 non-null  object \n",
      " 18  is_fraud                  180519 non-null  int64  \n",
      " 19  order_hour                180519 non-null  int64  \n",
      " 20  order_before_noon         180519 non-null  int64  \n",
      "dtypes: float64(5), int64(10), object(6)\n",
      "memory usage: 28.9+ MB\n"
     ]
    }
   ],
   "source": [
    "X.info()"
   ]
  },
  {
   "cell_type": "code",
   "execution_count": 149,
   "metadata": {},
   "outputs": [
    {
     "data": {
      "text/plain": [
       "(180519, 21)"
      ]
     },
     "execution_count": 149,
     "metadata": {},
     "output_type": "execute_result"
    }
   ],
   "source": [
    "X.shape"
   ]
  },
  {
   "cell_type": "code",
   "execution_count": 150,
   "metadata": {},
   "outputs": [
    {
     "data": {
      "text/plain": [
       "(180519,)"
      ]
     },
     "execution_count": 150,
     "metadata": {},
     "output_type": "execute_result"
    }
   ],
   "source": [
    "y.shape"
   ]
  },
  {
   "cell_type": "code",
   "execution_count": 151,
   "metadata": {},
   "outputs": [],
   "source": [
    "# intitialize category encoder-\n",
    "\n",
    "ohe = ce.OneHotEncoder()"
   ]
  },
  {
   "cell_type": "code",
   "execution_count": 152,
   "metadata": {},
   "outputs": [],
   "source": [
    "# TTS-\n",
    "\n",
    "X_train, X_test, y_train, y_test = train_test_split(X, y, stratify=y)"
   ]
  },
  {
   "cell_type": "code",
   "execution_count": 153,
   "metadata": {},
   "outputs": [],
   "source": [
    "# onehotencode-\n",
    "\n",
    "X_train = ohe.fit_transform(X_train)"
   ]
  },
  {
   "cell_type": "code",
   "execution_count": 154,
   "metadata": {},
   "outputs": [],
   "source": [
    "X_test = ohe.transform(X_test)"
   ]
  },
  {
   "cell_type": "code",
   "execution_count": 155,
   "metadata": {},
   "outputs": [
    {
     "data": {
      "text/plain": [
       "(135389, 65)"
      ]
     },
     "execution_count": 155,
     "metadata": {},
     "output_type": "execute_result"
    }
   ],
   "source": [
    "X_train.shape"
   ]
  },
  {
   "cell_type": "code",
   "execution_count": 156,
   "metadata": {},
   "outputs": [
    {
     "data": {
      "text/plain": [
       "(45130, 65)"
      ]
     },
     "execution_count": 156,
     "metadata": {},
     "output_type": "execute_result"
    }
   ],
   "source": [
    "X_test.shape"
   ]
  },
  {
   "cell_type": "code",
   "execution_count": 157,
   "metadata": {},
   "outputs": [
    {
     "name": "stdout",
     "output_type": "stream",
     "text": [
      "<class 'pandas.core.frame.DataFrame'>\n",
      "Int64Index: 135389 entries, 84561 to 16145\n",
      "Data columns (total 65 columns):\n",
      " #   Column                    Non-Null Count   Dtype  \n",
      "---  ------                    --------------   -----  \n",
      " 0   type_1                    135389 non-null  int64  \n",
      " 1   type_2                    135389 non-null  int64  \n",
      " 2   type_3                    135389 non-null  int64  \n",
      " 3   type_4                    135389 non-null  int64  \n",
      " 4   estimated_ship_days       135389 non-null  int64  \n",
      " 5   category_id               135389 non-null  int64  \n",
      " 6   customer_id               135389 non-null  int64  \n",
      " 7   customer_segment_1        135389 non-null  int64  \n",
      " 8   customer_segment_2        135389 non-null  int64  \n",
      " 9   customer_segment_3        135389 non-null  int64  \n",
      " 10  department_name_1         135389 non-null  int64  \n",
      " 11  department_name_2         135389 non-null  int64  \n",
      " 12  department_name_3         135389 non-null  int64  \n",
      " 13  department_name_4         135389 non-null  int64  \n",
      " 14  department_name_5         135389 non-null  int64  \n",
      " 15  department_name_6         135389 non-null  int64  \n",
      " 16  department_name_7         135389 non-null  int64  \n",
      " 17  department_name_8         135389 non-null  int64  \n",
      " 18  department_name_9         135389 non-null  int64  \n",
      " 19  department_name_10        135389 non-null  int64  \n",
      " 20  department_name_11        135389 non-null  int64  \n",
      " 21  latitude                  135389 non-null  float64\n",
      " 22  longitude                 135389 non-null  float64\n",
      " 23  market_1                  135389 non-null  int64  \n",
      " 24  market_2                  135389 non-null  int64  \n",
      " 25  market_3                  135389 non-null  int64  \n",
      " 26  market_4                  135389 non-null  int64  \n",
      " 27  market_5                  135389 non-null  int64  \n",
      " 28  order_id                  135389 non-null  int64  \n",
      " 29  order_item_discount_rate  135389 non-null  float64\n",
      " 30  order_item_profit_ratio   135389 non-null  float64\n",
      " 31  order_item_quantity       135389 non-null  int64  \n",
      " 32  order_region_1            135389 non-null  int64  \n",
      " 33  order_region_2            135389 non-null  int64  \n",
      " 34  order_region_3            135389 non-null  int64  \n",
      " 35  order_region_4            135389 non-null  int64  \n",
      " 36  order_region_5            135389 non-null  int64  \n",
      " 37  order_region_6            135389 non-null  int64  \n",
      " 38  order_region_7            135389 non-null  int64  \n",
      " 39  order_region_8            135389 non-null  int64  \n",
      " 40  order_region_9            135389 non-null  int64  \n",
      " 41  order_region_10           135389 non-null  int64  \n",
      " 42  order_region_11           135389 non-null  int64  \n",
      " 43  order_region_12           135389 non-null  int64  \n",
      " 44  order_region_13           135389 non-null  int64  \n",
      " 45  order_region_14           135389 non-null  int64  \n",
      " 46  order_region_15           135389 non-null  int64  \n",
      " 47  order_region_16           135389 non-null  int64  \n",
      " 48  order_region_17           135389 non-null  int64  \n",
      " 49  order_region_18           135389 non-null  int64  \n",
      " 50  order_region_19           135389 non-null  int64  \n",
      " 51  order_region_20           135389 non-null  int64  \n",
      " 52  order_region_21           135389 non-null  int64  \n",
      " 53  order_region_22           135389 non-null  int64  \n",
      " 54  order_region_23           135389 non-null  int64  \n",
      " 55  product_card_id           135389 non-null  int64  \n",
      " 56  product_price             135389 non-null  float64\n",
      " 57  shipping_date             135389 non-null  int64  \n",
      " 58  shipping_mode_1           135389 non-null  int64  \n",
      " 59  shipping_mode_2           135389 non-null  int64  \n",
      " 60  shipping_mode_3           135389 non-null  int64  \n",
      " 61  shipping_mode_4           135389 non-null  int64  \n",
      " 62  is_fraud                  135389 non-null  int64  \n",
      " 63  order_hour                135389 non-null  int64  \n",
      " 64  order_before_noon         135389 non-null  int64  \n",
      "dtypes: float64(5), int64(60)\n",
      "memory usage: 68.2 MB\n"
     ]
    }
   ],
   "source": [
    "X_train.info()"
   ]
  },
  {
   "cell_type": "code",
   "execution_count": 158,
   "metadata": {},
   "outputs": [],
   "source": [
    "# scale-\n",
    "\n",
    "ss = StandardScaler()\n",
    "X_train_sc = ss.fit_transform(X_train)\n",
    "X_test_sc = ss.transform(X_test)"
   ]
  },
  {
   "cell_type": "code",
   "execution_count": 159,
   "metadata": {},
   "outputs": [
    {
     "data": {
      "text/plain": [
       "array([[ 1.61709633, -0.34939888, -0.54855872, ...,  6.55310615,\n",
       "         0.2164582 , -0.99950525],\n",
       "       [-0.61839235,  2.86205837, -0.54855872, ..., -0.15259939,\n",
       "        -0.07237531,  1.00049499],\n",
       "       [-0.61839235, -0.34939888,  1.82295889, ..., -0.15259939,\n",
       "        -1.51654287,  1.00049499],\n",
       "       ...,\n",
       "       [-0.61839235, -0.34939888, -0.54855872, ..., -0.15259939,\n",
       "         1.66062576, -0.99950525],\n",
       "       [-0.61839235, -0.34939888, -0.54855872, ..., -0.15259939,\n",
       "        -1.37212612,  1.00049499],\n",
       "       [-0.61839235,  2.86205837, -0.54855872, ..., -0.15259939,\n",
       "        -1.22770936,  1.00049499]])"
      ]
     },
     "execution_count": 159,
     "metadata": {},
     "output_type": "execute_result"
    }
   ],
   "source": [
    "X_train_sc"
   ]
  },
  {
   "cell_type": "code",
   "execution_count": 160,
   "metadata": {},
   "outputs": [],
   "source": [
    "# make into a df (not sure this is necessary but whateva)-\n",
    "\n",
    "X_train_sc = pd.DataFrame(X_train_sc)"
   ]
  },
  {
   "cell_type": "code",
   "execution_count": 161,
   "metadata": {},
   "outputs": [
    {
     "data": {
      "text/html": [
       "<div>\n",
       "<style scoped>\n",
       "    .dataframe tbody tr th:only-of-type {\n",
       "        vertical-align: middle;\n",
       "    }\n",
       "\n",
       "    .dataframe tbody tr th {\n",
       "        vertical-align: top;\n",
       "    }\n",
       "\n",
       "    .dataframe thead th {\n",
       "        text-align: right;\n",
       "    }\n",
       "</style>\n",
       "<table border=\"1\" class=\"dataframe\">\n",
       "  <thead>\n",
       "    <tr style=\"text-align: right;\">\n",
       "      <th></th>\n",
       "      <th>0</th>\n",
       "      <th>1</th>\n",
       "      <th>2</th>\n",
       "      <th>3</th>\n",
       "      <th>4</th>\n",
       "      <th>5</th>\n",
       "      <th>6</th>\n",
       "      <th>7</th>\n",
       "      <th>8</th>\n",
       "      <th>9</th>\n",
       "      <th>...</th>\n",
       "      <th>55</th>\n",
       "      <th>56</th>\n",
       "      <th>57</th>\n",
       "      <th>58</th>\n",
       "      <th>59</th>\n",
       "      <th>60</th>\n",
       "      <th>61</th>\n",
       "      <th>62</th>\n",
       "      <th>63</th>\n",
       "      <th>64</th>\n",
       "    </tr>\n",
       "  </thead>\n",
       "  <tbody>\n",
       "    <tr>\n",
       "      <th>0</th>\n",
       "      <td>1.617096</td>\n",
       "      <td>-0.349399</td>\n",
       "      <td>-0.548559</td>\n",
       "      <td>-0.788318</td>\n",
       "      <td>-0.679481</td>\n",
       "      <td>-0.948606</td>\n",
       "      <td>-1.196078</td>\n",
       "      <td>1.515779</td>\n",
       "      <td>-1.036572</td>\n",
       "      <td>-0.466609</td>\n",
       "      <td>...</td>\n",
       "      <td>-0.972390</td>\n",
       "      <td>-0.580952</td>\n",
       "      <td>-0.910478</td>\n",
       "      <td>2.029929</td>\n",
       "      <td>-1.217306</td>\n",
       "      <td>-0.426969</td>\n",
       "      <td>-0.237621</td>\n",
       "      <td>6.553106</td>\n",
       "      <td>0.216458</td>\n",
       "      <td>-0.999505</td>\n",
       "    </tr>\n",
       "    <tr>\n",
       "      <th>1</th>\n",
       "      <td>-0.618392</td>\n",
       "      <td>2.862058</td>\n",
       "      <td>-0.548559</td>\n",
       "      <td>-0.788318</td>\n",
       "      <td>0.776977</td>\n",
       "      <td>-0.500828</td>\n",
       "      <td>-0.506411</td>\n",
       "      <td>-0.659727</td>\n",
       "      <td>0.964718</td>\n",
       "      <td>-0.466609</td>\n",
       "      <td>...</td>\n",
       "      <td>-0.564987</td>\n",
       "      <td>-0.652511</td>\n",
       "      <td>0.255755</td>\n",
       "      <td>-0.492628</td>\n",
       "      <td>0.821486</td>\n",
       "      <td>-0.426969</td>\n",
       "      <td>-0.237621</td>\n",
       "      <td>-0.152599</td>\n",
       "      <td>-0.072375</td>\n",
       "      <td>1.000495</td>\n",
       "    </tr>\n",
       "    <tr>\n",
       "      <th>2</th>\n",
       "      <td>-0.618392</td>\n",
       "      <td>-0.349399</td>\n",
       "      <td>1.822959</td>\n",
       "      <td>-0.788318</td>\n",
       "      <td>0.776977</td>\n",
       "      <td>1.034411</td>\n",
       "      <td>-1.156401</td>\n",
       "      <td>1.515779</td>\n",
       "      <td>-1.036572</td>\n",
       "      <td>-0.466609</td>\n",
       "      <td>...</td>\n",
       "      <td>1.133020</td>\n",
       "      <td>0.421868</td>\n",
       "      <td>0.265528</td>\n",
       "      <td>-0.492628</td>\n",
       "      <td>0.821486</td>\n",
       "      <td>-0.426969</td>\n",
       "      <td>-0.237621</td>\n",
       "      <td>-0.152599</td>\n",
       "      <td>-1.516543</td>\n",
       "      <td>1.000495</td>\n",
       "    </tr>\n",
       "    <tr>\n",
       "      <th>3</th>\n",
       "      <td>-0.618392</td>\n",
       "      <td>-0.349399</td>\n",
       "      <td>-0.548559</td>\n",
       "      <td>1.268524</td>\n",
       "      <td>0.776977</td>\n",
       "      <td>-0.884638</td>\n",
       "      <td>-1.501716</td>\n",
       "      <td>1.515779</td>\n",
       "      <td>-1.036572</td>\n",
       "      <td>-0.466609</td>\n",
       "      <td>...</td>\n",
       "      <td>-0.859388</td>\n",
       "      <td>-0.079542</td>\n",
       "      <td>1.555550</td>\n",
       "      <td>-0.492628</td>\n",
       "      <td>0.821486</td>\n",
       "      <td>-0.426969</td>\n",
       "      <td>-0.237621</td>\n",
       "      <td>-0.152599</td>\n",
       "      <td>1.516209</td>\n",
       "      <td>-0.999505</td>\n",
       "    </tr>\n",
       "    <tr>\n",
       "      <th>4</th>\n",
       "      <td>-0.618392</td>\n",
       "      <td>-0.349399</td>\n",
       "      <td>-0.548559</td>\n",
       "      <td>1.268524</td>\n",
       "      <td>-0.679481</td>\n",
       "      <td>0.842506</td>\n",
       "      <td>-0.067553</td>\n",
       "      <td>-0.659727</td>\n",
       "      <td>-1.036572</td>\n",
       "      <td>2.143121</td>\n",
       "      <td>...</td>\n",
       "      <td>0.927832</td>\n",
       "      <td>1.854396</td>\n",
       "      <td>0.773718</td>\n",
       "      <td>2.029929</td>\n",
       "      <td>-1.217306</td>\n",
       "      <td>-0.426969</td>\n",
       "      <td>-0.237621</td>\n",
       "      <td>-0.152599</td>\n",
       "      <td>-0.361209</td>\n",
       "      <td>1.000495</td>\n",
       "    </tr>\n",
       "    <tr>\n",
       "      <th>...</th>\n",
       "      <td>...</td>\n",
       "      <td>...</td>\n",
       "      <td>...</td>\n",
       "      <td>...</td>\n",
       "      <td>...</td>\n",
       "      <td>...</td>\n",
       "      <td>...</td>\n",
       "      <td>...</td>\n",
       "      <td>...</td>\n",
       "      <td>...</td>\n",
       "      <td>...</td>\n",
       "      <td>...</td>\n",
       "      <td>...</td>\n",
       "      <td>...</td>\n",
       "      <td>...</td>\n",
       "      <td>...</td>\n",
       "      <td>...</td>\n",
       "      <td>...</td>\n",
       "      <td>...</td>\n",
       "      <td>...</td>\n",
       "      <td>...</td>\n",
       "    </tr>\n",
       "    <tr>\n",
       "      <th>135384</th>\n",
       "      <td>-0.618392</td>\n",
       "      <td>-0.349399</td>\n",
       "      <td>-0.548559</td>\n",
       "      <td>1.268524</td>\n",
       "      <td>0.776977</td>\n",
       "      <td>-1.460352</td>\n",
       "      <td>0.676220</td>\n",
       "      <td>-0.659727</td>\n",
       "      <td>0.964718</td>\n",
       "      <td>-0.466609</td>\n",
       "      <td>...</td>\n",
       "      <td>-1.546323</td>\n",
       "      <td>-0.795771</td>\n",
       "      <td>-0.910478</td>\n",
       "      <td>-0.492628</td>\n",
       "      <td>0.821486</td>\n",
       "      <td>-0.426969</td>\n",
       "      <td>-0.237621</td>\n",
       "      <td>-0.152599</td>\n",
       "      <td>0.649708</td>\n",
       "      <td>-0.999505</td>\n",
       "    </tr>\n",
       "    <tr>\n",
       "      <th>135385</th>\n",
       "      <td>-0.618392</td>\n",
       "      <td>-0.349399</td>\n",
       "      <td>-0.548559</td>\n",
       "      <td>1.268524</td>\n",
       "      <td>-0.679481</td>\n",
       "      <td>-0.884638</td>\n",
       "      <td>-1.078489</td>\n",
       "      <td>1.515779</td>\n",
       "      <td>-1.036572</td>\n",
       "      <td>-0.466609</td>\n",
       "      <td>...</td>\n",
       "      <td>-0.859388</td>\n",
       "      <td>-0.079542</td>\n",
       "      <td>0.275301</td>\n",
       "      <td>2.029929</td>\n",
       "      <td>-1.217306</td>\n",
       "      <td>-0.426969</td>\n",
       "      <td>-0.237621</td>\n",
       "      <td>-0.152599</td>\n",
       "      <td>-1.516543</td>\n",
       "      <td>1.000495</td>\n",
       "    </tr>\n",
       "    <tr>\n",
       "      <th>135386</th>\n",
       "      <td>-0.618392</td>\n",
       "      <td>-0.349399</td>\n",
       "      <td>-0.548559</td>\n",
       "      <td>1.268524</td>\n",
       "      <td>-0.679481</td>\n",
       "      <td>0.842506</td>\n",
       "      <td>0.364331</td>\n",
       "      <td>-0.659727</td>\n",
       "      <td>0.964718</td>\n",
       "      <td>-0.466609</td>\n",
       "      <td>...</td>\n",
       "      <td>0.927832</td>\n",
       "      <td>1.854396</td>\n",
       "      <td>-0.249178</td>\n",
       "      <td>2.029929</td>\n",
       "      <td>-1.217306</td>\n",
       "      <td>-0.426969</td>\n",
       "      <td>-0.237621</td>\n",
       "      <td>-0.152599</td>\n",
       "      <td>1.660626</td>\n",
       "      <td>-0.999505</td>\n",
       "    </tr>\n",
       "    <tr>\n",
       "      <th>135387</th>\n",
       "      <td>-0.618392</td>\n",
       "      <td>-0.349399</td>\n",
       "      <td>-0.548559</td>\n",
       "      <td>1.268524</td>\n",
       "      <td>0.776977</td>\n",
       "      <td>1.034411</td>\n",
       "      <td>0.375873</td>\n",
       "      <td>-0.659727</td>\n",
       "      <td>-1.036572</td>\n",
       "      <td>2.143121</td>\n",
       "      <td>...</td>\n",
       "      <td>1.133020</td>\n",
       "      <td>0.421868</td>\n",
       "      <td>1.154861</td>\n",
       "      <td>-0.492628</td>\n",
       "      <td>0.821486</td>\n",
       "      <td>-0.426969</td>\n",
       "      <td>-0.237621</td>\n",
       "      <td>-0.152599</td>\n",
       "      <td>-1.372126</td>\n",
       "      <td>1.000495</td>\n",
       "    </tr>\n",
       "    <tr>\n",
       "      <th>135388</th>\n",
       "      <td>-0.618392</td>\n",
       "      <td>2.862058</td>\n",
       "      <td>-0.548559</td>\n",
       "      <td>-0.788318</td>\n",
       "      <td>-0.679481</td>\n",
       "      <td>1.929967</td>\n",
       "      <td>1.540710</td>\n",
       "      <td>-0.659727</td>\n",
       "      <td>0.964718</td>\n",
       "      <td>-0.466609</td>\n",
       "      <td>...</td>\n",
       "      <td>1.953774</td>\n",
       "      <td>2.227302</td>\n",
       "      <td>1.584869</td>\n",
       "      <td>2.029929</td>\n",
       "      <td>-1.217306</td>\n",
       "      <td>-0.426969</td>\n",
       "      <td>-0.237621</td>\n",
       "      <td>-0.152599</td>\n",
       "      <td>-1.227709</td>\n",
       "      <td>1.000495</td>\n",
       "    </tr>\n",
       "  </tbody>\n",
       "</table>\n",
       "<p>135389 rows × 65 columns</p>\n",
       "</div>"
      ],
      "text/plain": [
       "              0         1         2         3         4         5         6   \\\n",
       "0       1.617096 -0.349399 -0.548559 -0.788318 -0.679481 -0.948606 -1.196078   \n",
       "1      -0.618392  2.862058 -0.548559 -0.788318  0.776977 -0.500828 -0.506411   \n",
       "2      -0.618392 -0.349399  1.822959 -0.788318  0.776977  1.034411 -1.156401   \n",
       "3      -0.618392 -0.349399 -0.548559  1.268524  0.776977 -0.884638 -1.501716   \n",
       "4      -0.618392 -0.349399 -0.548559  1.268524 -0.679481  0.842506 -0.067553   \n",
       "...          ...       ...       ...       ...       ...       ...       ...   \n",
       "135384 -0.618392 -0.349399 -0.548559  1.268524  0.776977 -1.460352  0.676220   \n",
       "135385 -0.618392 -0.349399 -0.548559  1.268524 -0.679481 -0.884638 -1.078489   \n",
       "135386 -0.618392 -0.349399 -0.548559  1.268524 -0.679481  0.842506  0.364331   \n",
       "135387 -0.618392 -0.349399 -0.548559  1.268524  0.776977  1.034411  0.375873   \n",
       "135388 -0.618392  2.862058 -0.548559 -0.788318 -0.679481  1.929967  1.540710   \n",
       "\n",
       "              7         8         9   ...        55        56        57  \\\n",
       "0       1.515779 -1.036572 -0.466609  ... -0.972390 -0.580952 -0.910478   \n",
       "1      -0.659727  0.964718 -0.466609  ... -0.564987 -0.652511  0.255755   \n",
       "2       1.515779 -1.036572 -0.466609  ...  1.133020  0.421868  0.265528   \n",
       "3       1.515779 -1.036572 -0.466609  ... -0.859388 -0.079542  1.555550   \n",
       "4      -0.659727 -1.036572  2.143121  ...  0.927832  1.854396  0.773718   \n",
       "...          ...       ...       ...  ...       ...       ...       ...   \n",
       "135384 -0.659727  0.964718 -0.466609  ... -1.546323 -0.795771 -0.910478   \n",
       "135385  1.515779 -1.036572 -0.466609  ... -0.859388 -0.079542  0.275301   \n",
       "135386 -0.659727  0.964718 -0.466609  ...  0.927832  1.854396 -0.249178   \n",
       "135387 -0.659727 -1.036572  2.143121  ...  1.133020  0.421868  1.154861   \n",
       "135388 -0.659727  0.964718 -0.466609  ...  1.953774  2.227302  1.584869   \n",
       "\n",
       "              58        59        60        61        62        63        64  \n",
       "0       2.029929 -1.217306 -0.426969 -0.237621  6.553106  0.216458 -0.999505  \n",
       "1      -0.492628  0.821486 -0.426969 -0.237621 -0.152599 -0.072375  1.000495  \n",
       "2      -0.492628  0.821486 -0.426969 -0.237621 -0.152599 -1.516543  1.000495  \n",
       "3      -0.492628  0.821486 -0.426969 -0.237621 -0.152599  1.516209 -0.999505  \n",
       "4       2.029929 -1.217306 -0.426969 -0.237621 -0.152599 -0.361209  1.000495  \n",
       "...          ...       ...       ...       ...       ...       ...       ...  \n",
       "135384 -0.492628  0.821486 -0.426969 -0.237621 -0.152599  0.649708 -0.999505  \n",
       "135385  2.029929 -1.217306 -0.426969 -0.237621 -0.152599 -1.516543  1.000495  \n",
       "135386  2.029929 -1.217306 -0.426969 -0.237621 -0.152599  1.660626 -0.999505  \n",
       "135387 -0.492628  0.821486 -0.426969 -0.237621 -0.152599 -1.372126  1.000495  \n",
       "135388  2.029929 -1.217306 -0.426969 -0.237621 -0.152599 -1.227709  1.000495  \n",
       "\n",
       "[135389 rows x 65 columns]"
      ]
     },
     "execution_count": 161,
     "metadata": {},
     "output_type": "execute_result"
    }
   ],
   "source": [
    "X_train_sc"
   ]
  },
  {
   "cell_type": "code",
   "execution_count": 162,
   "metadata": {},
   "outputs": [
    {
     "data": {
      "text/plain": [
       "(135389, 65)"
      ]
     },
     "execution_count": 162,
     "metadata": {},
     "output_type": "execute_result"
    }
   ],
   "source": [
    "X_train_sc.shape"
   ]
  },
  {
   "cell_type": "code",
   "execution_count": 163,
   "metadata": {},
   "outputs": [],
   "source": [
    "# make into a df-\n",
    "\n",
    "X_test_sc = pd.DataFrame(X_test_sc)"
   ]
  },
  {
   "cell_type": "code",
   "execution_count": 164,
   "metadata": {},
   "outputs": [
    {
     "data": {
      "text/plain": [
       "(45130, 65)"
      ]
     },
     "execution_count": 164,
     "metadata": {},
     "output_type": "execute_result"
    }
   ],
   "source": [
    "X_test_sc.shape"
   ]
  },
  {
   "cell_type": "code",
   "execution_count": 165,
   "metadata": {},
   "outputs": [],
   "source": [
    "# define Rachael's function-\n",
    "\n",
    "def pipe(model):\n",
    "    #instantiate model\n",
    "    model = model()\n",
    "    #fit to scaled data\n",
    "    model.fit(X_train_sc, y_train)\n",
    "    \n",
    "    #make predictions\n",
    "    predictions = model.predict(X_test_sc)\n",
    "    #print accuracy scores for training and testing groups\n",
    "    print(f'{model} training score: {model.score(X_train_sc, y_train)}')\n",
    "    print(f'{model} testing score: {model.score(X_test_sc, y_test)}')\n",
    "    \n",
    "    return\n",
    "\n",
    "# from:\n",
    "# Rachael Friedman\n",
    "# https://towardsdatascience.com/how-to-make-your-modeling-process-more-efficient-89e70259839d"
   ]
  },
  {
   "cell_type": "code",
   "execution_count": 318,
   "metadata": {},
   "outputs": [
    {
     "name": "stdout",
     "output_type": "stream",
     "text": [
      "LogisticRegression() training score: 0.8037506739838539\n",
      "LogisticRegression() testing score: 0.7992687790826501\n"
     ]
    }
   ],
   "source": [
    "# run it across the various models to get an initial sense of performance-\n",
    "# these were all run across the older df, no order_hour or order_before_noon features\n",
    "\n",
    "pipe(LogisticRegression)\n",
    "\n",
    "# this is with shipping_date included in X, so it may be gaming the model"
   ]
  },
  {
   "cell_type": "code",
   "execution_count": 319,
   "metadata": {},
   "outputs": [
    {
     "name": "stdout",
     "output_type": "stream",
     "text": [
      "DecisionTreeClassifier() training score: 1.0\n",
      "DecisionTreeClassifier() testing score: 0.9286727232439619\n"
     ]
    }
   ],
   "source": [
    "pipe(DecisionTreeClassifier)\n",
    "\n",
    "# same"
   ]
  },
  {
   "cell_type": "code",
   "execution_count": null,
   "metadata": {},
   "outputs": [],
   "source": [
    "pipe(KNeighborsClassifier)\n",
    "\n",
    "# these 2 kept sticking so I didn't run them"
   ]
  },
  {
   "cell_type": "code",
   "execution_count": null,
   "metadata": {},
   "outputs": [],
   "source": [
    "pipe(SVC)"
   ]
  },
  {
   "cell_type": "code",
   "execution_count": 402,
   "metadata": {},
   "outputs": [
    {
     "name": "stdout",
     "output_type": "stream",
     "text": [
      "RandomForestClassifier() training score: 1.0\n",
      "RandomForestClassifier() testing score: 0.7831376024817195\n"
     ]
    }
   ],
   "source": [
    "pipe(RandomForestClassifier)"
   ]
  },
  {
   "cell_type": "code",
   "execution_count": 405,
   "metadata": {},
   "outputs": [
    {
     "name": "stdout",
     "output_type": "stream",
     "text": [
      "AdaBoostClassifier() training score: 0.7009875248358434\n",
      "AdaBoostClassifier() testing score: 0.6997784179038333\n"
     ]
    }
   ],
   "source": [
    "pipe(AdaBoostClassifier)"
   ]
  },
  {
   "cell_type": "code",
   "execution_count": 406,
   "metadata": {},
   "outputs": [
    {
     "name": "stdout",
     "output_type": "stream",
     "text": [
      "GradientBoostingClassifier() training score: 0.7057441889666073\n",
      "GradientBoostingClassifier() testing score: 0.7046532240194993\n"
     ]
    }
   ],
   "source": [
    "pipe(GradientBoostingClassifier)"
   ]
  },
  {
   "cell_type": "code",
   "execution_count": 407,
   "metadata": {},
   "outputs": [
    {
     "name": "stdout",
     "output_type": "stream",
     "text": [
      "ExtraTreesClassifier() training score: 1.0\n",
      "ExtraTreesClassifier() testing score: 0.7567693330378905\n"
     ]
    }
   ],
   "source": [
    "pipe(ExtraTreesClassifier)"
   ]
  },
  {
   "cell_type": "code",
   "execution_count": 64,
   "metadata": {},
   "outputs": [],
   "source": [
    "X = df[['order_date']]"
   ]
  },
  {
   "cell_type": "code",
   "execution_count": 65,
   "metadata": {},
   "outputs": [
    {
     "data": {
      "text/plain": [
       "(180519,)"
      ]
     },
     "execution_count": 65,
     "metadata": {},
     "output_type": "execute_result"
    }
   ],
   "source": [
    "y.shape"
   ]
  },
  {
   "cell_type": "code",
   "execution_count": 66,
   "metadata": {},
   "outputs": [
    {
     "data": {
      "text/plain": [
       "(180519, 1)"
      ]
     },
     "execution_count": 66,
     "metadata": {},
     "output_type": "execute_result"
    }
   ],
   "source": [
    "X.shape"
   ]
  },
  {
   "cell_type": "code",
   "execution_count": 67,
   "metadata": {},
   "outputs": [],
   "source": [
    "X_train, X_test, y_train, y_test = train_test_split(X, y, stratify=y)"
   ]
  },
  {
   "cell_type": "code",
   "execution_count": 71,
   "metadata": {},
   "outputs": [],
   "source": [
    "knn = KNeighborsClassifier(n_neighbors=1)"
   ]
  },
  {
   "cell_type": "code",
   "execution_count": 72,
   "metadata": {},
   "outputs": [
    {
     "data": {
      "text/plain": [
       "KNeighborsClassifier(n_neighbors=1)"
      ]
     },
     "execution_count": 72,
     "metadata": {},
     "output_type": "execute_result"
    }
   ],
   "source": [
    "knn.fit(X_train, y_train)"
   ]
  },
  {
   "cell_type": "code",
   "execution_count": 73,
   "metadata": {},
   "outputs": [
    {
     "data": {
      "text/plain": [
       "0.938533126523377"
      ]
     },
     "execution_count": 73,
     "metadata": {},
     "output_type": "execute_result"
    }
   ],
   "source": [
    "knn.score(X_test, y_test)"
   ]
  },
  {
   "cell_type": "code",
   "execution_count": 57,
   "metadata": {},
   "outputs": [
    {
     "name": "stdout",
     "output_type": "stream",
     "text": [
      "LogisticRegression() training score: 0.8087658524695507\n",
      "LogisticRegression() testing score: 0.8068690449811655\n"
     ]
    }
   ],
   "source": [
    "pipe(LogisticRegression)\n",
    "\n",
    "# run with shipping_date in X, as well as new features order_hour or order_before_noon"
   ]
  },
  {
   "cell_type": "code",
   "execution_count": 58,
   "metadata": {},
   "outputs": [
    {
     "name": "stdout",
     "output_type": "stream",
     "text": [
      "DecisionTreeClassifier() training score: 1.0\n",
      "DecisionTreeClassifier() testing score: 0.9665411034788389\n"
     ]
    }
   ],
   "source": [
    "pipe(DecisionTreeClassifier)"
   ]
  },
  {
   "cell_type": "code",
   "execution_count": 90,
   "metadata": {},
   "outputs": [],
   "source": [
    "X = df.drop(columns=['category_name', 'customer_city', 'customer_state', 'order_city', 'order_country', 'order_state', 'product_name'])"
   ]
  },
  {
   "cell_type": "code",
   "execution_count": 91,
   "metadata": {},
   "outputs": [],
   "source": [
    "X = X.drop(columns=['actual_ship_days', 'late_delivery_risk', 'delivery_status', 'order_status', 'ship_performance', 'ontime'])"
   ]
  },
  {
   "cell_type": "code",
   "execution_count": 92,
   "metadata": {},
   "outputs": [],
   "source": [
    "X = X.drop(columns=['shipping_date'])"
   ]
  },
  {
   "cell_type": "code",
   "execution_count": 94,
   "metadata": {},
   "outputs": [],
   "source": [
    "X['order_date'] = X['order_date'].map(dt.datetime.toordinal)"
   ]
  },
  {
   "cell_type": "code",
   "execution_count": 67,
   "metadata": {},
   "outputs": [],
   "source": [
    "X = X.drop(columns=['customer_zipcode'])"
   ]
  },
  {
   "cell_type": "code",
   "execution_count": 68,
   "metadata": {},
   "outputs": [],
   "source": [
    "X_train, X_test, y_train, y_test = train_test_split(X, y, stratify=y)"
   ]
  },
  {
   "cell_type": "code",
   "execution_count": 70,
   "metadata": {},
   "outputs": [],
   "source": [
    "X_train = ohe.fit_transform(X_train)"
   ]
  },
  {
   "cell_type": "code",
   "execution_count": 69,
   "metadata": {},
   "outputs": [],
   "source": [
    "X_test = ohe.transform(X_test)"
   ]
  },
  {
   "cell_type": "code",
   "execution_count": 97,
   "metadata": {},
   "outputs": [
    {
     "name": "stdout",
     "output_type": "stream",
     "text": [
      "<class 'pandas.core.frame.DataFrame'>\n",
      "Int64Index: 135389 entries, 152912 to 178548\n",
      "Data columns (total 65 columns):\n",
      " #   Column                    Non-Null Count   Dtype  \n",
      "---  ------                    --------------   -----  \n",
      " 0   type_1                    135389 non-null  int64  \n",
      " 1   type_2                    135389 non-null  int64  \n",
      " 2   type_3                    135389 non-null  int64  \n",
      " 3   type_4                    135389 non-null  int64  \n",
      " 4   estimated_ship_days       135389 non-null  int64  \n",
      " 5   category_id               135389 non-null  int64  \n",
      " 6   customer_id               135389 non-null  int64  \n",
      " 7   customer_segment_1        135389 non-null  int64  \n",
      " 8   customer_segment_2        135389 non-null  int64  \n",
      " 9   customer_segment_3        135389 non-null  int64  \n",
      " 10  department_name_1         135389 non-null  int64  \n",
      " 11  department_name_2         135389 non-null  int64  \n",
      " 12  department_name_3         135389 non-null  int64  \n",
      " 13  department_name_4         135389 non-null  int64  \n",
      " 14  department_name_5         135389 non-null  int64  \n",
      " 15  department_name_6         135389 non-null  int64  \n",
      " 16  department_name_7         135389 non-null  int64  \n",
      " 17  department_name_8         135389 non-null  int64  \n",
      " 18  department_name_9         135389 non-null  int64  \n",
      " 19  department_name_10        135389 non-null  int64  \n",
      " 20  department_name_11        135389 non-null  int64  \n",
      " 21  latitude                  135389 non-null  float64\n",
      " 22  longitude                 135389 non-null  float64\n",
      " 23  market_1                  135389 non-null  int64  \n",
      " 24  market_2                  135389 non-null  int64  \n",
      " 25  market_3                  135389 non-null  int64  \n",
      " 26  market_4                  135389 non-null  int64  \n",
      " 27  market_5                  135389 non-null  int64  \n",
      " 28  order_date                135389 non-null  int64  \n",
      " 29  order_id                  135389 non-null  int64  \n",
      " 30  order_item_discount_rate  135389 non-null  float64\n",
      " 31  order_item_profit_ratio   135389 non-null  float64\n",
      " 32  order_item_quantity       135389 non-null  int64  \n",
      " 33  order_region_1            135389 non-null  int64  \n",
      " 34  order_region_2            135389 non-null  int64  \n",
      " 35  order_region_3            135389 non-null  int64  \n",
      " 36  order_region_4            135389 non-null  int64  \n",
      " 37  order_region_5            135389 non-null  int64  \n",
      " 38  order_region_6            135389 non-null  int64  \n",
      " 39  order_region_7            135389 non-null  int64  \n",
      " 40  order_region_8            135389 non-null  int64  \n",
      " 41  order_region_9            135389 non-null  int64  \n",
      " 42  order_region_10           135389 non-null  int64  \n",
      " 43  order_region_11           135389 non-null  int64  \n",
      " 44  order_region_12           135389 non-null  int64  \n",
      " 45  order_region_13           135389 non-null  int64  \n",
      " 46  order_region_14           135389 non-null  int64  \n",
      " 47  order_region_15           135389 non-null  int64  \n",
      " 48  order_region_16           135389 non-null  int64  \n",
      " 49  order_region_17           135389 non-null  int64  \n",
      " 50  order_region_18           135389 non-null  int64  \n",
      " 51  order_region_19           135389 non-null  int64  \n",
      " 52  order_region_20           135389 non-null  int64  \n",
      " 53  order_region_21           135389 non-null  int64  \n",
      " 54  order_region_22           135389 non-null  int64  \n",
      " 55  order_region_23           135389 non-null  int64  \n",
      " 56  product_card_id           135389 non-null  int64  \n",
      " 57  product_price             135389 non-null  float64\n",
      " 58  shipping_mode_1           135389 non-null  int64  \n",
      " 59  shipping_mode_2           135389 non-null  int64  \n",
      " 60  shipping_mode_3           135389 non-null  int64  \n",
      " 61  shipping_mode_4           135389 non-null  int64  \n",
      " 62  is_fraud                  135389 non-null  int64  \n",
      " 63  order_hour                135389 non-null  int64  \n",
      " 64  order_before_noon         135389 non-null  int64  \n",
      "dtypes: float64(5), int64(60)\n",
      "memory usage: 68.2 MB\n"
     ]
    }
   ],
   "source": [
    "X_train.info()"
   ]
  },
  {
   "cell_type": "code",
   "execution_count": 71,
   "metadata": {},
   "outputs": [],
   "source": [
    "ss = StandardScaler()\n",
    "X_train_sc = ss.fit_transform(X_train)\n",
    "X_test_sc = ss.transform(X_test)"
   ]
  },
  {
   "cell_type": "code",
   "execution_count": 72,
   "metadata": {},
   "outputs": [],
   "source": [
    "X_train_sc = pd.DataFrame(X_train_sc)\n",
    "X_test_sc = pd.DataFrame(X_test_sc)"
   ]
  },
  {
   "cell_type": "code",
   "execution_count": 73,
   "metadata": {},
   "outputs": [
    {
     "name": "stdout",
     "output_type": "stream",
     "text": [
      "LogisticRegression() training score: 0.7218680985899888\n",
      "LogisticRegression() testing score: 0.7189231110126302\n"
     ]
    }
   ],
   "source": [
    "# rerunning on new X, no shipping_date but with order_date-\n",
    "\n",
    "pipe(LogisticRegression)"
   ]
  },
  {
   "cell_type": "code",
   "execution_count": 74,
   "metadata": {},
   "outputs": [
    {
     "name": "stdout",
     "output_type": "stream",
     "text": [
      "DecisionTreeClassifier() training score: 1.0\n",
      "DecisionTreeClassifier() testing score: 0.7304232218036782\n"
     ]
    }
   ],
   "source": [
    "pipe(DecisionTreeClassifier)"
   ]
  },
  {
   "cell_type": "code",
   "execution_count": null,
   "metadata": {},
   "outputs": [],
   "source": [
    "y_pred = dt.predict(x_test)"
   ]
  },
  {
   "cell_type": "code",
   "execution_count": 76,
   "metadata": {},
   "outputs": [],
   "source": [
    "dt = DecisionTreeClassifier()"
   ]
  },
  {
   "cell_type": "code",
   "execution_count": 78,
   "metadata": {},
   "outputs": [
    {
     "data": {
      "text/plain": [
       "DecisionTreeClassifier()"
      ]
     },
     "execution_count": 78,
     "metadata": {},
     "output_type": "execute_result"
    }
   ],
   "source": [
    "dt.fit(X_train_sc, y_train)"
   ]
  },
  {
   "cell_type": "code",
   "execution_count": 79,
   "metadata": {},
   "outputs": [
    {
     "data": {
      "text/plain": [
       "0.7286727232439619"
      ]
     },
     "execution_count": 79,
     "metadata": {},
     "output_type": "execute_result"
    }
   ],
   "source": [
    "dt.score(X_test_sc, y_test)"
   ]
  },
  {
   "cell_type": "code",
   "execution_count": 80,
   "metadata": {},
   "outputs": [],
   "source": [
    "y_preds = dt.predict(X_test_sc)"
   ]
  },
  {
   "cell_type": "code",
   "execution_count": 81,
   "metadata": {},
   "outputs": [],
   "source": [
    "from sklearn.metrics import roc_curve, auc"
   ]
  },
  {
   "cell_type": "code",
   "execution_count": 82,
   "metadata": {},
   "outputs": [],
   "source": [
    "false_positive_rate, true_positive_rate, thresholds = roc_curve(y_test, y_preds)"
   ]
  },
  {
   "cell_type": "code",
   "execution_count": 83,
   "metadata": {},
   "outputs": [],
   "source": [
    "roc_auc = auc(false_positive_rate, true_positive_rate)"
   ]
  },
  {
   "cell_type": "code",
   "execution_count": 84,
   "metadata": {},
   "outputs": [
    {
     "data": {
      "text/plain": [
       "0.7239480485083911"
      ]
     },
     "execution_count": 84,
     "metadata": {},
     "output_type": "execute_result"
    }
   ],
   "source": [
    "roc_auc"
   ]
  },
  {
   "cell_type": "code",
   "execution_count": 85,
   "metadata": {},
   "outputs": [],
   "source": [
    "max_depths = np.linspace(1, 32, 32, endpoint=True)\n",
    "train_results = []\n",
    "test_results = []\n",
    "for max_depth in max_depths:\n",
    "    dt = DecisionTreeClassifier(max_depth=max_depth)\n",
    "    dt.fit(X_train_sc, y_train)\n",
    "    train_preds = dt.predict(X_train_sc)\n",
    "    false_positive_rate, true_positive_rate, thresholds = roc_curve(y_train, train_preds)\n",
    "    roc_auc = auc(false_positive_rate, true_positive_rate)\n",
    "    # Add auc score to previous train results\n",
    "    train_results.append(roc_auc)\n",
    "    y_preds = dt.predict(X_test_sc)\n",
    "    false_positive_rate, true_positive_rate, thresholds = roc_curve(y_test, y_preds)\n",
    "    roc_auc = auc(false_positive_rate, true_positive_rate)\n",
    "    # Add auc score to previous test results\n",
    "    test_results.append(roc_auc)"
   ]
  },
  {
   "cell_type": "code",
   "execution_count": 89,
   "metadata": {},
   "outputs": [
    {
     "data": {
      "image/png": "[encoded data removed]",
      "text/plain": [
       "<Figure size 432x288 with 1 Axes>"
      ]
     },
     "metadata": {
      "needs_background": "light"
     },
     "output_type": "display_data"
    }
   ],
   "source": [
    "from matplotlib.legend_handler import HandlerLine2D\n",
    "line1, = plt.plot(max_depths, train_results, 'b', label='Train AUC')\n",
    "line2, = plt.plot(max_depths, test_results, 'r', label='Test AUC')\n",
    "plt.legend(handler_map={line1: HandlerLine2D(numpoints=2)})\n",
    "plt.ylabel('AUC score')\n",
    "plt.xlabel('Tree depth')\n",
    "plt.show();"
   ]
  },
  {
   "cell_type": "code",
   "execution_count": 98,
   "metadata": {},
   "outputs": [],
   "source": [
    "min_samples_splits = np.linspace(0.1, 1.0, 10, endpoint=True)\n",
    "train_results = []\n",
    "test_results = []\n",
    "for min_samples_split in min_samples_splits:\n",
    "    dt = DecisionTreeClassifier(min_samples_split=min_samples_split)\n",
    "    dt.fit(X_train_sc, y_train)\n",
    "    train_preds = dt.predict(X_train_sc)\n",
    "    false_positive_rate, true_positive_rate, thresholds =    roc_curve(y_train, train_preds)\n",
    "    roc_auc = auc(false_positive_rate, true_positive_rate)\n",
    "    train_results.append(roc_auc)\n",
    "    y_preds = dt.predict(X_test_sc)\n",
    "    false_positive_rate, true_positive_rate, thresholds = roc_curve(y_test, y_preds)\n",
    "    roc_auc = auc(false_positive_rate, true_positive_rate)\n",
    "    test_results.append(roc_auc)"
   ]
  },
  {
   "cell_type": "code",
   "execution_count": 99,
   "metadata": {},
   "outputs": [
    {
     "data": {
      "image/png": "[encoded data removed]",
      "text/plain": [
       "<Figure size 432x288 with 1 Axes>"
      ]
     },
     "metadata": {
      "needs_background": "light"
     },
     "output_type": "display_data"
    }
   ],
   "source": [
    "line1, = plt.plot(min_samples_splits, train_results, 'b', label='Train AUC')\n",
    "line2, = plt.plot(min_samples_splits, test_results, 'r', label='Test AUC')\n",
    "plt.legend(handler_map={line1: HandlerLine2D(numpoints=2)})\n",
    "plt.ylabel('AUC score')\n",
    "plt.xlabel('min samples split')\n",
    "plt.show();"
   ]
  },
  {
   "cell_type": "code",
   "execution_count": 100,
   "metadata": {},
   "outputs": [],
   "source": [
    "min_samples_leafs = np.linspace(0.1, 0.5, 5, endpoint=True)\n",
    "train_results = []\n",
    "test_results = []\n",
    "for min_samples_leaf in min_samples_leafs:\n",
    "    dt = DecisionTreeClassifier(min_samples_leaf=min_samples_leaf)\n",
    "    dt.fit(X_train_sc, y_train)\n",
    "    train_preds = dt.predict(X_train_sc)\n",
    "    false_positive_rate, true_positive_rate, thresholds = roc_curve(y_train, train_preds)\n",
    "    roc_auc = auc(false_positive_rate, true_positive_rate)\n",
    "    train_results.append(roc_auc)\n",
    "    y_preds = dt.predict(X_test_sc)\n",
    "    false_positive_rate, true_positive_rate, thresholds = roc_curve(y_test, y_preds)\n",
    "    roc_auc = auc(false_positive_rate, true_positive_rate)\n",
    "    test_results.append(roc_auc)"
   ]
  },
  {
   "cell_type": "code",
   "execution_count": 101,
   "metadata": {},
   "outputs": [
    {
     "data": {
      "image/png": "[encoded data removed]",
      "text/plain": [
       "<Figure size 432x288 with 1 Axes>"
      ]
     },
     "metadata": {
      "needs_background": "light"
     },
     "output_type": "display_data"
    }
   ],
   "source": [
    "line1, = plt.plot(min_samples_leafs, train_results, 'b', label='Train AUC')\n",
    "line2, = plt.plot(min_samples_leafs, test_results, 'r', label='Test AUC')\n",
    "plt.legend(handler_map={line1: HandlerLine2D(numpoints=2)})\n",
    "plt.ylabel('AUC score')\n",
    "plt.xlabel('min samples leaf')\n",
    "plt.show();"
   ]
  },
  {
   "cell_type": "code",
   "execution_count": 103,
   "metadata": {},
   "outputs": [],
   "source": [
    "max_features = list(range(1,X_train_sc.shape[1]))\n",
    "train_results = []\n",
    "test_results = []\n",
    "for max_feature in max_features:\n",
    "    dt = DecisionTreeClassifier(max_features=max_feature)\n",
    "    dt.fit(X_train_sc, y_train)\n",
    "    train_preds = dt.predict(X_train_sc)\n",
    "    false_positive_rate, true_positive_rate, thresholds = roc_curve(y_train, train_preds)\n",
    "    roc_auc = auc(false_positive_rate, true_positive_rate)\n",
    "    train_results.append(roc_auc)\n",
    "    y_preds = dt.predict(X_test_sc)\n",
    "    false_positive_rate, true_positive_rate, thresholds = roc_curve(y_test, y_preds)\n",
    "    roc_auc = auc(false_positive_rate, true_positive_rate)\n",
    "    test_results.append(roc_auc)"
   ]
  },
  {
   "cell_type": "code",
   "execution_count": 104,
   "metadata": {},
   "outputs": [
    {
     "data": {
      "image/png": "[encoded data removed]",
      "text/plain": [
       "<Figure size 432x288 with 1 Axes>"
      ]
     },
     "metadata": {
      "needs_background": "light"
     },
     "output_type": "display_data"
    }
   ],
   "source": [
    "line1, = plt.plot(max_features, train_results, 'b', label='Train AUC')\n",
    "line2, = plt.plot(max_features, test_results, 'r', label='Test AUC')\n",
    "plt.legend(handler_map={line1: HandlerLine2D(numpoints=2)})\n",
    "plt.ylabel('AUC score')\n",
    "plt.xlabel('max features')\n",
    "plt.show();"
   ]
  },
  {
   "cell_type": "code",
   "execution_count": null,
   "metadata": {},
   "outputs": [],
   "source": [
    "# pipe_params = {\n",
    "#     'gbc__max_depth':[1, 2, 3, 4],\n",
    "#     'gbc__learning_rate'  :[0.1, 0.001, 1],\n",
    "#     'gbc__n_estimators' :[100, 300, 500],\n",
    "#     'gbc__min_samples_leaf' :[1, 2]\n",
    "# }"
   ]
  },
  {
   "cell_type": "code",
   "execution_count": 107,
   "metadata": {},
   "outputs": [],
   "source": [
    "dt2 = DecisionTreeClassifier(max_depth=3, min_samples_leaf=.4, min_samples_split=.4, max_features=32)"
   ]
  },
  {
   "cell_type": "code",
   "execution_count": 108,
   "metadata": {},
   "outputs": [
    {
     "data": {
      "text/plain": [
       "DecisionTreeClassifier(max_depth=3, max_features=32, min_samples_leaf=0.4,\n",
       "                       min_samples_split=0.4)"
      ]
     },
     "execution_count": 108,
     "metadata": {},
     "output_type": "execute_result"
    }
   ],
   "source": [
    "dt2.fit(X_train_sc, y_train)"
   ]
  },
  {
   "cell_type": "code",
   "execution_count": 109,
   "metadata": {},
   "outputs": [
    {
     "data": {
      "text/plain": [
       "0.7299357411921117"
      ]
     },
     "execution_count": 109,
     "metadata": {},
     "output_type": "execute_result"
    }
   ],
   "source": [
    "dt.score(X_test_sc, y_test)"
   ]
  },
  {
   "cell_type": "code",
   "execution_count": 168,
   "metadata": {},
   "outputs": [
    {
     "name": "stdout",
     "output_type": "stream",
     "text": [
      "<class 'pandas.core.frame.DataFrame'>\n",
      "RangeIndex: 180519 entries, 0 to 180518\n",
      "Data columns (total 37 columns):\n",
      " #   Column                    Non-Null Count   Dtype         \n",
      "---  ------                    --------------   -----         \n",
      " 0   type                      180519 non-null  object        \n",
      " 1   actual_ship_days          180519 non-null  int64         \n",
      " 2   estimated_ship_days       180519 non-null  int64         \n",
      " 3   delivery_status           180519 non-null  object        \n",
      " 4   late_delivery_risk        180519 non-null  int64         \n",
      " 5   category_id               180519 non-null  int64         \n",
      " 6   category_name             180519 non-null  object        \n",
      " 7   customer_city             180519 non-null  object        \n",
      " 8   customer_id               180519 non-null  int64         \n",
      " 9   customer_segment          180519 non-null  object        \n",
      " 10  customer_state            180519 non-null  object        \n",
      " 11  customer_zipcode          180516 non-null  float64       \n",
      " 12  department_name           180519 non-null  object        \n",
      " 13  latitude                  180519 non-null  float64       \n",
      " 14  longitude                 180519 non-null  float64       \n",
      " 15  market                    180519 non-null  object        \n",
      " 16  order_city                180519 non-null  object        \n",
      " 17  order_country             180519 non-null  object        \n",
      " 18  order_date                180519 non-null  datetime64[ns]\n",
      " 19  order_id                  180519 non-null  int64         \n",
      " 20  order_item_discount_rate  180519 non-null  float64       \n",
      " 21  order_item_profit_ratio   180519 non-null  float64       \n",
      " 22  order_item_quantity       180519 non-null  int64         \n",
      " 23  order_region              180519 non-null  object        \n",
      " 24  order_state               180519 non-null  object        \n",
      " 25  order_status              180519 non-null  object        \n",
      " 26  product_card_id           180519 non-null  int64         \n",
      " 27  product_name              180519 non-null  object        \n",
      " 28  product_price             180519 non-null  float64       \n",
      " 29  shipping_date             180519 non-null  datetime64[ns]\n",
      " 30  shipping_mode             180519 non-null  object        \n",
      " 31  ship_performance          180519 non-null  int64         \n",
      " 32  ontime                    180519 non-null  int64         \n",
      " 33  is_fraud                  180519 non-null  int64         \n",
      " 34  order_hour                180519 non-null  int64         \n",
      " 35  order_before_noon         180519 non-null  int64         \n",
      " 36  order_month               180519 non-null  int64         \n",
      "dtypes: datetime64[ns](2), float64(6), int64(14), object(15)\n",
      "memory usage: 51.0+ MB\n"
     ]
    }
   ],
   "source": [
    "df.info()"
   ]
  },
  {
   "cell_type": "code",
   "execution_count": 203,
   "metadata": {},
   "outputs": [],
   "source": [
    "df['order_month'] = pd.DatetimeIndex(df['order_date']).month"
   ]
  },
  {
   "cell_type": "code",
   "execution_count": 204,
   "metadata": {},
   "outputs": [],
   "source": [
    "df['order_month_name'] = df['order_month'].apply(lambda x: calendar.month_abbr[x])"
   ]
  },
  {
   "cell_type": "code",
   "execution_count": 214,
   "metadata": {},
   "outputs": [],
   "source": [
    "df['order_weekday'] = pd.DatetimeIndex(df['order_date']).dayofweek"
   ]
  },
  {
   "cell_type": "code",
   "execution_count": 212,
   "metadata": {},
   "outputs": [],
   "source": [
    "# df['order_weekday'] = df['order_date'].dt.day_name"
   ]
  },
  {
   "cell_type": "code",
   "execution_count": 221,
   "metadata": {},
   "outputs": [],
   "source": [
    "df['order_weekday'] = df['order_weekday'].astype('object')"
   ]
  },
  {
   "cell_type": "code",
   "execution_count": 225,
   "metadata": {},
   "outputs": [],
   "source": [
    "df['order_hour2'] = df['order_hour'].astype('object')"
   ]
  },
  {
   "cell_type": "code",
   "execution_count": 227,
   "metadata": {},
   "outputs": [
    {
     "name": "stdout",
     "output_type": "stream",
     "text": [
      "<class 'pandas.core.frame.DataFrame'>\n",
      "RangeIndex: 180519 entries, 0 to 180518\n",
      "Data columns (total 40 columns):\n",
      " #   Column                    Non-Null Count   Dtype         \n",
      "---  ------                    --------------   -----         \n",
      " 0   type                      180519 non-null  object        \n",
      " 1   actual_ship_days          180519 non-null  int64         \n",
      " 2   estimated_ship_days       180519 non-null  int64         \n",
      " 3   delivery_status           180519 non-null  object        \n",
      " 4   late_delivery_risk        180519 non-null  int64         \n",
      " 5   category_id               180519 non-null  int64         \n",
      " 6   category_name             180519 non-null  object        \n",
      " 7   customer_city             180519 non-null  object        \n",
      " 8   customer_id               180519 non-null  int64         \n",
      " 9   customer_segment          180519 non-null  object        \n",
      " 10  customer_state            180519 non-null  object        \n",
      " 11  customer_zipcode          180516 non-null  float64       \n",
      " 12  department_name           180519 non-null  object        \n",
      " 13  latitude                  180519 non-null  float64       \n",
      " 14  longitude                 180519 non-null  float64       \n",
      " 15  market                    180519 non-null  object        \n",
      " 16  order_city                180519 non-null  object        \n",
      " 17  order_country             180519 non-null  object        \n",
      " 18  order_date                180519 non-null  datetime64[ns]\n",
      " 19  order_id                  180519 non-null  int64         \n",
      " 20  order_item_discount_rate  180519 non-null  float64       \n",
      " 21  order_item_profit_ratio   180519 non-null  float64       \n",
      " 22  order_item_quantity       180519 non-null  int64         \n",
      " 23  order_region              180519 non-null  object        \n",
      " 24  order_state               180519 non-null  object        \n",
      " 25  order_status              180519 non-null  object        \n",
      " 26  product_card_id           180519 non-null  int64         \n",
      " 27  product_name              180519 non-null  object        \n",
      " 28  product_price             180519 non-null  float64       \n",
      " 29  shipping_date             180519 non-null  datetime64[ns]\n",
      " 30  shipping_mode             180519 non-null  object        \n",
      " 31  ship_performance          180519 non-null  int64         \n",
      " 32  ontime                    180519 non-null  int64         \n",
      " 33  is_fraud                  180519 non-null  int64         \n",
      " 34  order_hour                180519 non-null  int64         \n",
      " 35  order_before_noon         180519 non-null  int64         \n",
      " 36  order_month               180519 non-null  int64         \n",
      " 37  order_month_name          180519 non-null  object        \n",
      " 38  order_weekday             180519 non-null  object        \n",
      " 39  order_hour2               180519 non-null  object        \n",
      "dtypes: datetime64[ns](2), float64(6), int64(14), object(18)\n",
      "memory usage: 55.1+ MB\n"
     ]
    }
   ],
   "source": [
    "df.info()"
   ]
  },
  {
   "cell_type": "code",
   "execution_count": null,
   "metadata": {},
   "outputs": [],
   "source": []
  },
  {
   "cell_type": "code",
   "execution_count": 228,
   "metadata": {},
   "outputs": [],
   "source": [
    "X = df.drop(columns=['category_name', 'customer_city', 'customer_state', 'order_city', 'order_country', 'order_state', 'product_name'])"
   ]
  },
  {
   "cell_type": "code",
   "execution_count": 229,
   "metadata": {},
   "outputs": [],
   "source": [
    "X = X.drop(columns=['actual_ship_days', 'late_delivery_risk', 'delivery_status', 'order_status', 'ship_performance', 'ontime'])"
   ]
  },
  {
   "cell_type": "code",
   "execution_count": 230,
   "metadata": {},
   "outputs": [],
   "source": [
    "X = X.drop(columns=['shipping_date'])"
   ]
  },
  {
   "cell_type": "code",
   "execution_count": 231,
   "metadata": {},
   "outputs": [],
   "source": [
    "X['order_date'] = X['order_date'].map(dt.datetime.toordinal)"
   ]
  },
  {
   "cell_type": "code",
   "execution_count": 232,
   "metadata": {},
   "outputs": [],
   "source": [
    "X = X.drop(columns=['customer_zipcode'])"
   ]
  },
  {
   "cell_type": "code",
   "execution_count": 234,
   "metadata": {},
   "outputs": [],
   "source": [
    "X = X.drop(columns=['is_fraud', 'order_month'])"
   ]
  },
  {
   "cell_type": "code",
   "execution_count": 235,
   "metadata": {},
   "outputs": [
    {
     "data": {
      "text/plain": [
       "Index(['type', 'estimated_ship_days', 'category_id', 'customer_id',\n",
       "       'customer_segment', 'department_name', 'latitude', 'longitude',\n",
       "       'market', 'order_date', 'order_id', 'order_item_discount_rate',\n",
       "       'order_item_profit_ratio', 'order_item_quantity', 'order_region',\n",
       "       'product_card_id', 'product_price', 'shipping_mode', 'order_hour',\n",
       "       'order_before_noon', 'order_month_name', 'order_weekday',\n",
       "       'order_hour2'],\n",
       "      dtype='object')"
      ]
     },
     "execution_count": 235,
     "metadata": {},
     "output_type": "execute_result"
    }
   ],
   "source": [
    "X.columns"
   ]
  },
  {
   "cell_type": "code",
   "execution_count": 246,
   "metadata": {},
   "outputs": [],
   "source": [
    "X_train, X_test, y_train, y_test = train_test_split(X, y, stratify=y)"
   ]
  },
  {
   "cell_type": "code",
   "execution_count": 247,
   "metadata": {},
   "outputs": [],
   "source": [
    "smart_encoder = make_column_transformer(\n",
    "    (OneHotEncoder(sparse=False), make_column_selector(dtype_include=object)),\n",
    "    remainder = 'passthrough'\n",
    ")"
   ]
  },
  {
   "cell_type": "code",
   "execution_count": 253,
   "metadata": {},
   "outputs": [],
   "source": [
    "X_train = smart_encoder.fit_transform(X_train)"
   ]
  },
  {
   "cell_type": "code",
   "execution_count": 254,
   "metadata": {},
   "outputs": [],
   "source": [
    "X_train = pd.DataFrame(X_train)"
   ]
  },
  {
   "cell_type": "code",
   "execution_count": 256,
   "metadata": {},
   "outputs": [],
   "source": [
    "X_test = smart_encoder.transform(X_test)"
   ]
  },
  {
   "cell_type": "code",
   "execution_count": 257,
   "metadata": {},
   "outputs": [],
   "source": [
    "X_test = pd.DataFrame(X_test)"
   ]
  },
  {
   "cell_type": "code",
   "execution_count": 258,
   "metadata": {},
   "outputs": [
    {
     "data": {
      "text/plain": [
       "(135389, 107)"
      ]
     },
     "execution_count": 258,
     "metadata": {},
     "output_type": "execute_result"
    }
   ],
   "source": [
    "X_train.shape"
   ]
  },
  {
   "cell_type": "code",
   "execution_count": 259,
   "metadata": {},
   "outputs": [
    {
     "data": {
      "text/plain": [
       "(45130, 107)"
      ]
     },
     "execution_count": 259,
     "metadata": {},
     "output_type": "execute_result"
    }
   ],
   "source": [
    "X_test.shape"
   ]
  },
  {
   "cell_type": "code",
   "execution_count": 260,
   "metadata": {},
   "outputs": [],
   "source": [
    "ss = StandardScaler()\n",
    "X_train_sc = ss.fit_transform(X_train)\n",
    "X_test_sc = ss.transform(X_test)"
   ]
  },
  {
   "cell_type": "code",
   "execution_count": 261,
   "metadata": {},
   "outputs": [],
   "source": [
    "X_train_sc = pd.DataFrame(X_train_sc)\n",
    "X_test_sc = pd.DataFrame(X_test_sc)"
   ]
  },
  {
   "cell_type": "code",
   "execution_count": 262,
   "metadata": {},
   "outputs": [],
   "source": [
    "lr = LogisticRegression()"
   ]
  },
  {
   "cell_type": "code",
   "execution_count": 266,
   "metadata": {},
   "outputs": [
    {
     "data": {
      "text/plain": [
       "LogisticRegression()"
      ]
     },
     "execution_count": 266,
     "metadata": {},
     "output_type": "execute_result"
    }
   ],
   "source": [
    "lr.fit(X_train_sc, y_train)"
   ]
  },
  {
   "cell_type": "code",
   "execution_count": 267,
   "metadata": {},
   "outputs": [
    {
     "data": {
      "text/plain": [
       "0.7197651229780634"
      ]
     },
     "execution_count": 267,
     "metadata": {},
     "output_type": "execute_result"
    }
   ],
   "source": [
    "lr.score(X_test_sc, y_test)"
   ]
  },
  {
   "cell_type": "code",
   "execution_count": 265,
   "metadata": {},
   "outputs": [],
   "source": [
    "dt = DecisionTreeClassifier()"
   ]
  },
  {
   "cell_type": "code",
   "execution_count": 268,
   "metadata": {},
   "outputs": [
    {
     "data": {
      "text/plain": [
       "DecisionTreeClassifier()"
      ]
     },
     "execution_count": 268,
     "metadata": {},
     "output_type": "execute_result"
    }
   ],
   "source": [
    "dt.fit(X_train_sc, y_train)"
   ]
  },
  {
   "cell_type": "code",
   "execution_count": 269,
   "metadata": {},
   "outputs": [
    {
     "data": {
      "text/plain": [
       "0.9145801019277643"
      ]
     },
     "execution_count": 269,
     "metadata": {},
     "output_type": "execute_result"
    }
   ],
   "source": [
    "dt.score(X_test_sc, y_test)"
   ]
  },
  {
   "cell_type": "code",
   "execution_count": 270,
   "metadata": {},
   "outputs": [],
   "source": [
    "rfc = RandomForestClassifier()"
   ]
  },
  {
   "cell_type": "code",
   "execution_count": 271,
   "metadata": {},
   "outputs": [
    {
     "data": {
      "text/plain": [
       "RandomForestClassifier()"
      ]
     },
     "execution_count": 271,
     "metadata": {},
     "output_type": "execute_result"
    }
   ],
   "source": [
    "rfc.fit(X_train_sc, y_train)"
   ]
  },
  {
   "cell_type": "code",
   "execution_count": 272,
   "metadata": {},
   "outputs": [
    {
     "data": {
      "text/plain": [
       "0.8818745845335697"
      ]
     },
     "execution_count": 272,
     "metadata": {},
     "output_type": "execute_result"
    }
   ],
   "source": [
    "rfc.score(X_test_sc, y_test)"
   ]
  },
  {
   "cell_type": "code",
   "execution_count": 273,
   "metadata": {},
   "outputs": [],
   "source": [
    "etc = ExtraTreesClassifier()"
   ]
  },
  {
   "cell_type": "code",
   "execution_count": 274,
   "metadata": {},
   "outputs": [
    {
     "data": {
      "text/plain": [
       "ExtraTreesClassifier()"
      ]
     },
     "execution_count": 274,
     "metadata": {},
     "output_type": "execute_result"
    }
   ],
   "source": [
    "etc.fit(X_train_sc, y_train)"
   ]
  },
  {
   "cell_type": "code",
   "execution_count": 275,
   "metadata": {},
   "outputs": [
    {
     "data": {
      "text/plain": [
       "0.928406824728562"
      ]
     },
     "execution_count": 275,
     "metadata": {},
     "output_type": "execute_result"
    }
   ],
   "source": [
    "etc.score(X_test_sc, y_test)"
   ]
  },
  {
   "cell_type": "code",
   "execution_count": 276,
   "metadata": {},
   "outputs": [],
   "source": [
    "abc = AdaBoostClassifier()"
   ]
  },
  {
   "cell_type": "code",
   "execution_count": 277,
   "metadata": {},
   "outputs": [
    {
     "data": {
      "text/plain": [
       "AdaBoostClassifier()"
      ]
     },
     "execution_count": 277,
     "metadata": {},
     "output_type": "execute_result"
    }
   ],
   "source": [
    "abc.fit(X_train_sc, y_train)"
   ]
  },
  {
   "cell_type": "code",
   "execution_count": 278,
   "metadata": {},
   "outputs": [
    {
     "data": {
      "text/plain": [
       "0.7206957677819632"
      ]
     },
     "execution_count": 278,
     "metadata": {},
     "output_type": "execute_result"
    }
   ],
   "source": [
    "abc.score(X_test_sc, y_test)"
   ]
  },
  {
   "cell_type": "code",
   "execution_count": 279,
   "metadata": {},
   "outputs": [],
   "source": [
    "gbc = GradientBoostingClassifier()"
   ]
  },
  {
   "cell_type": "code",
   "execution_count": 280,
   "metadata": {},
   "outputs": [
    {
     "data": {
      "text/plain": [
       "GradientBoostingClassifier()"
      ]
     },
     "execution_count": 280,
     "metadata": {},
     "output_type": "execute_result"
    }
   ],
   "source": [
    "gbc.fit(X_train_sc, y_train)"
   ]
  },
  {
   "cell_type": "code",
   "execution_count": 281,
   "metadata": {},
   "outputs": [
    {
     "data": {
      "text/plain": [
       "0.7238865499667627"
      ]
     },
     "execution_count": 281,
     "metadata": {},
     "output_type": "execute_result"
    }
   ],
   "source": [
    "gbc.score(X_test_sc, y_test)"
   ]
  },
  {
   "cell_type": "code",
   "execution_count": 282,
   "metadata": {},
   "outputs": [],
   "source": [
    "X = df.drop(columns=['category_name', 'customer_city', 'customer_state', 'order_city', 'order_country', 'order_state', 'product_name'])"
   ]
  },
  {
   "cell_type": "code",
   "execution_count": 283,
   "metadata": {},
   "outputs": [],
   "source": [
    "X = X.drop(columns=['actual_ship_days', 'late_delivery_risk', 'delivery_status', 'order_status', 'ship_performance', 'ontime'])"
   ]
  },
  {
   "cell_type": "code",
   "execution_count": 284,
   "metadata": {},
   "outputs": [],
   "source": [
    "X = X.drop(columns=['shipping_date', 'order_date', 'customer_zipcode', 'is_fraud', 'order_month'])"
   ]
  },
  {
   "cell_type": "code",
   "execution_count": 285,
   "metadata": {},
   "outputs": [],
   "source": [
    "X_train, X_test, y_train, y_test = train_test_split(X, y, stratify=y)"
   ]
  },
  {
   "cell_type": "code",
   "execution_count": 286,
   "metadata": {},
   "outputs": [],
   "source": [
    "smart_encoder = make_column_transformer(\n",
    "    (OneHotEncoder(sparse=False), make_column_selector(dtype_include=object)),\n",
    "    remainder = 'passthrough'\n",
    ")"
   ]
  },
  {
   "cell_type": "code",
   "execution_count": 287,
   "metadata": {},
   "outputs": [],
   "source": [
    "X_train = smart_encoder.fit_transform(X_train)\n",
    "X_test = smart_encoder.transform(X_test)"
   ]
  },
  {
   "cell_type": "code",
   "execution_count": 288,
   "metadata": {},
   "outputs": [],
   "source": [
    "X_train = pd.DataFrame(X_train)\n",
    "X_test = pd.DataFrame(X_test)"
   ]
  },
  {
   "cell_type": "code",
   "execution_count": 289,
   "metadata": {},
   "outputs": [],
   "source": [
    "ss = StandardScaler()\n",
    "X_train_sc = ss.fit_transform(X_train)\n",
    "X_test_sc = ss.transform(X_test)"
   ]
  },
  {
   "cell_type": "code",
   "execution_count": 290,
   "metadata": {},
   "outputs": [],
   "source": [
    "X_train_sc = pd.DataFrame(X_train_sc)\n",
    "X_test_sc = pd.DataFrame(X_test_sc)"
   ]
  },
  {
   "cell_type": "code",
   "execution_count": 291,
   "metadata": {},
   "outputs": [
    {
     "name": "stdout",
     "output_type": "stream",
     "text": [
      "LogisticRegression() training score: 0.7204795071977782\n",
      "LogisticRegression() testing score: 0.7187901617549302\n"
     ]
    }
   ],
   "source": [
    "pipe(LogisticRegression)"
   ]
  },
  {
   "cell_type": "code",
   "execution_count": 292,
   "metadata": {},
   "outputs": [
    {
     "name": "stdout",
     "output_type": "stream",
     "text": [
      "DecisionTreeClassifier() training score: 1.0\n",
      "DecisionTreeClassifier() testing score: 0.9089519166851319\n"
     ]
    }
   ],
   "source": [
    "pipe(DecisionTreeClassifier)"
   ]
  },
  {
   "cell_type": "code",
   "execution_count": 293,
   "metadata": {},
   "outputs": [
    {
     "name": "stdout",
     "output_type": "stream",
     "text": [
      "RandomForestClassifier() training score: 1.0\n",
      "RandomForestClassifier() testing score: 0.8732107245734545\n"
     ]
    }
   ],
   "source": [
    "pipe(RandomForestClassifier)"
   ]
  },
  {
   "cell_type": "code",
   "execution_count": 294,
   "metadata": {},
   "outputs": [
    {
     "name": "stdout",
     "output_type": "stream",
     "text": [
      "ExtraTreesClassifier() training score: 1.0\n",
      "ExtraTreesClassifier() testing score: 0.9253711500110791\n"
     ]
    }
   ],
   "source": [
    "pipe(ExtraTreesClassifier)"
   ]
  },
  {
   "cell_type": "code",
   "execution_count": 296,
   "metadata": {},
   "outputs": [],
   "source": [
    "dt = DecisionTreeClassifier()"
   ]
  },
  {
   "cell_type": "code",
   "execution_count": 299,
   "metadata": {},
   "outputs": [
    {
     "data": {
      "text/plain": [
       "DecisionTreeClassifier()"
      ]
     },
     "execution_count": 299,
     "metadata": {},
     "output_type": "execute_result"
    }
   ],
   "source": [
    "dt.fit(X_train_sc, y_train)"
   ]
  },
  {
   "cell_type": "code",
   "execution_count": 300,
   "metadata": {},
   "outputs": [
    {
     "data": {
      "text/plain": [
       "0.9093064480389984"
      ]
     },
     "execution_count": 300,
     "metadata": {},
     "output_type": "execute_result"
    }
   ],
   "source": [
    "dt.score(X_test_sc, y_test)"
   ]
  },
  {
   "cell_type": "code",
   "execution_count": 301,
   "metadata": {},
   "outputs": [],
   "source": [
    "prob_preds = dt.predict(X_test_sc)"
   ]
  },
  {
   "cell_type": "code",
   "execution_count": 302,
   "metadata": {},
   "outputs": [
    {
     "data": {
      "text/plain": [
       "array([0, 0, 0, ..., 0, 1, 1])"
      ]
     },
     "execution_count": 302,
     "metadata": {},
     "output_type": "execute_result"
    }
   ],
   "source": [
    "prob_preds.round(2)"
   ]
  },
  {
   "cell_type": "code",
   "execution_count": 303,
   "metadata": {},
   "outputs": [
    {
     "data": {
      "text/plain": [
       "<tf.Tensor: shape=(2, 2), dtype=int32, numpy=\n",
       "array([[23819,  2031],\n",
       "       [ 2062, 17218]], dtype=int32)>"
      ]
     },
     "execution_count": 303,
     "metadata": {},
     "output_type": "execute_result"
    }
   ],
   "source": [
    "tf.math.confusion_matrix(labels=y_test, predictions=prob_preds)"
   ]
  },
  {
   "cell_type": "code",
   "execution_count": 304,
   "metadata": {},
   "outputs": [],
   "source": [
    "conf_matrix = confusion_matrix(y_test, prob_preds.round())"
   ]
  },
  {
   "cell_type": "code",
   "execution_count": 305,
   "metadata": {},
   "outputs": [
    {
     "data": {
      "image/png": "[encoded data removed]",
      "text/plain": [
       "<Figure size 432x288 with 2 Axes>"
      ]
     },
     "metadata": {
      "needs_background": "light"
     },
     "output_type": "display_data"
    }
   ],
   "source": [
    "ax = sns.heatmap(conf_matrix, annot=True, cmap='Reds')\n",
    "\n",
    "ax.set_xlabel('Predicted')\n",
    "ax.set_ylabel('Actual');\n",
    "\n",
    "ax.xaxis.set_ticklabels(['False','True'])\n",
    "ax.yaxis.set_ticklabels(['False','True'])\n",
    "\n",
    "plt.show();\n",
    "\n",
    "# from:\n",
    "# https://www.stackvidhya.com/plot-confusion-matrix-in-python-and-why/"
   ]
  },
  {
   "cell_type": "code",
   "execution_count": 306,
   "metadata": {},
   "outputs": [],
   "source": [
    "model = Sequential()\n",
    "model.add(BatchNormalization())\n",
    "model.add(Dense(20, activation='relu'))\n",
    "model.add(Dense(10, activation='relu'))\n",
    "model.add(Dense(1, activation='sigmoid'))\n",
    "\n",
    "# from:\n",
    "# https://keras.io/api/layers/normalization_layers/batch_normalization/\n",
    "# https://machinelearningmastery.com/how-to-accelerate-learning-of-deep-neural-networks-with-batch-normalization/"
   ]
  },
  {
   "cell_type": "code",
   "execution_count": 309,
   "metadata": {},
   "outputs": [],
   "source": [
    "model.compile(loss='BinaryCrossentropy', optimizer='adam', metrics=['accuracy', 'Recall', 'Precision'])"
   ]
  },
  {
   "cell_type": "code",
   "execution_count": 310,
   "metadata": {},
   "outputs": [
    {
     "name": "stdout",
     "output_type": "stream",
     "text": [
      "Epoch 1/50\n",
      "8462/8462 [==============================] - 15s 1ms/step - loss: 0.5162 - accuracy: 0.7148 - recall: 0.8579 - precision: 0.6201\n",
      "Epoch 2/50\n",
      "8462/8462 [==============================] - 11s 1ms/step - loss: 0.5001 - accuracy: 0.7232 - recall: 0.9036 - precision: 0.6210\n",
      "Epoch 3/50\n",
      "8462/8462 [==============================] - 11s 1ms/step - loss: 0.4986 - accuracy: 0.7233 - recall: 0.9002 - precision: 0.6216\n",
      "Epoch 4/50\n",
      "8462/8462 [==============================] - 11s 1ms/step - loss: 0.4973 - accuracy: 0.7236 - recall: 0.8947 - precision: 0.6229\n",
      "Epoch 5/50\n",
      "8462/8462 [==============================] - 11s 1ms/step - loss: 0.4963 - accuracy: 0.7240 - recall: 0.8891 - precision: 0.6243\n",
      "Epoch 6/50\n",
      "8462/8462 [==============================] - 11s 1ms/step - loss: 0.4949 - accuracy: 0.7247 - recall: 0.8785 - precision: 0.6268: 1s - loss: 0.4946 - accuracy: 0.7250 - recall: 0.879\n",
      "Epoch 7/50\n",
      "8462/8462 [==============================] - 11s 1ms/step - loss: 0.4930 - accuracy: 0.7271 - recall: 0.8647 - precision: 0.6321\n",
      "Epoch 8/50\n",
      "8462/8462 [==============================] - 11s 1ms/step - loss: 0.4908 - accuracy: 0.7279 - recall: 0.8485 - precision: 0.6361\n",
      "Epoch 9/50\n",
      "8462/8462 [==============================] - 12s 1ms/step - loss: 0.4862 - accuracy: 0.7314 - recall: 0.8242 - precision: 0.6453\n",
      "Epoch 10/50\n",
      "8462/8462 [==============================] - 11s 1ms/step - loss: 0.4819 - accuracy: 0.7338 - recall: 0.7982 - precision: 0.6546\n",
      "Epoch 11/50\n",
      "8462/8462 [==============================] - 11s 1ms/step - loss: 0.4787 - accuracy: 0.7386 - recall: 0.7821 - precision: 0.6650\n",
      "Epoch 12/50\n",
      "8462/8462 [==============================] - 11s 1ms/step - loss: 0.4764 - accuracy: 0.7419 - recall: 0.7720 - precision: 0.6723\n",
      "Epoch 13/50\n",
      "8462/8462 [==============================] - 11s 1ms/step - loss: 0.4736 - accuracy: 0.7436 - recall: 0.7661 - precision: 0.6766: 7s - loss:\n",
      "Epoch 14/50\n",
      "8462/8462 [==============================] - 11s 1ms/step - loss: 0.4723 - accuracy: 0.7438 - recall: 0.7633 - precision: 0.6777\n",
      "Epoch 15/50\n",
      "8462/8462 [==============================] - 12s 1ms/step - loss: 0.4709 - accuracy: 0.7453 - recall: 0.7581 - precision: 0.6815\n",
      "Epoch 16/50\n",
      "8462/8462 [==============================] - 11s 1ms/step - loss: 0.4697 - accuracy: 0.7471 - recall: 0.7548 - precision: 0.6852\n",
      "Epoch 17/50\n",
      "8462/8462 [==============================] - 11s 1ms/step - loss: 0.4693 - accuracy: 0.7482 - recall: 0.7535 - precision: 0.6872\n",
      "Epoch 18/50\n",
      "8462/8462 [==============================] - 13s 2ms/step - loss: 0.4681 - accuracy: 0.7500 - recall: 0.7490 - precision: 0.6915: 2s - loss:\n",
      "Epoch 19/50\n",
      "8462/8462 [==============================] - 12s 1ms/step - loss: 0.4672 - accuracy: 0.7505 - recall: 0.7496 - precision: 0.6920\n",
      "Epoch 20/50\n",
      "8462/8462 [==============================] - 11s 1ms/step - loss: 0.4679 - accuracy: 0.7502 - recall: 0.7467 - precision: 0.6926\n",
      "Epoch 21/50\n",
      "8462/8462 [==============================] - 12s 1ms/step - loss: 0.4665 - accuracy: 0.7510 - recall: 0.7455 - precision: 0.6943\n",
      "Epoch 22/50\n",
      "8462/8462 [==============================] - 11s 1ms/step - loss: 0.4652 - accuracy: 0.7536 - recall: 0.7449 - precision: 0.6985\n",
      "Epoch 23/50\n",
      "8462/8462 [==============================] - 11s 1ms/step - loss: 0.4659 - accuracy: 0.7520 - recall: 0.7419 - precision: 0.6971\n",
      "Epoch 24/50\n",
      "8462/8462 [==============================] - 11s 1ms/step - loss: 0.4649 - accuracy: 0.7522 - recall: 0.7434 - precision: 0.6968\n",
      "Epoch 25/50\n",
      "8462/8462 [==============================] - 12s 1ms/step - loss: 0.4650 - accuracy: 0.7525 - recall: 0.7426 - precision: 0.6976: 1s - loss: 0.4656 - accuracy: 0.7515 \n",
      "Epoch 26/50\n",
      "8462/8462 [==============================] - 11s 1ms/step - loss: 0.4644 - accuracy: 0.7532 - recall: 0.7416 - precision: 0.6990\n",
      "Epoch 27/50\n",
      "8462/8462 [==============================] - 11s 1ms/step - loss: 0.4644 - accuracy: 0.7544 - recall: 0.7437 - precision: 0.7000: 3s - los\n",
      "Epoch 28/50\n",
      "8462/8462 [==============================] - 11s 1ms/step - loss: 0.4645 - accuracy: 0.7529 - recall: 0.7396 - precision: 0.6993\n",
      "Epoch 29/50\n",
      "8462/8462 [==============================] - 11s 1ms/step - loss: 0.4644 - accuracy: 0.7531 - recall: 0.7399 - precision: 0.6995\n",
      "Epoch 30/50\n",
      "8462/8462 [==============================] - 11s 1ms/step - loss: 0.4631 - accuracy: 0.7556 - recall: 0.7400 - precision: 0.7034\n",
      "Epoch 31/50\n",
      "8462/8462 [==============================] - 11s 1ms/step - loss: 0.4632 - accuracy: 0.7542 - recall: 0.7382 - precision: 0.7018\n",
      "Epoch 32/50\n",
      "8462/8462 [==============================] - 11s 1ms/step - loss: 0.4635 - accuracy: 0.7539 - recall: 0.7397 - precision: 0.7008\n",
      "Epoch 33/50\n",
      "8462/8462 [==============================] - 11s 1ms/step - loss: 0.4631 - accuracy: 0.7545 - recall: 0.7397 - precision: 0.7018\n",
      "Epoch 34/50\n",
      "8462/8462 [==============================] - 11s 1ms/step - loss: 0.4621 - accuracy: 0.7553 - recall: 0.7417 - precision: 0.7022\n",
      "Epoch 35/50\n",
      "8462/8462 [==============================] - 11s 1ms/step - loss: 0.4617 - accuracy: 0.7548 - recall: 0.7394 - precision: 0.7023\n",
      "Epoch 36/50\n",
      "8462/8462 [==============================] - 11s 1ms/step - loss: 0.4624 - accuracy: 0.7544 - recall: 0.7375 - precision: 0.7024\n",
      "Epoch 37/50\n",
      "8462/8462 [==============================] - 11s 1ms/step - loss: 0.4617 - accuracy: 0.7557 - recall: 0.7385 - precision: 0.7041\n",
      "Epoch 38/50\n",
      "8462/8462 [==============================] - 11s 1ms/step - loss: 0.4623 - accuracy: 0.7547 - recall: 0.7371 - precision: 0.7031\n",
      "Epoch 39/50\n",
      "8462/8462 [==============================] - 11s 1ms/step - loss: 0.4619 - accuracy: 0.7553 - recall: 0.7398 - precision: 0.7030\n",
      "Epoch 40/50\n",
      "8462/8462 [==============================] - 11s 1ms/step - loss: 0.4615 - accuracy: 0.7547 - recall: 0.7371 - precision: 0.7031\n",
      "Epoch 41/50\n",
      "8462/8462 [==============================] - 11s 1ms/step - loss: 0.4613 - accuracy: 0.7555 - recall: 0.7369 - precision: 0.7045\n",
      "Epoch 42/50\n",
      "8462/8462 [==============================] - 11s 1ms/step - loss: 0.4612 - accuracy: 0.7560 - recall: 0.7389 - precision: 0.7044\n",
      "Epoch 43/50\n",
      "8462/8462 [==============================] - 11s 1ms/step - loss: 0.4609 - accuracy: 0.7561 - recall: 0.7392 - precision: 0.7045\n",
      "Epoch 44/50\n",
      "8462/8462 [==============================] - 11s 1ms/step - loss: 0.4607 - accuracy: 0.7566 - recall: 0.7389 - precision: 0.7054\n",
      "Epoch 45/50\n",
      "8462/8462 [==============================] - 11s 1ms/step - loss: 0.4603 - accuracy: 0.7561 - recall: 0.7383 - precision: 0.7048\n",
      "Epoch 46/50\n",
      "8462/8462 [==============================] - 11s 1ms/step - loss: 0.4613 - accuracy: 0.7553 - recall: 0.7377 - precision: 0.7038\n",
      "Epoch 47/50\n",
      "8462/8462 [==============================] - 11s 1ms/step - loss: 0.4607 - accuracy: 0.7562 - recall: 0.7360 - precision: 0.7058\n",
      "Epoch 48/50\n",
      "8462/8462 [==============================] - 12s 1ms/step - loss: 0.4608 - accuracy: 0.7563 - recall: 0.7373 - precision: 0.7055\n",
      "Epoch 49/50\n",
      "8462/8462 [==============================] - 11s 1ms/step - loss: 0.4608 - accuracy: 0.7557 - recall: 0.7373 - precision: 0.7046\n",
      "Epoch 50/50\n",
      "8462/8462 [==============================] - 11s 1ms/step - loss: 0.4600 - accuracy: 0.7569 - recall: 0.7367 - precision: 0.7067\n"
     ]
    }
   ],
   "source": [
    "history = model.fit(X_train_sc, y_train, batch_size=16, epochs=50)  "
   ]
  },
  {
   "cell_type": "code",
   "execution_count": 311,
   "metadata": {},
   "outputs": [],
   "source": [
    "preds = model.predict(X_test_sc)"
   ]
  },
  {
   "cell_type": "code",
   "execution_count": 313,
   "metadata": {},
   "outputs": [],
   "source": [
    "preds_rounded = preds.round()"
   ]
  },
  {
   "cell_type": "code",
   "execution_count": 314,
   "metadata": {},
   "outputs": [
    {
     "data": {
      "text/plain": [
       "0.7183609958506224"
      ]
     },
     "execution_count": 314,
     "metadata": {},
     "output_type": "execute_result"
    }
   ],
   "source": [
    "recall_score(y_test, preds_rounded)"
   ]
  },
  {
   "cell_type": "code",
   "execution_count": 315,
   "metadata": {},
   "outputs": [
    {
     "data": {
      "text/plain": [
       "0.7107302304100169"
      ]
     },
     "execution_count": 315,
     "metadata": {},
     "output_type": "execute_result"
    }
   ],
   "source": [
    "precision_score(y_test, preds_rounded)"
   ]
  },
  {
   "cell_type": "code",
   "execution_count": 316,
   "metadata": {},
   "outputs": [
    {
     "data": {
      "text/plain": [
       "0.7145252405396343"
      ]
     },
     "execution_count": 316,
     "metadata": {},
     "output_type": "execute_result"
    }
   ],
   "source": [
    "f1_score(y_test, preds_rounded)"
   ]
  },
  {
   "cell_type": "code",
   "execution_count": 317,
   "metadata": {},
   "outputs": [
    {
     "data": {
      "text/plain": [
       "0.7501476159137057"
      ]
     },
     "execution_count": 317,
     "metadata": {},
     "output_type": "execute_result"
    }
   ],
   "source": [
    "balanced_accuracy_score(y_test, preds_rounded)"
   ]
  },
  {
   "cell_type": "code",
   "execution_count": null,
   "metadata": {},
   "outputs": [],
   "source": []
  }
 ],
 "metadata": {
  "kernelspec": {
   "display_name": "Python 3",
   "language": "python",
   "name": "python3"
  },
  "language_info": {
   "codemirror_mode": {
    "name": "ipython",
    "version": 3
   },
   "file_extension": ".py",
   "mimetype": "text/x-python",
   "name": "python",
   "nbconvert_exporter": "python",
   "pygments_lexer": "ipython3",
   "version": "3.8.5"
  }
 },
 "nbformat": 4,
 "nbformat_minor": 4
}
